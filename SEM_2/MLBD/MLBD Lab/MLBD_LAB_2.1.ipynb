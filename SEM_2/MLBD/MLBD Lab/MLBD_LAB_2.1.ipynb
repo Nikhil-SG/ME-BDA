{
 "cells": [
  {
   "cell_type": "markdown",
   "metadata": {},
   "source": [
    "#                   McCulloch-Pitts neuron model"
   ]
  },
  {
   "cell_type": "markdown",
   "metadata": {},
   "source": [
    "# Testing the AND logic gate using the McCulloch-Pitts neuron with threshold 2"
   ]
  },
  {
   "cell_type": "code",
   "execution_count": 1,
   "metadata": {},
   "outputs": [
    {
     "name": "stdout",
     "output_type": "stream",
     "text": [
      "AND Gate Outputs with Bias and Threshold 2:\n",
      "Input: (0, 0) -> Output: 0\n",
      "Input: (0, 1) -> Output: 0\n",
      "Input: (1, 0) -> Output: 0\n",
      "Input: (1, 1) -> Output: 1\n"
     ]
    }
   ],
   "source": [
    "def mcculloch_pitts_neuron_and(x1, x2, w1=1, w2=1, bias=0, theta=2):\n",
    "    # Calculate the weighted sum with the bias\n",
    "    weighted_sum = w1 * x1 + w2 * x2 + bias\n",
    "    \n",
    "    # Apply the threshold function\n",
    "    if weighted_sum >= theta:\n",
    "        return 1\n",
    "    else:\n",
    "        return 0\n",
    "\n",
    "print(\"AND Gate Outputs with Bias and Threshold 2:\")\n",
    "print(f\"Input: (0, 0) -> Output: {mcculloch_pitts_neuron_and(0, 0)}\")\n",
    "print(f\"Input: (0, 1) -> Output: {mcculloch_pitts_neuron_and(0, 1)}\")\n",
    "print(f\"Input: (1, 0) -> Output: {mcculloch_pitts_neuron_and(1, 0)}\")\n",
    "print(f\"Input: (1, 1) -> Output: {mcculloch_pitts_neuron_and(1, 1)}\")"
   ]
  },
  {
   "cell_type": "markdown",
   "metadata": {},
   "source": [
    "# Testing the OR logic gate using the McCulloch-Pitts neuron with threshold 0.5"
   ]
  },
  {
   "cell_type": "code",
   "execution_count": 2,
   "metadata": {},
   "outputs": [
    {
     "name": "stdout",
     "output_type": "stream",
     "text": [
      "OR Gate Outputs with Bias and Threshold 0.5:\n",
      "Input: (0, 0) -> Output: 0\n",
      "Input: (0, 1) -> Output: 1\n",
      "Input: (1, 0) -> Output: 1\n",
      "Input: (1, 1) -> Output: 1\n"
     ]
    }
   ],
   "source": [
    "def mcculloch_pitts_neuron_or(x1, x2, w1=1, w2=1, bias=0, theta=0.5):\n",
    "    # Calculate the weighted sum with the bias\n",
    "    weighted_sum = w1 * x1 + w2 * x2 + bias\n",
    "    \n",
    "    # Apply the threshold function\n",
    "    if weighted_sum >= theta:\n",
    "        return 1\n",
    "    else:\n",
    "        return 0\n",
    "\n",
    "\n",
    "print(\"OR Gate Outputs with Bias and Threshold 0.5:\")\n",
    "print(f\"Input: (0, 0) -> Output: {mcculloch_pitts_neuron_or(0, 0)}\")\n",
    "print(f\"Input: (0, 1) -> Output: {mcculloch_pitts_neuron_or(0, 1)}\")\n",
    "print(f\"Input: (1, 0) -> Output: {mcculloch_pitts_neuron_or(1, 0)}\")\n",
    "print(f\"Input: (1, 1) -> Output: {mcculloch_pitts_neuron_or(1, 1)}\")"
   ]
  },
  {
   "cell_type": "markdown",
   "metadata": {},
   "source": [
    "# Testing the NOT logic gate using the McCulloch-Pitts neuron with bias 0.5 and threshold 0"
   ]
  },
  {
   "cell_type": "code",
   "execution_count": 3,
   "metadata": {},
   "outputs": [
    {
     "name": "stdout",
     "output_type": "stream",
     "text": [
      "NOT Gate Outputs with Bias 0.5 and Threshold 0:\n",
      "Input: 0 -> Output: 1\n",
      "Input: 1 -> Output: 0\n"
     ]
    }
   ],
   "source": [
    "def mcculloch_pitts_neuron_not(x1, w1=-1, bias=0.5, theta=0):\n",
    "    # Calculate the weighted sum with the bias\n",
    "    weighted_sum = w1 * x1 + bias\n",
    "    \n",
    "    # Apply the threshold function\n",
    "    if weighted_sum >= theta:\n",
    "        return 1  # Output 1 when weighted sum is >= threshold\n",
    "    else:\n",
    "        return 0  # Output 0 when weighted sum is < threshold\n",
    "\n",
    "# Testing the NOT logic gate using the McCulloch-Pitts neuron with bias 0.5 and threshold 0\n",
    "print(\"NOT Gate Outputs with Bias 0.5 and Threshold 0:\")\n",
    "print(f\"Input: 0 -> Output: {mcculloch_pitts_neuron_not(0)}\")\n",
    "print(f\"Input: 1 -> Output: {mcculloch_pitts_neuron_not(1)}\")"
   ]
  },
  {
   "cell_type": "markdown",
   "metadata": {},
   "source": [
    "# Testing the NAND logic gate using the McCulloch-Pitts neuron with threshold 2"
   ]
  },
  {
   "cell_type": "code",
   "execution_count": 4,
   "metadata": {},
   "outputs": [
    {
     "name": "stdout",
     "output_type": "stream",
     "text": [
      "NAND Gate Outputs with Bias and Threshold 2:\n",
      "Input: (0, 0) -> Output: 1\n",
      "Input: (0, 1) -> Output: 1\n",
      "Input: (1, 0) -> Output: 1\n",
      "Input: (1, 1) -> Output: 0\n"
     ]
    }
   ],
   "source": [
    "def mcculloch_pitts_neuron_nand(x1, x2, w1=1, w2=1, bias=0, theta=2):\n",
    "    # Calculate the weighted sum with the bias\n",
    "    weighted_sum = w1 * x1 + w2 * x2 + bias\n",
    "    \n",
    "    # Apply the threshold function\n",
    "    if weighted_sum >= theta:\n",
    "        return 0  # Output 0 for NAND when weighted sum is >= threshold\n",
    "    else:\n",
    "        return 1  # Output 1 for NAND when weighted sum is < threshold\n",
    "\n",
    "print(\"NAND Gate Outputs with Bias and Threshold 2:\")\n",
    "print(f\"Input: (0, 0) -> Output: {mcculloch_pitts_neuron_nand(0, 0)}\")\n",
    "print(f\"Input: (0, 1) -> Output: {mcculloch_pitts_neuron_nand(0, 1)}\")\n",
    "print(f\"Input: (1, 0) -> Output: {mcculloch_pitts_neuron_nand(1, 0)}\")\n",
    "print(f\"Input: (1, 1) -> Output: {mcculloch_pitts_neuron_nand(1, 1)}\")"
   ]
  },
  {
   "cell_type": "markdown",
   "metadata": {},
   "source": [
    "# Testing the NOR logic gate using the McCulloch-Pitts neuron with bias -0.5 and threshold 0"
   ]
  },
  {
   "cell_type": "code",
   "execution_count": 10,
   "metadata": {},
   "outputs": [
    {
     "name": "stdout",
     "output_type": "stream",
     "text": [
      "NOR Gate Outputs with Bias -0.5 and Threshold 0:\n",
      "Input: (0, 0) -> Output: 1\n",
      "Input: (0, 1) -> Output: 0\n",
      "Input: (1, 0) -> Output: 0\n",
      "Input: (1, 1) -> Output: 0\n"
     ]
    }
   ],
   "source": [
    "def mcculloch_pitts_neuron_nor(x1, x2, w1=1, w2=1, bias=-0.5, theta=0):\n",
    "    # Calculate the weighted sum with the bias\n",
    "    weighted_sum = w1 * x1 + w2 * x2 + bias\n",
    "    \n",
    "    # Apply the threshold function\n",
    "    if weighted_sum >= theta:\n",
    "        return 0  # Output 0 for NOR when weighted sum is >= threshold\n",
    "    else:\n",
    "        return 1  # Output 1 for NOR when weighted sum is < threshold\n",
    "\n",
    "print(\"NOR Gate Outputs with Bias -0.5 and Threshold 0:\")\n",
    "print(f\"Input: (0, 0) -> Output: {mcculloch_pitts_neuron_nor(0, 0)}\")\n",
    "print(f\"Input: (0, 1) -> Output: {mcculloch_pitts_neuron_nor(0, 1)}\")\n",
    "print(f\"Input: (1, 0) -> Output: {mcculloch_pitts_neuron_nor(1, 0)}\")\n",
    "print(f\"Input: (1, 1) -> Output: {mcculloch_pitts_neuron_nor(1, 1)}\")"
   ]
  }
 ],
 "metadata": {
  "kernelspec": {
   "display_name": "MLBD",
   "language": "python",
   "name": "python3"
  },
  "language_info": {
   "codemirror_mode": {
    "name": "ipython",
    "version": 3
   },
   "file_extension": ".py",
   "mimetype": "text/x-python",
   "name": "python",
   "nbconvert_exporter": "python",
   "pygments_lexer": "ipython3",
   "version": "3.11.9"
  }
 },
 "nbformat": 4,
 "nbformat_minor": 2
}
