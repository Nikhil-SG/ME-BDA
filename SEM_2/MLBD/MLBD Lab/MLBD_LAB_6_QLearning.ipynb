{
 "cells": [
  {
   "cell_type": "code",
   "execution_count": 1,
   "id": "f1e7ae1d",
   "metadata": {},
   "outputs": [],
   "source": [
    "#RIL- Q-Leqarning ALgorithm Implementation\n",
    "import numpy as np\n",
    "import pylab as plt"
   ]
  },
  {
   "cell_type": "code",
   "execution_count": 2,
   "id": "319f6673",
   "metadata": {},
   "outputs": [],
   "source": [
    "#map cells to each point\n",
    "points_list=[(0,4),(4,3),(3,2),(3,1),(1,5),(4,5)]"
   ]
  },
  {
   "cell_type": "code",
   "execution_count": 3,
   "id": "79cc9928",
   "metadata": {},
   "outputs": [
    {
     "data": {
      "image/png": "[encoded data removed]",
      "text/plain": [
       "<Figure size 640x480 with 1 Axes>"
      ]
     },
     "metadata": {},
     "output_type": "display_data"
    }
   ],
   "source": [
    "goal=5\n",
    "import networkx as nx\n",
    "G=nx.Graph()\n",
    "G.add_edges_from(points_list)\n",
    "pos=nx.spring_layout(G)\n",
    "nx.draw_networkx_nodes(G,pos)\n",
    "nx.draw_networkx_edges(G,pos)\n",
    "nx.draw_networkx_labels(G,pos)\n",
    "plt.show()"
   ]
  },
  {
   "cell_type": "code",
   "execution_count": 4,
   "id": "44987aa9",
   "metadata": {},
   "outputs": [
    {
     "name": "stdout",
     "output_type": "stream",
     "text": [
      "[[ -1  -1  -1  -1   0  -1]\n",
      " [ -1  -1  -1   0  -1 100]\n",
      " [ -1  -1  -1   0  -1  -1]\n",
      " [ -1   0   0  -1   0  -1]\n",
      " [  0  -1  -1   0  -1 100]\n",
      " [ -1   0  -1  -1   0 100]]\n"
     ]
    }
   ],
   "source": [
    "#set reward matrix R\n",
    "R=np.array([[-1,-1,-1,-1,0,-1],\n",
    "            [-1,-1,-1,0,-1,100],\n",
    "            [-1,-1,-1,0,-1,-1],\n",
    "            [-1,0,0,-1,0,-1],\n",
    "            [0,-1,-1,0,-1,100],\n",
    "            [-1,0,-1,-1,0,100]])\n",
    "print(R)"
   ]
  },
  {
   "cell_type": "code",
   "execution_count": 5,
   "id": "0768a0f4",
   "metadata": {},
   "outputs": [
    {
     "name": "stdout",
     "output_type": "stream",
     "text": [
      "[[0. 0. 0. 0. 0. 0.]\n",
      " [0. 0. 0. 0. 0. 0.]\n",
      " [0. 0. 0. 0. 0. 0.]\n",
      " [0. 0. 0. 0. 0. 0.]\n",
      " [0. 0. 0. 0. 0. 0.]\n",
      " [0. 0. 0. 0. 0. 0.]]\n"
     ]
    }
   ],
   "source": [
    "#Initialize Q matrix\n",
    "Q=np.zeros((6,6))\n",
    "print(Q)"
   ]
  },
  {
   "cell_type": "code",
   "execution_count": 6,
   "id": "4e56b71a",
   "metadata": {},
   "outputs": [],
   "source": [
    "#set learning parameter gammma\n",
    "gamma=0.8"
   ]
  },
  {
   "cell_type": "code",
   "execution_count": 7,
   "id": "13e6bda5",
   "metadata": {},
   "outputs": [],
   "source": [
    "#this function returns all available actions in the state givcen as an arguemnt\n",
    "def available_actions(state):\n",
    "  current_state_row=R[state,:]\n",
    "  av_act=np.where(current_state_row>=0)[0]\n",
    "  return av_act"
   ]
  },
  {
   "cell_type": "code",
   "execution_count": 8,
   "id": "0eee41bb",
   "metadata": {},
   "outputs": [],
   "source": [
    "#Get available actions in the current state\n",
    "initial_state = 0\n",
    "available_act=available_actions(initial_state)"
   ]
  },
  {
   "cell_type": "code",
   "execution_count": 9,
   "id": "e3e9fc50",
   "metadata": {},
   "outputs": [],
   "source": [
    "#this function chooses at random which action to be performed within the range of all the available\n",
    "def sample_next_action(available_actions_range):\n",
    "  next_action=int(np.random.choice(available_act,1))\n",
    "  return next_action"
   ]
  },
  {
   "cell_type": "code",
   "execution_count": 10,
   "id": "3b557e02",
   "metadata": {},
   "outputs": [
    {
     "name": "stderr",
     "output_type": "stream",
     "text": [
      "C:\\Users\\MSIS\\AppData\\Local\\Temp\\ipykernel_456\\2739053116.py:3: DeprecationWarning: Conversion of an array with ndim > 0 to a scalar is deprecated, and will error in future. Ensure you extract a single element from your array before performing this operation. (Deprecated NumPy 1.25.)\n",
      "  next_action=int(np.random.choice(available_act,1))\n"
     ]
    }
   ],
   "source": [
    "#sample next action to be performed\n",
    "action=sample_next_action(available_act)"
   ]
  },
  {
   "cell_type": "code",
   "execution_count": 11,
   "id": "8f9a0f07",
   "metadata": {},
   "outputs": [
    {
     "name": "stderr",
     "output_type": "stream",
     "text": [
      "C:\\Users\\MSIS\\AppData\\Local\\Temp\\ipykernel_456\\3798253445.py:6: DeprecationWarning: Conversion of an array with ndim > 0 to a scalar is deprecated, and will error in future. Ensure you extract a single element from your array before performing this operation. (Deprecated NumPy 1.25.)\n",
      "  max_index=int(np.random.choice(max_index,size=1))\n"
     ]
    }
   ],
   "source": [
    "#this function updates the Q matrix according to the path selected and the Q learning algorith,\n",
    "def update(current_state,action,gamma):\n",
    "  max_index=np.where(Q[action,]==np.max(Q[action,:]))[0]\n",
    "\n",
    "  if max_index.shape[0]>1:\n",
    "    max_index=int(np.random.choice(max_index,size=1))\n",
    "  else:\n",
    "    max_index=int(max_index)\n",
    "  max_value=Q[action,max_index]\n",
    "\n",
    "  #Q learning formula\n",
    "  Q[current_state,action]=R[current_state,action]+gamma*max_value\n",
    "\n",
    "#update Q matrix\n",
    "update(initial_state,action,gamma)"
   ]
  },
  {
   "cell_type": "code",
   "execution_count": 12,
   "id": "0c173cd9",
   "metadata": {},
   "outputs": [
    {
     "name": "stderr",
     "output_type": "stream",
     "text": [
      "C:\\Users\\MSIS\\AppData\\Local\\Temp\\ipykernel_456\\2739053116.py:3: DeprecationWarning: Conversion of an array with ndim > 0 to a scalar is deprecated, and will error in future. Ensure you extract a single element from your array before performing this operation. (Deprecated NumPy 1.25.)\n",
      "  next_action=int(np.random.choice(available_act,1))\n",
      "C:\\Users\\MSIS\\AppData\\Local\\Temp\\ipykernel_456\\3798253445.py:6: DeprecationWarning: Conversion of an array with ndim > 0 to a scalar is deprecated, and will error in future. Ensure you extract a single element from your array before performing this operation. (Deprecated NumPy 1.25.)\n",
      "  max_index=int(np.random.choice(max_index,size=1))\n",
      "C:\\Users\\MSIS\\AppData\\Local\\Temp\\ipykernel_456\\3798253445.py:8: DeprecationWarning: Conversion of an array with ndim > 0 to a scalar is deprecated, and will error in future. Ensure you extract a single element from your array before performing this operation. (Deprecated NumPy 1.25.)\n",
      "  max_index=int(max_index)\n"
     ]
    }
   ],
   "source": [
    "#Training\n",
    "#Train over 10000 iterations. (Re-iterate the process above)\n",
    "for i in range(10000):\n",
    "  current_state=np.random.randint(0,int(Q.shape[0]))\n",
    "  available_act=available_actions(current_state)\n",
    "  action=sample_next_action(available_act)\n",
    "  update(current_state,action,gamma)"
   ]
  },
  {
   "cell_type": "code",
   "execution_count": 13,
   "id": "abf9da7d",
   "metadata": {},
   "outputs": [
    {
     "name": "stdout",
     "output_type": "stream",
     "text": [
      "Trained Q matrix:\n",
      "[[  0.    0.    0.    0.   80.    0. ]\n",
      " [  0.    0.    0.   64.    0.  100. ]\n",
      " [  0.    0.    0.   64.    0.    0. ]\n",
      " [  0.   80.   51.2   0.   80.    0. ]\n",
      " [ 64.    0.    0.   64.    0.  100. ]\n",
      " [  0.   80.    0.    0.   80.  100. ]]\n"
     ]
    }
   ],
   "source": [
    "#normalize the trained Q matrix\n",
    "print(\"Trained Q matrix:\")\n",
    "print(Q/np.max(Q)*100)"
   ]
  },
  {
   "cell_type": "code",
   "execution_count": 14,
   "id": "3f72f23f",
   "metadata": {},
   "outputs": [
    {
     "name": "stderr",
     "output_type": "stream",
     "text": [
      "C:\\Users\\MSIS\\AppData\\Local\\Temp\\ipykernel_456\\3514099611.py:12: DeprecationWarning: Conversion of an array with ndim > 0 to a scalar is deprecated, and will error in future. Ensure you extract a single element from your array before performing this operation. (Deprecated NumPy 1.25.)\n",
      "  next_step_index=int(next_step_index)\n",
      "C:\\Users\\MSIS\\AppData\\Local\\Temp\\ipykernel_456\\3514099611.py:10: DeprecationWarning: Conversion of an array with ndim > 0 to a scalar is deprecated, and will error in future. Ensure you extract a single element from your array before performing this operation. (Deprecated NumPy 1.25.)\n",
      "  next_step_index=int(np.random.choice(next_step_index,size=1))\n"
     ]
    }
   ],
   "source": [
    "#Testing\n",
    "\n",
    "#Goal state=5\n",
    "current_state=2\n",
    "steps=[current_state]\n",
    "\n",
    "while current_state!=5:\n",
    "  next_step_index=np.where(Q[current_state,:]==np.max(Q[current_state,:]))[0]\n",
    "  if next_step_index.shape[0]>1:\n",
    "    next_step_index=int(np.random.choice(next_step_index,size=1))\n",
    "  else:\n",
    "    next_step_index=int(next_step_index)\n",
    "\n",
    "  steps.append(next_step_index)\n",
    "  current_state=next_step_index"
   ]
  },
  {
   "cell_type": "code",
   "execution_count": 15,
   "id": "f7f13218",
   "metadata": {},
   "outputs": [
    {
     "name": "stdout",
     "output_type": "stream",
     "text": [
      "selected path:\n",
      "[2, 3, 4, 5]\n"
     ]
    }
   ],
   "source": [
    "#print selected sequence of steps\n",
    "print(\"selected path:\")\n",
    "print(steps)"
   ]
  }
 ],
 "metadata": {
  "kernelspec": {
   "display_name": "MLBD",
   "language": "python",
   "name": "python3"
  },
  "language_info": {
   "codemirror_mode": {
    "name": "ipython",
    "version": 3
   },
   "file_extension": ".py",
   "mimetype": "text/x-python",
   "name": "python",
   "nbconvert_exporter": "python",
   "pygments_lexer": "ipython3",
   "version": "3.11.9"
  }
 },
 "nbformat": 4,
 "nbformat_minor": 5
}
