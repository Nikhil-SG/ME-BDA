{
 "cells": [
  {
   "cell_type": "markdown",
   "id": "6b1370ea",
   "metadata": {},
   "source": [
    "# Machine Learning Analysis of World Bank Dataset"
   ]
  },
  {
   "cell_type": "code",
   "execution_count": null,
   "id": "fbfcf770",
   "metadata": {},
   "outputs": [],
   "source": [
    "\n",
    "# Import necessary libraries\n",
    "import pandas as pd\n",
    "import numpy as np\n",
    "import matplotlib.pyplot as plt\n",
    "import seaborn as sns\n",
    "from sklearn.model_selection import train_test_split\n",
    "from sklearn.linear_model import LinearRegression\n",
    "from sklearn.tree import DecisionTreeClassifier\n",
    "from sklearn.cluster import KMeans\n",
    "from sklearn.metrics import mean_squared_error, accuracy_score\n",
    "\n",
    "# Load the dataset\n",
    "file_path = '/mnt/data/API_8_DS2_en_csv_v2_3654.csv'\n",
    "data = pd.read_csv(file_path, skiprows=4)\n",
    "\n",
    "# Display dataset structure\n",
    "data.head()\n",
    "    "
   ]
  },
  {
   "cell_type": "markdown",
   "id": "c8f09455",
   "metadata": {},
   "source": [
    "## Step 1: Dataset Description"
   ]
  },
  {
   "cell_type": "code",
   "execution_count": null,
   "id": "30a27013",
   "metadata": {},
   "outputs": [],
   "source": [
    "\n",
    "# Dataset Overview\n",
    "print(\"Dataset Shape:\", data.shape)\n",
    "print(\"Dataset Info:\")\n",
    "data.info()\n",
    "\n",
    "# Check for missing values\n",
    "missing_values = data.isnull().sum()\n",
    "missing_values = missing_values[missing_values > 0]\n",
    "print(\"Missing Values:\n",
    "\", missing_values)\n",
    "\n",
    "# Drop irrelevant columns\n",
    "data_cleaned = data.drop(columns=['Unnamed: 68'])\n",
    "data_cleaned.head()\n",
    "    "
   ]
  },
  {
   "cell_type": "markdown",
   "id": "6e7dfba0",
   "metadata": {},
   "source": [
    "## Step 2: Exploratory Data Analysis (EDA)"
   ]
  },
  {
   "cell_type": "code",
   "execution_count": null,
   "id": "f3f12d44",
   "metadata": {},
   "outputs": [],
   "source": [
    "\n",
    "# Visualize missing data\n",
    "sns.heatmap(data_cleaned.isnull(), cbar=False, cmap='viridis')\n",
    "plt.title(\"Missing Data Heatmap\")\n",
    "plt.show()\n",
    "\n",
    "# Analyze a single indicator\n",
    "indicator = \"SP.REG.BRTH.ZS\"  # Completeness of birth registration (%)\n",
    "indicator_data = data_cleaned[data_cleaned[\"Indicator Code\"] == indicator]\n",
    "indicator_data = indicator_data.set_index(\"Country Name\").iloc[:, 4:-1]  # Focus on years\n",
    "\n",
    "# Plot indicator trends\n",
    "indicator_data.T.plot(figsize=(15, 6))\n",
    "plt.title(\"Completeness of Birth Registration (%) Over Time\")\n",
    "plt.xlabel(\"Year\")\n",
    "plt.ylabel(\"% Completeness\")\n",
    "plt.legend([], frameon=False)\n",
    "plt.show()\n",
    "    "
   ]
  },
  {
   "cell_type": "markdown",
   "id": "b1b0f074",
   "metadata": {},
   "source": [
    "## Step 3: Prediction Using Regression (Linear Regression)"
   ]
  },
  {
   "cell_type": "code",
   "execution_count": null,
   "id": "63294092",
   "metadata": {},
   "outputs": [],
   "source": [
    "\n",
    "# Prepare data for regression\n",
    "indicator_data = indicator_data.dropna(axis=1, how='any')  # Remove years with missing data\n",
    "X = indicator_data.iloc[:, :-1].values  # All years except the last\n",
    "y = indicator_data.iloc[:, -1].values  # The last year\n",
    "\n",
    "# Train-test split\n",
    "X_train, X_test, y_train, y_test = train_test_split(X, y, test_size=0.2, random_state=42)\n",
    "\n",
    "# Linear Regression Model\n",
    "lr_model = LinearRegression()\n",
    "lr_model.fit(X_train, y_train)\n",
    "\n",
    "# Predictions\n",
    "y_pred = lr_model.predict(X_test)\n",
    "mse = mean_squared_error(y_test, y_pred)\n",
    "print(\"Linear Regression Mean Squared Error:\", mse)\n",
    "    "
   ]
  },
  {
   "cell_type": "markdown",
   "id": "5d7a1b9b",
   "metadata": {},
   "source": [
    "## Step 4: Clustering Analysis (k-Means)"
   ]
  },
  {
   "cell_type": "code",
   "execution_count": null,
   "id": "6b5aee93",
   "metadata": {},
   "outputs": [],
   "source": [
    "\n",
    "# Prepare data for clustering\n",
    "clustering_data = indicator_data.dropna(axis=0, how='any')  # Remove countries with missing data\n",
    "clustering_data_scaled = (clustering_data - clustering_data.mean()) / clustering_data.std()  # Normalize data\n",
    "\n",
    "# Apply k-Means\n",
    "kmeans = KMeans(n_clusters=3, random_state=42)\n",
    "clusters = kmeans.fit_predict(clustering_data_scaled)\n",
    "clustering_data[\"Cluster\"] = clusters\n",
    "\n",
    "# Visualize Clusters\n",
    "sns.pairplot(clustering_data, diag_kind='kde', hue=\"Cluster\")\n",
    "plt.show()\n",
    "    "
   ]
  },
  {
   "cell_type": "markdown",
   "id": "dc6101d6",
   "metadata": {},
   "source": [
    "## Step 5: Classification Using Decision Trees"
   ]
  },
  {
   "cell_type": "code",
   "execution_count": null,
   "id": "6f793d86",
   "metadata": {},
   "outputs": [],
   "source": [
    "\n",
    "# Prepare data for classification\n",
    "# Assume we classify based on completeness of birth registration\n",
    "classification_data = indicator_data.copy()\n",
    "classification_data[\"Category\"] = pd.qcut(classification_data.iloc[:, -1], q=3, labels=[\"Low\", \"Medium\", \"High\"])\n",
    "\n",
    "X_class = classification_data.iloc[:, :-2].values  # Features: all years except the last two columns\n",
    "y_class = classification_data[\"Category\"].values  # Target: categories\n",
    "\n",
    "# Train-test split\n",
    "X_train_class, X_test_class, y_train_class, y_test_class = train_test_split(X_class, y_class, test_size=0.2, random_state=42)\n",
    "\n",
    "# Decision Tree Classifier\n",
    "dt_model = DecisionTreeClassifier(random_state=42)\n",
    "dt_model.fit(X_train_class, y_train_class)\n",
    "\n",
    "# Predictions\n",
    "y_pred_class = dt_model.predict(X_test_class)\n",
    "accuracy = accuracy_score(y_test_class, y_pred_class)\n",
    "print(\"Decision Tree Accuracy:\", accuracy)\n",
    "    "
   ]
  },
  {
   "cell_type": "markdown",
   "id": "c4e9cd02",
   "metadata": {},
   "source": [
    "## Step 6: Summary of Results"
   ]
  },
  {
   "cell_type": "code",
   "execution_count": null,
   "id": "c6abcef5",
   "metadata": {},
   "outputs": [],
   "source": [
    "\n",
    "# Summary of Results\n",
    "print(\"Linear Regression MSE:\", mse)\n",
    "print(\"Decision Tree Classification Accuracy:\", accuracy)\n",
    "print(\"Clustering Results:\n",
    "\", clustering_data[\"Cluster\"].value_counts())\n",
    "    "
   ]
  }
 ],
 "metadata": {},
 "nbformat": 4,
 "nbformat_minor": 5
}