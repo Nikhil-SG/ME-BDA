{
  "cells": [
    {
      "cell_type": "code",
      "execution_count": 6,
      "metadata": {
        "colab": {
          "base_uri": "https://localhost:8080/"
        },
        "id": "lQv7Nq8d4QSb",
        "outputId": "65756f45-845d-4352-fb70-e7a00477a003"
      },
      "outputs": [
        {
          "name": "stdout",
          "output_type": "stream",
          "text": [
            "Collecting langchain-community==0.2.15\n",
            "  Using cached langchain_community-0.2.15-py3-none-any.whl.metadata (2.7 kB)\n",
            "Collecting langchain-chroma==0.1.3\n",
            "  Using cached langchain_chroma-0.1.3-py3-none-any.whl.metadata (1.5 kB)\n",
            "Collecting langchain-text-splitters==0.2.2\n",
            "  Using cached langchain_text_splitters-0.2.2-py3-none-any.whl.metadata (2.1 kB)\n",
            "Collecting langchain-huggingface==0.0.3\n",
            "  Using cached langchain_huggingface-0.0.3-py3-none-any.whl.metadata (1.2 kB)\n",
            "Collecting langchain-groq==0.1.9\n",
            "  Using cached langchain_groq-0.1.9-py3-none-any.whl.metadata (2.9 kB)\n",
            "Requirement already satisfied: unstructured==0.15.0 in d:\\bda_sem_2\\llm workshop\\msis_bda\\bda\\lib\\site-packages (0.15.0)\n",
            "Requirement already satisfied: nltk==3.8.1 in d:\\bda_sem_2\\llm workshop\\msis_bda\\bda\\lib\\site-packages (3.8.1)\n",
            "Requirement already satisfied: PyYAML>=5.3 in d:\\bda_sem_2\\llm workshop\\msis_bda\\bda\\lib\\site-packages (from langchain-community==0.2.15) (6.0.2)\n",
            "Requirement already satisfied: SQLAlchemy<3,>=1.4 in d:\\bda_sem_2\\llm workshop\\msis_bda\\bda\\lib\\site-packages (from langchain-community==0.2.15) (2.0.36)\n",
            "Requirement already satisfied: aiohttp<4.0.0,>=3.8.3 in d:\\bda_sem_2\\llm workshop\\msis_bda\\bda\\lib\\site-packages (from langchain-community==0.2.15) (3.11.11)\n",
            "Requirement already satisfied: dataclasses-json<0.7,>=0.5.7 in d:\\bda_sem_2\\llm workshop\\msis_bda\\bda\\lib\\site-packages (from langchain-community==0.2.15) (0.6.7)\n",
            "Collecting langchain<0.3.0,>=0.2.15 (from langchain-community==0.2.15)\n",
            "  Using cached langchain-0.2.17-py3-none-any.whl.metadata (7.1 kB)\n",
            "Collecting langchain-core<0.3.0,>=0.2.37 (from langchain-community==0.2.15)\n",
            "  Using cached langchain_core-0.2.43-py3-none-any.whl.metadata (6.2 kB)\n",
            "Requirement already satisfied: langsmith<0.2.0,>=0.1.0 in d:\\bda_sem_2\\llm workshop\\msis_bda\\bda\\lib\\site-packages (from langchain-community==0.2.15) (0.1.147)\n",
            "Requirement already satisfied: numpy<2,>=1 in d:\\bda_sem_2\\llm workshop\\msis_bda\\bda\\lib\\site-packages (from langchain-community==0.2.15) (1.26.4)\n",
            "Requirement already satisfied: requests<3,>=2 in d:\\bda_sem_2\\llm workshop\\msis_bda\\bda\\lib\\site-packages (from langchain-community==0.2.15) (2.32.3)\n",
            "Requirement already satisfied: tenacity!=8.4.0,<9.0.0,>=8.1.0 in d:\\bda_sem_2\\llm workshop\\msis_bda\\bda\\lib\\site-packages (from langchain-community==0.2.15) (8.5.0)\n",
            "Collecting chromadb!=0.5.4,!=0.5.5,<0.6.0,>=0.4.0 (from langchain-chroma==0.1.3)\n",
            "  Using cached chromadb-0.5.23-py3-none-any.whl.metadata (6.8 kB)\n",
            "Requirement already satisfied: fastapi<1,>=0.95.2 in d:\\bda_sem_2\\llm workshop\\msis_bda\\bda\\lib\\site-packages (from langchain-chroma==0.1.3) (0.115.6)\n",
            "Requirement already satisfied: huggingface-hub>=0.23.0 in d:\\bda_sem_2\\llm workshop\\msis_bda\\bda\\lib\\site-packages (from langchain-huggingface==0.0.3) (0.27.1)\n",
            "Collecting sentence-transformers>=2.6.0 (from langchain-huggingface==0.0.3)\n",
            "  Using cached sentence_transformers-3.3.1-py3-none-any.whl.metadata (10 kB)\n",
            "Requirement already satisfied: tokenizers>=0.19.1 in d:\\bda_sem_2\\llm workshop\\msis_bda\\bda\\lib\\site-packages (from langchain-huggingface==0.0.3) (0.20.3)\n",
            "Collecting transformers>=4.39.0 (from langchain-huggingface==0.0.3)\n",
            "  Using cached transformers-4.47.1-py3-none-any.whl.metadata (44 kB)\n",
            "Requirement already satisfied: groq<1,>=0.4.1 in d:\\bda_sem_2\\llm workshop\\msis_bda\\bda\\lib\\site-packages (from langchain-groq==0.1.9) (0.13.1)\n",
            "Requirement already satisfied: chardet in d:\\bda_sem_2\\llm workshop\\msis_bda\\bda\\lib\\site-packages (from unstructured==0.15.0) (5.2.0)\n",
            "Requirement already satisfied: filetype in d:\\bda_sem_2\\llm workshop\\msis_bda\\bda\\lib\\site-packages (from unstructured==0.15.0) (1.2.0)\n",
            "Requirement already satisfied: python-magic in d:\\bda_sem_2\\llm workshop\\msis_bda\\bda\\lib\\site-packages (from unstructured==0.15.0) (0.4.27)\n",
            "Requirement already satisfied: lxml in d:\\bda_sem_2\\llm workshop\\msis_bda\\bda\\lib\\site-packages (from unstructured==0.15.0) (5.3.0)\n",
            "Requirement already satisfied: tabulate in d:\\bda_sem_2\\llm workshop\\msis_bda\\bda\\lib\\site-packages (from unstructured==0.15.0) (0.9.0)\n",
            "Requirement already satisfied: beautifulsoup4 in d:\\bda_sem_2\\llm workshop\\msis_bda\\bda\\lib\\site-packages (from unstructured==0.15.0) (4.12.3)\n",
            "Requirement already satisfied: emoji in d:\\bda_sem_2\\llm workshop\\msis_bda\\bda\\lib\\site-packages (from unstructured==0.15.0) (2.14.0)\n",
            "Requirement already satisfied: python-iso639 in d:\\bda_sem_2\\llm workshop\\msis_bda\\bda\\lib\\site-packages (from unstructured==0.15.0) (2024.10.22)\n",
            "Requirement already satisfied: langdetect in d:\\bda_sem_2\\llm workshop\\msis_bda\\bda\\lib\\site-packages (from unstructured==0.15.0) (1.0.9)\n",
            "Requirement already satisfied: rapidfuzz in d:\\bda_sem_2\\llm workshop\\msis_bda\\bda\\lib\\site-packages (from unstructured==0.15.0) (3.11.0)\n",
            "Requirement already satisfied: backoff in d:\\bda_sem_2\\llm workshop\\msis_bda\\bda\\lib\\site-packages (from unstructured==0.15.0) (2.2.1)\n",
            "Requirement already satisfied: typing-extensions in d:\\bda_sem_2\\llm workshop\\msis_bda\\bda\\lib\\site-packages (from unstructured==0.15.0) (4.12.2)\n",
            "Requirement already satisfied: unstructured-client in d:\\bda_sem_2\\llm workshop\\msis_bda\\bda\\lib\\site-packages (from unstructured==0.15.0) (0.28.1)\n",
            "Requirement already satisfied: wrapt in d:\\bda_sem_2\\llm workshop\\msis_bda\\bda\\lib\\site-packages (from unstructured==0.15.0) (1.17.0)\n",
            "Requirement already satisfied: tqdm in d:\\bda_sem_2\\llm workshop\\msis_bda\\bda\\lib\\site-packages (from unstructured==0.15.0) (4.67.1)\n",
            "Requirement already satisfied: psutil in d:\\bda_sem_2\\llm workshop\\msis_bda\\bda\\lib\\site-packages (from unstructured==0.15.0) (6.1.1)\n",
            "Requirement already satisfied: click in d:\\bda_sem_2\\llm workshop\\msis_bda\\bda\\lib\\site-packages (from nltk==3.8.1) (8.1.8)\n",
            "Requirement already satisfied: joblib in d:\\bda_sem_2\\llm workshop\\msis_bda\\bda\\lib\\site-packages (from nltk==3.8.1) (1.4.2)\n",
            "Requirement already satisfied: regex>=2021.8.3 in d:\\bda_sem_2\\llm workshop\\msis_bda\\bda\\lib\\site-packages (from nltk==3.8.1) (2024.11.6)\n",
            "Requirement already satisfied: onnx in d:\\bda_sem_2\\llm workshop\\msis_bda\\bda\\lib\\site-packages (from unstructured[pdf]==0.15.0) (1.17.0)\n",
            "Requirement already satisfied: pdf2image in d:\\bda_sem_2\\llm workshop\\msis_bda\\bda\\lib\\site-packages (from unstructured[pdf]==0.15.0) (1.17.0)\n",
            "Requirement already satisfied: pdfminer.six in d:\\bda_sem_2\\llm workshop\\msis_bda\\bda\\lib\\site-packages (from unstructured[pdf]==0.15.0) (20231228)\n",
            "Requirement already satisfied: pikepdf in d:\\bda_sem_2\\llm workshop\\msis_bda\\bda\\lib\\site-packages (from unstructured[pdf]==0.15.0) (9.5.1)\n",
            "Requirement already satisfied: pillow-heif in d:\\bda_sem_2\\llm workshop\\msis_bda\\bda\\lib\\site-packages (from unstructured[pdf]==0.15.0) (0.21.0)\n",
            "Requirement already satisfied: pypdf in d:\\bda_sem_2\\llm workshop\\msis_bda\\bda\\lib\\site-packages (from unstructured[pdf]==0.15.0) (5.1.0)\n",
            "Requirement already satisfied: pytesseract in d:\\bda_sem_2\\llm workshop\\msis_bda\\bda\\lib\\site-packages (from unstructured[pdf]==0.15.0) (0.3.13)\n",
            "Collecting google-cloud-vision (from unstructured[pdf]==0.15.0)\n",
            "  Using cached google_cloud_vision-3.9.0-py2.py3-none-any.whl.metadata (5.3 kB)\n",
            "Collecting effdet (from unstructured[pdf]==0.15.0)\n",
            "  Using cached effdet-0.4.1-py3-none-any.whl.metadata (33 kB)\n",
            "Collecting unstructured-inference==0.7.36 (from unstructured[pdf]==0.15.0)\n",
            "  Using cached unstructured_inference-0.7.36-py3-none-any.whl.metadata (5.9 kB)\n",
            "Requirement already satisfied: unstructured.pytesseract>=0.3.12 in d:\\bda_sem_2\\llm workshop\\msis_bda\\bda\\lib\\site-packages (from unstructured[pdf]==0.15.0) (0.3.13)\n",
            "Collecting layoutparser (from unstructured-inference==0.7.36->unstructured[pdf]==0.15.0)\n",
            "  Using cached layoutparser-0.3.4-py3-none-any.whl.metadata (7.7 kB)\n",
            "Requirement already satisfied: python-multipart in d:\\bda_sem_2\\llm workshop\\msis_bda\\bda\\lib\\site-packages (from unstructured-inference==0.7.36->unstructured[pdf]==0.15.0) (0.0.20)\n",
            "Requirement already satisfied: opencv-python!=4.7.0.68 in d:\\bda_sem_2\\llm workshop\\msis_bda\\bda\\lib\\site-packages (from unstructured-inference==0.7.36->unstructured[pdf]==0.15.0) (4.10.0.84)\n",
            "Requirement already satisfied: onnxruntime>=1.17.0 in d:\\bda_sem_2\\llm workshop\\msis_bda\\bda\\lib\\site-packages (from unstructured-inference==0.7.36->unstructured[pdf]==0.15.0) (1.20.1)\n",
            "Requirement already satisfied: matplotlib in d:\\bda_sem_2\\llm workshop\\msis_bda\\bda\\lib\\site-packages (from unstructured-inference==0.7.36->unstructured[pdf]==0.15.0) (3.10.0)\n",
            "Requirement already satisfied: torch in d:\\bda_sem_2\\llm workshop\\msis_bda\\bda\\lib\\site-packages (from unstructured-inference==0.7.36->unstructured[pdf]==0.15.0) (2.5.1)\n",
            "Collecting timm (from unstructured-inference==0.7.36->unstructured[pdf]==0.15.0)\n",
            "  Using cached timm-1.0.12-py3-none-any.whl.metadata (51 kB)\n",
            "Requirement already satisfied: aiohappyeyeballs>=2.3.0 in d:\\bda_sem_2\\llm workshop\\msis_bda\\bda\\lib\\site-packages (from aiohttp<4.0.0,>=3.8.3->langchain-community==0.2.15) (2.4.4)\n",
            "Requirement already satisfied: aiosignal>=1.1.2 in d:\\bda_sem_2\\llm workshop\\msis_bda\\bda\\lib\\site-packages (from aiohttp<4.0.0,>=3.8.3->langchain-community==0.2.15) (1.3.2)\n",
            "Requirement already satisfied: attrs>=17.3.0 in d:\\bda_sem_2\\llm workshop\\msis_bda\\bda\\lib\\site-packages (from aiohttp<4.0.0,>=3.8.3->langchain-community==0.2.15) (24.3.0)\n",
            "Requirement already satisfied: frozenlist>=1.1.1 in d:\\bda_sem_2\\llm workshop\\msis_bda\\bda\\lib\\site-packages (from aiohttp<4.0.0,>=3.8.3->langchain-community==0.2.15) (1.5.0)\n",
            "Requirement already satisfied: multidict<7.0,>=4.5 in d:\\bda_sem_2\\llm workshop\\msis_bda\\bda\\lib\\site-packages (from aiohttp<4.0.0,>=3.8.3->langchain-community==0.2.15) (6.1.0)\n",
            "Requirement already satisfied: propcache>=0.2.0 in d:\\bda_sem_2\\llm workshop\\msis_bda\\bda\\lib\\site-packages (from aiohttp<4.0.0,>=3.8.3->langchain-community==0.2.15) (0.2.1)\n",
            "Requirement already satisfied: yarl<2.0,>=1.17.0 in d:\\bda_sem_2\\llm workshop\\msis_bda\\bda\\lib\\site-packages (from aiohttp<4.0.0,>=3.8.3->langchain-community==0.2.15) (1.18.3)\n",
            "Requirement already satisfied: build>=1.0.3 in d:\\bda_sem_2\\llm workshop\\msis_bda\\bda\\lib\\site-packages (from chromadb!=0.5.4,!=0.5.5,<0.6.0,>=0.4.0->langchain-chroma==0.1.3) (1.2.2.post1)\n",
            "Requirement already satisfied: pydantic>=1.9 in d:\\bda_sem_2\\llm workshop\\msis_bda\\bda\\lib\\site-packages (from chromadb!=0.5.4,!=0.5.5,<0.6.0,>=0.4.0->langchain-chroma==0.1.3) (2.9.2)\n",
            "Requirement already satisfied: chroma-hnswlib==0.7.6 in d:\\bda_sem_2\\llm workshop\\msis_bda\\bda\\lib\\site-packages (from chromadb!=0.5.4,!=0.5.5,<0.6.0,>=0.4.0->langchain-chroma==0.1.3) (0.7.6)\n",
            "Requirement already satisfied: uvicorn>=0.18.3 in d:\\bda_sem_2\\llm workshop\\msis_bda\\bda\\lib\\site-packages (from uvicorn[standard]>=0.18.3->chromadb!=0.5.4,!=0.5.5,<0.6.0,>=0.4.0->langchain-chroma==0.1.3) (0.34.0)\n",
            "Requirement already satisfied: posthog>=2.4.0 in d:\\bda_sem_2\\llm workshop\\msis_bda\\bda\\lib\\site-packages (from chromadb!=0.5.4,!=0.5.5,<0.6.0,>=0.4.0->langchain-chroma==0.1.3) (3.7.5)\n",
            "Requirement already satisfied: opentelemetry-api>=1.2.0 in d:\\bda_sem_2\\llm workshop\\msis_bda\\bda\\lib\\site-packages (from chromadb!=0.5.4,!=0.5.5,<0.6.0,>=0.4.0->langchain-chroma==0.1.3) (1.29.0)\n",
            "Collecting opentelemetry-exporter-otlp-proto-grpc>=1.2.0 (from chromadb!=0.5.4,!=0.5.5,<0.6.0,>=0.4.0->langchain-chroma==0.1.3)\n",
            "  Using cached opentelemetry_exporter_otlp_proto_grpc-1.29.0-py3-none-any.whl.metadata (2.2 kB)\n",
            "Collecting opentelemetry-instrumentation-fastapi>=0.41b0 (from chromadb!=0.5.4,!=0.5.5,<0.6.0,>=0.4.0->langchain-chroma==0.1.3)\n",
            "  Using cached opentelemetry_instrumentation_fastapi-0.50b0-py3-none-any.whl.metadata (2.1 kB)\n",
            "Collecting opentelemetry-sdk>=1.2.0 (from chromadb!=0.5.4,!=0.5.5,<0.6.0,>=0.4.0->langchain-chroma==0.1.3)\n",
            "  Using cached opentelemetry_sdk-1.29.0-py3-none-any.whl.metadata (1.5 kB)\n",
            "Requirement already satisfied: pypika>=0.48.9 in d:\\bda_sem_2\\llm workshop\\msis_bda\\bda\\lib\\site-packages (from chromadb!=0.5.4,!=0.5.5,<0.6.0,>=0.4.0->langchain-chroma==0.1.3) (0.48.9)\n",
            "Requirement already satisfied: overrides>=7.3.1 in d:\\bda_sem_2\\llm workshop\\msis_bda\\bda\\lib\\site-packages (from chromadb!=0.5.4,!=0.5.5,<0.6.0,>=0.4.0->langchain-chroma==0.1.3) (7.7.0)\n",
            "Requirement already satisfied: importlib-resources in d:\\bda_sem_2\\llm workshop\\msis_bda\\bda\\lib\\site-packages (from chromadb!=0.5.4,!=0.5.5,<0.6.0,>=0.4.0->langchain-chroma==0.1.3) (6.5.2)\n",
            "Requirement already satisfied: grpcio>=1.58.0 in d:\\bda_sem_2\\llm workshop\\msis_bda\\bda\\lib\\site-packages (from chromadb!=0.5.4,!=0.5.5,<0.6.0,>=0.4.0->langchain-chroma==0.1.3) (1.69.0)\n",
            "Requirement already satisfied: bcrypt>=4.0.1 in d:\\bda_sem_2\\llm workshop\\msis_bda\\bda\\lib\\site-packages (from chromadb!=0.5.4,!=0.5.5,<0.6.0,>=0.4.0->langchain-chroma==0.1.3) (4.2.1)\n",
            "Requirement already satisfied: typer>=0.9.0 in d:\\bda_sem_2\\llm workshop\\msis_bda\\bda\\lib\\site-packages (from chromadb!=0.5.4,!=0.5.5,<0.6.0,>=0.4.0->langchain-chroma==0.1.3) (0.15.1)\n",
            "Requirement already satisfied: kubernetes>=28.1.0 in d:\\bda_sem_2\\llm workshop\\msis_bda\\bda\\lib\\site-packages (from chromadb!=0.5.4,!=0.5.5,<0.6.0,>=0.4.0->langchain-chroma==0.1.3) (31.0.0)\n",
            "Requirement already satisfied: mmh3>=4.0.1 in d:\\bda_sem_2\\llm workshop\\msis_bda\\bda\\lib\\site-packages (from chromadb!=0.5.4,!=0.5.5,<0.6.0,>=0.4.0->langchain-chroma==0.1.3) (5.0.1)\n",
            "Requirement already satisfied: orjson>=3.9.12 in d:\\bda_sem_2\\llm workshop\\msis_bda\\bda\\lib\\site-packages (from chromadb!=0.5.4,!=0.5.5,<0.6.0,>=0.4.0->langchain-chroma==0.1.3) (3.10.13)\n",
            "Requirement already satisfied: httpx>=0.27.0 in d:\\bda_sem_2\\llm workshop\\msis_bda\\bda\\lib\\site-packages (from chromadb!=0.5.4,!=0.5.5,<0.6.0,>=0.4.0->langchain-chroma==0.1.3) (0.28.1)\n",
            "Requirement already satisfied: rich>=10.11.0 in d:\\bda_sem_2\\llm workshop\\msis_bda\\bda\\lib\\site-packages (from chromadb!=0.5.4,!=0.5.5,<0.6.0,>=0.4.0->langchain-chroma==0.1.3) (13.9.4)\n",
            "Requirement already satisfied: marshmallow<4.0.0,>=3.18.0 in d:\\bda_sem_2\\llm workshop\\msis_bda\\bda\\lib\\site-packages (from dataclasses-json<0.7,>=0.5.7->langchain-community==0.2.15) (3.24.1)\n",
            "Requirement already satisfied: typing-inspect<1,>=0.4.0 in d:\\bda_sem_2\\llm workshop\\msis_bda\\bda\\lib\\site-packages (from dataclasses-json<0.7,>=0.5.7->langchain-community==0.2.15) (0.9.0)\n",
            "Requirement already satisfied: starlette<0.42.0,>=0.40.0 in d:\\bda_sem_2\\llm workshop\\msis_bda\\bda\\lib\\site-packages (from fastapi<1,>=0.95.2->langchain-chroma==0.1.3) (0.41.3)\n",
            "Requirement already satisfied: anyio<5,>=3.5.0 in d:\\bda_sem_2\\llm workshop\\msis_bda\\bda\\lib\\site-packages (from groq<1,>=0.4.1->langchain-groq==0.1.9) (4.8.0)\n",
            "Requirement already satisfied: distro<2,>=1.7.0 in d:\\bda_sem_2\\llm workshop\\msis_bda\\bda\\lib\\site-packages (from groq<1,>=0.4.1->langchain-groq==0.1.9) (1.9.0)\n",
            "Requirement already satisfied: sniffio in d:\\bda_sem_2\\llm workshop\\msis_bda\\bda\\lib\\site-packages (from groq<1,>=0.4.1->langchain-groq==0.1.9) (1.3.1)\n",
            "Requirement already satisfied: filelock in d:\\bda_sem_2\\llm workshop\\msis_bda\\bda\\lib\\site-packages (from huggingface-hub>=0.23.0->langchain-huggingface==0.0.3) (3.16.1)\n",
            "Requirement already satisfied: fsspec>=2023.5.0 in d:\\bda_sem_2\\llm workshop\\msis_bda\\bda\\lib\\site-packages (from huggingface-hub>=0.23.0->langchain-huggingface==0.0.3) (2024.12.0)\n",
            "Requirement already satisfied: packaging>=20.9 in d:\\bda_sem_2\\llm workshop\\msis_bda\\bda\\lib\\site-packages (from huggingface-hub>=0.23.0->langchain-huggingface==0.0.3) (24.2)\n",
            "Requirement already satisfied: jsonpatch<2.0,>=1.33 in d:\\bda_sem_2\\llm workshop\\msis_bda\\bda\\lib\\site-packages (from langchain-core<0.3.0,>=0.2.37->langchain-community==0.2.15) (1.33)\n",
            "Requirement already satisfied: requests-toolbelt<2.0.0,>=1.0.0 in d:\\bda_sem_2\\llm workshop\\msis_bda\\bda\\lib\\site-packages (from langsmith<0.2.0,>=0.1.0->langchain-community==0.2.15) (1.0.0)\n",
            "Requirement already satisfied: charset-normalizer<4,>=2 in d:\\bda_sem_2\\llm workshop\\msis_bda\\bda\\lib\\site-packages (from requests<3,>=2->langchain-community==0.2.15) (3.4.1)\n",
            "Requirement already satisfied: idna<4,>=2.5 in d:\\bda_sem_2\\llm workshop\\msis_bda\\bda\\lib\\site-packages (from requests<3,>=2->langchain-community==0.2.15) (3.10)\n",
            "Requirement already satisfied: urllib3<3,>=1.21.1 in d:\\bda_sem_2\\llm workshop\\msis_bda\\bda\\lib\\site-packages (from requests<3,>=2->langchain-community==0.2.15) (2.3.0)\n",
            "Requirement already satisfied: certifi>=2017.4.17 in d:\\bda_sem_2\\llm workshop\\msis_bda\\bda\\lib\\site-packages (from requests<3,>=2->langchain-community==0.2.15) (2024.12.14)\n",
            "Requirement already satisfied: scikit-learn in d:\\bda_sem_2\\llm workshop\\msis_bda\\bda\\lib\\site-packages (from sentence-transformers>=2.6.0->langchain-huggingface==0.0.3) (1.6.0)\n",
            "Requirement already satisfied: scipy in d:\\bda_sem_2\\llm workshop\\msis_bda\\bda\\lib\\site-packages (from sentence-transformers>=2.6.0->langchain-huggingface==0.0.3) (1.15.0)\n",
            "Requirement already satisfied: Pillow in d:\\bda_sem_2\\llm workshop\\msis_bda\\bda\\lib\\site-packages (from sentence-transformers>=2.6.0->langchain-huggingface==0.0.3) (11.1.0)\n",
            "Requirement already satisfied: greenlet!=0.4.17 in d:\\bda_sem_2\\llm workshop\\msis_bda\\bda\\lib\\site-packages (from SQLAlchemy<3,>=1.4->langchain-community==0.2.15) (3.1.1)\n",
            "Requirement already satisfied: colorama in d:\\bda_sem_2\\llm workshop\\msis_bda\\bda\\lib\\site-packages (from tqdm->unstructured==0.15.0) (0.4.6)\n",
            "INFO: pip is looking at multiple versions of transformers to determine which version is compatible with other requirements. This could take a while.\n",
            "Collecting transformers>=4.39.0 (from langchain-huggingface==0.0.3)\n",
            "  Using cached transformers-4.47.0-py3-none-any.whl.metadata (43 kB)\n",
            "  Using cached transformers-4.46.3-py3-none-any.whl.metadata (44 kB)\n",
            "Requirement already satisfied: safetensors>=0.4.1 in d:\\bda_sem_2\\llm workshop\\msis_bda\\bda\\lib\\site-packages (from transformers>=4.39.0->langchain-huggingface==0.0.3) (0.5.0)\n",
            "Requirement already satisfied: soupsieve>1.2 in d:\\bda_sem_2\\llm workshop\\msis_bda\\bda\\lib\\site-packages (from beautifulsoup4->unstructured==0.15.0) (2.6)\n",
            "Requirement already satisfied: torchvision in d:\\bda_sem_2\\llm workshop\\msis_bda\\bda\\lib\\site-packages (from effdet->unstructured[pdf]==0.15.0) (0.20.1)\n",
            "Requirement already satisfied: pycocotools>=2.0.2 in d:\\bda_sem_2\\llm workshop\\msis_bda\\bda\\lib\\site-packages (from effdet->unstructured[pdf]==0.15.0) (2.0.8)\n",
            "Requirement already satisfied: omegaconf>=2.0 in d:\\bda_sem_2\\llm workshop\\msis_bda\\bda\\lib\\site-packages (from effdet->unstructured[pdf]==0.15.0) (2.3.0)\n",
            "Requirement already satisfied: google-api-core!=2.0.*,!=2.1.*,!=2.10.*,!=2.2.*,!=2.3.*,!=2.4.*,!=2.5.*,!=2.6.*,!=2.7.*,!=2.8.*,!=2.9.*,<3.0.0dev,>=1.34.1 in d:\\bda_sem_2\\llm workshop\\msis_bda\\bda\\lib\\site-packages (from google-api-core[grpc]!=2.0.*,!=2.1.*,!=2.10.*,!=2.2.*,!=2.3.*,!=2.4.*,!=2.5.*,!=2.6.*,!=2.7.*,!=2.8.*,!=2.9.*,<3.0.0dev,>=1.34.1->google-cloud-vision->unstructured[pdf]==0.15.0) (2.24.0)\n",
            "Requirement already satisfied: google-auth!=2.24.0,!=2.25.0,<3.0.0dev,>=2.14.1 in d:\\bda_sem_2\\llm workshop\\msis_bda\\bda\\lib\\site-packages (from google-cloud-vision->unstructured[pdf]==0.15.0) (2.37.0)\n",
            "Requirement already satisfied: proto-plus<2.0.0dev,>=1.22.3 in d:\\bda_sem_2\\llm workshop\\msis_bda\\bda\\lib\\site-packages (from google-cloud-vision->unstructured[pdf]==0.15.0) (1.25.0)\n",
            "Requirement already satisfied: protobuf!=4.21.0,!=4.21.1,!=4.21.2,!=4.21.3,!=4.21.4,!=4.21.5,<6.0.0dev,>=3.20.2 in d:\\bda_sem_2\\llm workshop\\msis_bda\\bda\\lib\\site-packages (from google-cloud-vision->unstructured[pdf]==0.15.0) (5.29.2)\n",
            "Requirement already satisfied: six in d:\\bda_sem_2\\llm workshop\\msis_bda\\bda\\lib\\site-packages (from langdetect->unstructured==0.15.0) (1.17.0)\n",
            "Requirement already satisfied: cryptography>=36.0.0 in d:\\bda_sem_2\\llm workshop\\msis_bda\\bda\\lib\\site-packages (from pdfminer.six->unstructured[pdf]==0.15.0) (44.0.0)\n",
            "Requirement already satisfied: Deprecated in d:\\bda_sem_2\\llm workshop\\msis_bda\\bda\\lib\\site-packages (from pikepdf->unstructured[pdf]==0.15.0) (1.2.15)\n",
            "Requirement already satisfied: aiofiles>=24.1.0 in d:\\bda_sem_2\\llm workshop\\msis_bda\\bda\\lib\\site-packages (from unstructured-client->unstructured==0.15.0) (24.1.0)\n",
            "Requirement already satisfied: eval-type-backport<0.3.0,>=0.2.0 in d:\\bda_sem_2\\llm workshop\\msis_bda\\bda\\lib\\site-packages (from unstructured-client->unstructured==0.15.0) (0.2.2)\n",
            "Requirement already satisfied: jsonpath-python<2.0.0,>=1.0.6 in d:\\bda_sem_2\\llm workshop\\msis_bda\\bda\\lib\\site-packages (from unstructured-client->unstructured==0.15.0) (1.0.6)\n",
            "Requirement already satisfied: nest-asyncio>=1.6.0 in d:\\bda_sem_2\\llm workshop\\msis_bda\\bda\\lib\\site-packages (from unstructured-client->unstructured==0.15.0) (1.6.0)\n",
            "Requirement already satisfied: python-dateutil<3.0.0,>=2.8.2 in d:\\bda_sem_2\\llm workshop\\msis_bda\\bda\\lib\\site-packages (from unstructured-client->unstructured==0.15.0) (2.9.0.post0)\n",
            "Requirement already satisfied: pyproject_hooks in d:\\bda_sem_2\\llm workshop\\msis_bda\\bda\\lib\\site-packages (from build>=1.0.3->chromadb!=0.5.4,!=0.5.5,<0.6.0,>=0.4.0->langchain-chroma==0.1.3) (1.2.0)\n",
            "Requirement already satisfied: cffi>=1.12 in d:\\bda_sem_2\\llm workshop\\msis_bda\\bda\\lib\\site-packages (from cryptography>=36.0.0->pdfminer.six->unstructured[pdf]==0.15.0) (1.17.1)\n",
            "Requirement already satisfied: googleapis-common-protos<2.0.dev0,>=1.56.2 in d:\\bda_sem_2\\llm workshop\\msis_bda\\bda\\lib\\site-packages (from google-api-core!=2.0.*,!=2.1.*,!=2.10.*,!=2.2.*,!=2.3.*,!=2.4.*,!=2.5.*,!=2.6.*,!=2.7.*,!=2.8.*,!=2.9.*,<3.0.0dev,>=1.34.1->google-api-core[grpc]!=2.0.*,!=2.1.*,!=2.10.*,!=2.2.*,!=2.3.*,!=2.4.*,!=2.5.*,!=2.6.*,!=2.7.*,!=2.8.*,!=2.9.*,<3.0.0dev,>=1.34.1->google-cloud-vision->unstructured[pdf]==0.15.0) (1.66.0)\n",
            "Requirement already satisfied: grpcio-status<2.0.dev0,>=1.33.2 in d:\\bda_sem_2\\llm workshop\\msis_bda\\bda\\lib\\site-packages (from google-api-core[grpc]!=2.0.*,!=2.1.*,!=2.10.*,!=2.2.*,!=2.3.*,!=2.4.*,!=2.5.*,!=2.6.*,!=2.7.*,!=2.8.*,!=2.9.*,<3.0.0dev,>=1.34.1->google-cloud-vision->unstructured[pdf]==0.15.0) (1.69.0)\n",
            "Requirement already satisfied: cachetools<6.0,>=2.0.0 in d:\\bda_sem_2\\llm workshop\\msis_bda\\bda\\lib\\site-packages (from google-auth!=2.24.0,!=2.25.0,<3.0.0dev,>=2.14.1->google-cloud-vision->unstructured[pdf]==0.15.0) (5.5.0)\n",
            "Requirement already satisfied: pyasn1-modules>=0.2.1 in d:\\bda_sem_2\\llm workshop\\msis_bda\\bda\\lib\\site-packages (from google-auth!=2.24.0,!=2.25.0,<3.0.0dev,>=2.14.1->google-cloud-vision->unstructured[pdf]==0.15.0) (0.4.1)\n",
            "Requirement already satisfied: rsa<5,>=3.1.4 in d:\\bda_sem_2\\llm workshop\\msis_bda\\bda\\lib\\site-packages (from google-auth!=2.24.0,!=2.25.0,<3.0.0dev,>=2.14.1->google-cloud-vision->unstructured[pdf]==0.15.0) (4.9)\n",
            "Requirement already satisfied: httpcore==1.* in d:\\bda_sem_2\\llm workshop\\msis_bda\\bda\\lib\\site-packages (from httpx>=0.27.0->chromadb!=0.5.4,!=0.5.5,<0.6.0,>=0.4.0->langchain-chroma==0.1.3) (1.0.7)\n",
            "Requirement already satisfied: h11<0.15,>=0.13 in d:\\bda_sem_2\\llm workshop\\msis_bda\\bda\\lib\\site-packages (from httpcore==1.*->httpx>=0.27.0->chromadb!=0.5.4,!=0.5.5,<0.6.0,>=0.4.0->langchain-chroma==0.1.3) (0.14.0)\n",
            "Requirement already satisfied: jsonpointer>=1.9 in d:\\bda_sem_2\\llm workshop\\msis_bda\\bda\\lib\\site-packages (from jsonpatch<2.0,>=1.33->langchain-core<0.3.0,>=0.2.37->langchain-community==0.2.15) (3.0.0)\n",
            "Requirement already satisfied: websocket-client!=0.40.0,!=0.41.*,!=0.42.*,>=0.32.0 in d:\\bda_sem_2\\llm workshop\\msis_bda\\bda\\lib\\site-packages (from kubernetes>=28.1.0->chromadb!=0.5.4,!=0.5.5,<0.6.0,>=0.4.0->langchain-chroma==0.1.3) (1.8.0)\n",
            "Requirement already satisfied: requests-oauthlib in d:\\bda_sem_2\\llm workshop\\msis_bda\\bda\\lib\\site-packages (from kubernetes>=28.1.0->chromadb!=0.5.4,!=0.5.5,<0.6.0,>=0.4.0->langchain-chroma==0.1.3) (2.0.0)\n",
            "Requirement already satisfied: oauthlib>=3.2.2 in d:\\bda_sem_2\\llm workshop\\msis_bda\\bda\\lib\\site-packages (from kubernetes>=28.1.0->chromadb!=0.5.4,!=0.5.5,<0.6.0,>=0.4.0->langchain-chroma==0.1.3) (3.2.2)\n",
            "Requirement already satisfied: durationpy>=0.7 in d:\\bda_sem_2\\llm workshop\\msis_bda\\bda\\lib\\site-packages (from kubernetes>=28.1.0->chromadb!=0.5.4,!=0.5.5,<0.6.0,>=0.4.0->langchain-chroma==0.1.3) (0.9)\n",
            "Requirement already satisfied: antlr4-python3-runtime==4.9.* in d:\\bda_sem_2\\llm workshop\\msis_bda\\bda\\lib\\site-packages (from omegaconf>=2.0->effdet->unstructured[pdf]==0.15.0) (4.9.3)\n",
            "Requirement already satisfied: coloredlogs in d:\\bda_sem_2\\llm workshop\\msis_bda\\bda\\lib\\site-packages (from onnxruntime>=1.17.0->unstructured-inference==0.7.36->unstructured[pdf]==0.15.0) (15.0.1)\n",
            "Requirement already satisfied: flatbuffers in d:\\bda_sem_2\\llm workshop\\msis_bda\\bda\\lib\\site-packages (from onnxruntime>=1.17.0->unstructured-inference==0.7.36->unstructured[pdf]==0.15.0) (24.12.23)\n",
            "Requirement already satisfied: sympy in d:\\bda_sem_2\\llm workshop\\msis_bda\\bda\\lib\\site-packages (from onnxruntime>=1.17.0->unstructured-inference==0.7.36->unstructured[pdf]==0.15.0) (1.13.1)\n",
            "Requirement already satisfied: importlib-metadata<=8.5.0,>=6.0 in d:\\bda_sem_2\\llm workshop\\msis_bda\\bda\\lib\\site-packages (from opentelemetry-api>=1.2.0->chromadb!=0.5.4,!=0.5.5,<0.6.0,>=0.4.0->langchain-chroma==0.1.3) (8.5.0)\n",
            "Requirement already satisfied: opentelemetry-exporter-otlp-proto-common==1.29.0 in d:\\bda_sem_2\\llm workshop\\msis_bda\\bda\\lib\\site-packages (from opentelemetry-exporter-otlp-proto-grpc>=1.2.0->chromadb!=0.5.4,!=0.5.5,<0.6.0,>=0.4.0->langchain-chroma==0.1.3) (1.29.0)\n",
            "Requirement already satisfied: opentelemetry-proto==1.29.0 in d:\\bda_sem_2\\llm workshop\\msis_bda\\bda\\lib\\site-packages (from opentelemetry-exporter-otlp-proto-grpc>=1.2.0->chromadb!=0.5.4,!=0.5.5,<0.6.0,>=0.4.0->langchain-chroma==0.1.3) (1.29.0)\n",
            "Collecting opentelemetry-instrumentation-asgi==0.50b0 (from opentelemetry-instrumentation-fastapi>=0.41b0->chromadb!=0.5.4,!=0.5.5,<0.6.0,>=0.4.0->langchain-chroma==0.1.3)\n",
            "  Using cached opentelemetry_instrumentation_asgi-0.50b0-py3-none-any.whl.metadata (1.9 kB)\n",
            "Collecting opentelemetry-instrumentation==0.50b0 (from opentelemetry-instrumentation-fastapi>=0.41b0->chromadb!=0.5.4,!=0.5.5,<0.6.0,>=0.4.0->langchain-chroma==0.1.3)\n",
            "  Using cached opentelemetry_instrumentation-0.50b0-py3-none-any.whl.metadata (6.1 kB)\n",
            "Requirement already satisfied: opentelemetry-semantic-conventions==0.50b0 in d:\\bda_sem_2\\llm workshop\\msis_bda\\bda\\lib\\site-packages (from opentelemetry-instrumentation-fastapi>=0.41b0->chromadb!=0.5.4,!=0.5.5,<0.6.0,>=0.4.0->langchain-chroma==0.1.3) (0.50b0)\n",
            "Requirement already satisfied: opentelemetry-util-http==0.50b0 in d:\\bda_sem_2\\llm workshop\\msis_bda\\bda\\lib\\site-packages (from opentelemetry-instrumentation-fastapi>=0.41b0->chromadb!=0.5.4,!=0.5.5,<0.6.0,>=0.4.0->langchain-chroma==0.1.3) (0.50b0)\n",
            "Requirement already satisfied: asgiref~=3.0 in d:\\bda_sem_2\\llm workshop\\msis_bda\\bda\\lib\\site-packages (from opentelemetry-instrumentation-asgi==0.50b0->opentelemetry-instrumentation-fastapi>=0.41b0->chromadb!=0.5.4,!=0.5.5,<0.6.0,>=0.4.0->langchain-chroma==0.1.3) (3.8.1)\n",
            "Requirement already satisfied: monotonic>=1.5 in d:\\bda_sem_2\\llm workshop\\msis_bda\\bda\\lib\\site-packages (from posthog>=2.4.0->chromadb!=0.5.4,!=0.5.5,<0.6.0,>=0.4.0->langchain-chroma==0.1.3) (1.6)\n",
            "Requirement already satisfied: contourpy>=1.0.1 in d:\\bda_sem_2\\llm workshop\\msis_bda\\bda\\lib\\site-packages (from matplotlib->unstructured-inference==0.7.36->unstructured[pdf]==0.15.0) (1.3.1)\n",
            "Requirement already satisfied: cycler>=0.10 in d:\\bda_sem_2\\llm workshop\\msis_bda\\bda\\lib\\site-packages (from matplotlib->unstructured-inference==0.7.36->unstructured[pdf]==0.15.0) (0.12.1)\n",
            "Requirement already satisfied: fonttools>=4.22.0 in d:\\bda_sem_2\\llm workshop\\msis_bda\\bda\\lib\\site-packages (from matplotlib->unstructured-inference==0.7.36->unstructured[pdf]==0.15.0) (4.55.3)\n",
            "Requirement already satisfied: kiwisolver>=1.3.1 in d:\\bda_sem_2\\llm workshop\\msis_bda\\bda\\lib\\site-packages (from matplotlib->unstructured-inference==0.7.36->unstructured[pdf]==0.15.0) (1.4.8)\n",
            "Requirement already satisfied: pyparsing>=2.3.1 in d:\\bda_sem_2\\llm workshop\\msis_bda\\bda\\lib\\site-packages (from matplotlib->unstructured-inference==0.7.36->unstructured[pdf]==0.15.0) (3.2.1)\n",
            "Requirement already satisfied: annotated-types>=0.6.0 in d:\\bda_sem_2\\llm workshop\\msis_bda\\bda\\lib\\site-packages (from pydantic>=1.9->chromadb!=0.5.4,!=0.5.5,<0.6.0,>=0.4.0->langchain-chroma==0.1.3) (0.7.0)\n",
            "Requirement already satisfied: pydantic-core==2.23.4 in d:\\bda_sem_2\\llm workshop\\msis_bda\\bda\\lib\\site-packages (from pydantic>=1.9->chromadb!=0.5.4,!=0.5.5,<0.6.0,>=0.4.0->langchain-chroma==0.1.3) (2.23.4)\n",
            "Requirement already satisfied: markdown-it-py>=2.2.0 in d:\\bda_sem_2\\llm workshop\\msis_bda\\bda\\lib\\site-packages (from rich>=10.11.0->chromadb!=0.5.4,!=0.5.5,<0.6.0,>=0.4.0->langchain-chroma==0.1.3) (3.0.0)\n",
            "Requirement already satisfied: pygments<3.0.0,>=2.13.0 in d:\\bda_sem_2\\llm workshop\\msis_bda\\bda\\lib\\site-packages (from rich>=10.11.0->chromadb!=0.5.4,!=0.5.5,<0.6.0,>=0.4.0->langchain-chroma==0.1.3) (2.19.1)\n",
            "Requirement already satisfied: networkx in d:\\bda_sem_2\\llm workshop\\msis_bda\\bda\\lib\\site-packages (from torch->unstructured-inference==0.7.36->unstructured[pdf]==0.15.0) (3.4.2)\n",
            "Requirement already satisfied: jinja2 in d:\\bda_sem_2\\llm workshop\\msis_bda\\bda\\lib\\site-packages (from torch->unstructured-inference==0.7.36->unstructured[pdf]==0.15.0) (3.1.5)\n",
            "Requirement already satisfied: mpmath<1.4,>=1.1.0 in d:\\bda_sem_2\\llm workshop\\msis_bda\\bda\\lib\\site-packages (from sympy->onnxruntime>=1.17.0->unstructured-inference==0.7.36->unstructured[pdf]==0.15.0) (1.3.0)\n",
            "Requirement already satisfied: shellingham>=1.3.0 in d:\\bda_sem_2\\llm workshop\\msis_bda\\bda\\lib\\site-packages (from typer>=0.9.0->chromadb!=0.5.4,!=0.5.5,<0.6.0,>=0.4.0->langchain-chroma==0.1.3) (1.5.4)\n",
            "Requirement already satisfied: mypy-extensions>=0.3.0 in d:\\bda_sem_2\\llm workshop\\msis_bda\\bda\\lib\\site-packages (from typing-inspect<1,>=0.4.0->dataclasses-json<0.7,>=0.5.7->langchain-community==0.2.15) (1.0.0)\n",
            "Requirement already satisfied: httptools>=0.6.3 in d:\\bda_sem_2\\llm workshop\\msis_bda\\bda\\lib\\site-packages (from uvicorn[standard]>=0.18.3->chromadb!=0.5.4,!=0.5.5,<0.6.0,>=0.4.0->langchain-chroma==0.1.3) (0.6.4)\n",
            "Requirement already satisfied: python-dotenv>=0.13 in d:\\bda_sem_2\\llm workshop\\msis_bda\\bda\\lib\\site-packages (from uvicorn[standard]>=0.18.3->chromadb!=0.5.4,!=0.5.5,<0.6.0,>=0.4.0->langchain-chroma==0.1.3) (1.0.1)\n",
            "Requirement already satisfied: watchfiles>=0.13 in d:\\bda_sem_2\\llm workshop\\msis_bda\\bda\\lib\\site-packages (from uvicorn[standard]>=0.18.3->chromadb!=0.5.4,!=0.5.5,<0.6.0,>=0.4.0->langchain-chroma==0.1.3) (1.0.3)\n",
            "Requirement already satisfied: websockets>=10.4 in d:\\bda_sem_2\\llm workshop\\msis_bda\\bda\\lib\\site-packages (from uvicorn[standard]>=0.18.3->chromadb!=0.5.4,!=0.5.5,<0.6.0,>=0.4.0->langchain-chroma==0.1.3) (14.1)\n",
            "Requirement already satisfied: pandas in d:\\bda_sem_2\\llm workshop\\msis_bda\\bda\\lib\\site-packages (from layoutparser->unstructured-inference==0.7.36->unstructured[pdf]==0.15.0) (2.2.3)\n",
            "Requirement already satisfied: iopath in d:\\bda_sem_2\\llm workshop\\msis_bda\\bda\\lib\\site-packages (from layoutparser->unstructured-inference==0.7.36->unstructured[pdf]==0.15.0) (0.1.10)\n",
            "Collecting pdfplumber (from layoutparser->unstructured-inference==0.7.36->unstructured[pdf]==0.15.0)\n",
            "  Using cached pdfplumber-0.11.5-py3-none-any.whl.metadata (42 kB)\n",
            "Requirement already satisfied: threadpoolctl>=3.1.0 in d:\\bda_sem_2\\llm workshop\\msis_bda\\bda\\lib\\site-packages (from scikit-learn->sentence-transformers>=2.6.0->langchain-huggingface==0.0.3) (3.5.0)\n",
            "Requirement already satisfied: pycparser in d:\\bda_sem_2\\llm workshop\\msis_bda\\bda\\lib\\site-packages (from cffi>=1.12->cryptography>=36.0.0->pdfminer.six->unstructured[pdf]==0.15.0) (2.22)\n",
            "Requirement already satisfied: zipp>=3.20 in d:\\bda_sem_2\\llm workshop\\msis_bda\\bda\\lib\\site-packages (from importlib-metadata<=8.5.0,>=6.0->opentelemetry-api>=1.2.0->chromadb!=0.5.4,!=0.5.5,<0.6.0,>=0.4.0->langchain-chroma==0.1.3) (3.21.0)\n",
            "Requirement already satisfied: mdurl~=0.1 in d:\\bda_sem_2\\llm workshop\\msis_bda\\bda\\lib\\site-packages (from markdown-it-py>=2.2.0->rich>=10.11.0->chromadb!=0.5.4,!=0.5.5,<0.6.0,>=0.4.0->langchain-chroma==0.1.3) (0.1.2)\n",
            "Requirement already satisfied: pyasn1<0.7.0,>=0.4.6 in d:\\bda_sem_2\\llm workshop\\msis_bda\\bda\\lib\\site-packages (from pyasn1-modules>=0.2.1->google-auth!=2.24.0,!=2.25.0,<3.0.0dev,>=2.14.1->google-cloud-vision->unstructured[pdf]==0.15.0) (0.6.1)\n",
            "Requirement already satisfied: humanfriendly>=9.1 in d:\\bda_sem_2\\llm workshop\\msis_bda\\bda\\lib\\site-packages (from coloredlogs->onnxruntime>=1.17.0->unstructured-inference==0.7.36->unstructured[pdf]==0.15.0) (10.0)\n",
            "Requirement already satisfied: portalocker in d:\\bda_sem_2\\llm workshop\\msis_bda\\bda\\lib\\site-packages (from iopath->layoutparser->unstructured-inference==0.7.36->unstructured[pdf]==0.15.0) (3.1.1)\n",
            "Requirement already satisfied: MarkupSafe>=2.0 in d:\\bda_sem_2\\llm workshop\\msis_bda\\bda\\lib\\site-packages (from jinja2->torch->unstructured-inference==0.7.36->unstructured[pdf]==0.15.0) (3.0.2)\n",
            "Requirement already satisfied: pytz>=2020.1 in d:\\bda_sem_2\\llm workshop\\msis_bda\\bda\\lib\\site-packages (from pandas->layoutparser->unstructured-inference==0.7.36->unstructured[pdf]==0.15.0) (2024.2)\n",
            "Requirement already satisfied: tzdata>=2022.7 in d:\\bda_sem_2\\llm workshop\\msis_bda\\bda\\lib\\site-packages (from pandas->layoutparser->unstructured-inference==0.7.36->unstructured[pdf]==0.15.0) (2024.2)\n",
            "Requirement already satisfied: pypdfium2>=4.18.0 in d:\\bda_sem_2\\llm workshop\\msis_bda\\bda\\lib\\site-packages (from pdfplumber->layoutparser->unstructured-inference==0.7.36->unstructured[pdf]==0.15.0) (4.30.1)\n",
            "Requirement already satisfied: pyreadline3 in d:\\bda_sem_2\\llm workshop\\msis_bda\\bda\\lib\\site-packages (from humanfriendly>=9.1->coloredlogs->onnxruntime>=1.17.0->unstructured-inference==0.7.36->unstructured[pdf]==0.15.0) (3.5.4)\n",
            "Requirement already satisfied: pywin32>=226 in d:\\bda_sem_2\\llm workshop\\msis_bda\\bda\\lib\\site-packages (from portalocker->iopath->layoutparser->unstructured-inference==0.7.36->unstructured[pdf]==0.15.0) (308)\n",
            "Using cached langchain_community-0.2.15-py3-none-any.whl (2.3 MB)\n",
            "Using cached langchain_chroma-0.1.3-py3-none-any.whl (10 kB)\n",
            "Using cached langchain_text_splitters-0.2.2-py3-none-any.whl (25 kB)\n",
            "Using cached langchain_huggingface-0.0.3-py3-none-any.whl (17 kB)\n",
            "Using cached langchain_groq-0.1.9-py3-none-any.whl (14 kB)\n",
            "Using cached unstructured_inference-0.7.36-py3-none-any.whl (56 kB)\n",
            "Using cached chromadb-0.5.23-py3-none-any.whl (628 kB)\n",
            "Using cached langchain-0.2.17-py3-none-any.whl (1.0 MB)\n",
            "Using cached langchain_core-0.2.43-py3-none-any.whl (397 kB)\n",
            "Using cached sentence_transformers-3.3.1-py3-none-any.whl (268 kB)\n",
            "Using cached transformers-4.46.3-py3-none-any.whl (10.0 MB)\n",
            "Using cached effdet-0.4.1-py3-none-any.whl (112 kB)\n",
            "Using cached google_cloud_vision-3.9.0-py2.py3-none-any.whl (514 kB)\n",
            "Using cached opentelemetry_exporter_otlp_proto_grpc-1.29.0-py3-none-any.whl (18 kB)\n",
            "Using cached opentelemetry_instrumentation_fastapi-0.50b0-py3-none-any.whl (12 kB)\n",
            "Using cached opentelemetry_instrumentation-0.50b0-py3-none-any.whl (30 kB)\n",
            "Using cached opentelemetry_instrumentation_asgi-0.50b0-py3-none-any.whl (16 kB)\n",
            "Using cached opentelemetry_sdk-1.29.0-py3-none-any.whl (118 kB)\n",
            "Using cached timm-1.0.12-py3-none-any.whl (2.4 MB)\n",
            "Using cached layoutparser-0.3.4-py3-none-any.whl (19.2 MB)\n",
            "Using cached pdfplumber-0.11.5-py3-none-any.whl (59 kB)\n",
            "Installing collected packages: transformers, timm, pdfplumber, opentelemetry-sdk, opentelemetry-instrumentation, langchain-core, sentence-transformers, opentelemetry-instrumentation-asgi, opentelemetry-exporter-otlp-proto-grpc, layoutparser, langchain-text-splitters, langchain-groq, google-cloud-vision, effdet, unstructured-inference, opentelemetry-instrumentation-fastapi, langchain-huggingface, langchain, langchain-community, chromadb, langchain-chroma\n"
          ]
        },
        {
          "name": "stderr",
          "output_type": "stream",
          "text": [
            "ERROR: Could not install packages due to an OSError: [WinError 5] Access is denied: 'd:\\\\BDA_Sem_2\\\\LLM Workshop\\\\MSIS_BDA\\\\BDA\\\\Lib\\\\site-packages\\\\langchain_community-0.2.15.dist-info\\\\RECORDdljupnlr.tmp' -> 'd:\\\\BDA_Sem_2\\\\LLM Workshop\\\\MSIS_BDA\\\\BDA\\\\Lib\\\\site-packages\\\\langchain_community-0.2.15.dist-info\\\\RECORD'\n",
            "Check the permissions.\n",
            "\n"
          ]
        }
      ],
      "source": [
        "! pip install langchain-community==0.2.15 langchain-chroma==0.1.3 langchain-text-splitters==0.2.2 langchain-huggingface==0.0.3 langchain-groq==0.1.9 unstructured==0.15.0 unstructured[pdf]==0.15.0 nltk==3.8.1"
      ]
    },
    {
      "cell_type": "code",
      "execution_count": 3,
      "metadata": {},
      "outputs": [
        {
          "name": "stdout",
          "output_type": "stream",
          "text": [
            "Requirement already satisfied: pip in d:\\bda_sem_2\\llm workshop\\msis_bda\\bda\\lib\\site-packages (24.0)\n",
            "Collecting pip\n",
            "  Using cached pip-24.3.1-py3-none-any.whl.metadata (3.7 kB)\n",
            "Using cached pip-24.3.1-py3-none-any.whl (1.8 MB)\n",
            "Installing collected packages: pip\n",
            "  Attempting uninstall: pip\n",
            "    Found existing installation: pip 24.0\n",
            "    Uninstalling pip-24.0:\n",
            "      Successfully uninstalled pip-24.0\n",
            "Successfully installed pip-24.3.1\n"
          ]
        }
      ],
      "source": [
        "!python.exe -m pip install --upgrade pip"
      ]
    },
    {
      "cell_type": "code",
      "execution_count": 4,
      "metadata": {
        "colab": {
          "base_uri": "https://localhost:8080/"
        },
        "id": "249fRGE44WjL",
        "outputId": "381ddded-90c1-4f5c-e6d1-e0e8e8510291"
      },
      "outputs": [
        {
          "name": "stderr",
          "output_type": "stream",
          "text": [
            "'apt-get' is not recognized as an internal or external command,\n",
            "operable program or batch file.\n",
            "'apt' is not recognized as an internal or external command,\n",
            "operable program or batch file.\n"
          ]
        }
      ],
      "source": [
        "!apt-get install poppler-utils\n",
        "!apt install tesseract-ocr"
      ]
    },
    {
      "cell_type": "code",
      "execution_count": 5,
      "metadata": {
        "id": "8y-llLlq4Wgv"
      },
      "outputs": [
        {
          "ename": "ModuleNotFoundError",
          "evalue": "No module named 'langchain_community'",
          "output_type": "error",
          "traceback": [
            "\u001b[1;31m---------------------------------------------------------------------------\u001b[0m",
            "\u001b[1;31mModuleNotFoundError\u001b[0m                       Traceback (most recent call last)",
            "Cell \u001b[1;32mIn[5], line 3\u001b[0m\n\u001b[0;32m      1\u001b[0m \u001b[38;5;28;01mimport\u001b[39;00m\u001b[38;5;250m \u001b[39m\u001b[38;5;21;01mos\u001b[39;00m\n\u001b[1;32m----> 3\u001b[0m \u001b[38;5;28;01mfrom\u001b[39;00m\u001b[38;5;250m \u001b[39m\u001b[38;5;21;01mlangchain_community\u001b[39;00m\u001b[38;5;21;01m.\u001b[39;00m\u001b[38;5;21;01mdocument_loaders\u001b[39;00m\u001b[38;5;250m \u001b[39m\u001b[38;5;28;01mimport\u001b[39;00m UnstructuredPDFLoader, DirectoryLoader\n\u001b[0;32m      4\u001b[0m \u001b[38;5;28;01mfrom\u001b[39;00m\u001b[38;5;250m \u001b[39m\u001b[38;5;21;01mlangchain_text_splitters\u001b[39;00m\u001b[38;5;250m \u001b[39m\u001b[38;5;28;01mimport\u001b[39;00m CharacterTextSplitter\n\u001b[0;32m      5\u001b[0m \u001b[38;5;28;01mfrom\u001b[39;00m\u001b[38;5;250m \u001b[39m\u001b[38;5;21;01mlangchain_huggingface\u001b[39;00m\u001b[38;5;250m \u001b[39m\u001b[38;5;28;01mimport\u001b[39;00m HuggingFaceEmbeddings\n",
            "\u001b[1;31mModuleNotFoundError\u001b[0m: No module named 'langchain_community'"
          ]
        }
      ],
      "source": [
        "import os\n",
        "\n",
        "from langchain_community.document_loaders import UnstructuredPDFLoader, DirectoryLoader\n",
        "from langchain_text_splitters import CharacterTextSplitter\n",
        "from langchain_huggingface import HuggingFaceEmbeddings\n",
        "from langchain_chroma import Chroma\n",
        "from langchain_groq import ChatGroq\n",
        "from langchain.chains import RetrievalQA"
      ]
    },
    {
      "cell_type": "code",
      "execution_count": 4,
      "metadata": {
        "id": "KWzM_qcQ4WeE"
      },
      "outputs": [],
      "source": [
        "GROQ_API_KEY = \"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\""
      ]
    },
    {
      "cell_type": "code",
      "execution_count": 5,
      "metadata": {
        "id": "hsIroy9oB7vX"
      },
      "outputs": [],
      "source": [
        "os.environ[\"GROQ_API_KEY\"] = GROQ_API_KEY"
      ]
    },
    {
      "cell_type": "code",
      "execution_count": 6,
      "metadata": {
        "id": "t0jO46y5CPzX"
      },
      "outputs": [],
      "source": [
        "loader = DirectoryLoader(\"data/\", glob=\"./*.pdf\", loader_cls=UnstructuredPDFLoader)\n",
        "documents = loader.load()"
      ]
    },
    {
      "cell_type": "code",
      "execution_count": 7,
      "metadata": {
        "colab": {
          "base_uri": "https://localhost:8080/"
        },
        "id": "nV9cemfXCisK",
        "outputId": "2e9a5ee8-5620-4a36-e5ca-e025e806165d"
      },
      "outputs": [
        {
          "name": "stderr",
          "output_type": "stream",
          "text": [
            "WARNING:langchain_text_splitters.base:Created a chunk of size 2005, which is longer than the specified 2000\n",
            "WARNING:langchain_text_splitters.base:Created a chunk of size 3051, which is longer than the specified 2000\n"
          ]
        }
      ],
      "source": [
        "text_splitter = CharacterTextSplitter(\n",
        "    chunk_size=2000,\n",
        "    chunk_overlap=500\n",
        ")\n",
        "\n",
        "text_chunks = text_splitter.split_documents(documents)"
      ]
    },
    {
      "cell_type": "code",
      "execution_count": 8,
      "metadata": {
        "id": "tUC3aAc0DGzG"
      },
      "outputs": [],
      "source": [
        "persist_directory = \"doc_db\""
      ]
    },
    {
      "cell_type": "code",
      "execution_count": 9,
      "metadata": {
        "colab": {
          "base_uri": "https://localhost:8080/"
        },
        "id": "WGldVUzcDM38",
        "outputId": "eda2aefb-5b3d-4568-ad3a-fc0c7d51066f"
      },
      "outputs": [
        {
          "name": "stderr",
          "output_type": "stream",
          "text": [
            "/usr/local/lib/python3.10/dist-packages/huggingface_hub/utils/_token.py:89: UserWarning: \n",
            "The secret `HF_TOKEN` does not exist in your Colab secrets.\n",
            "To authenticate with the Hugging Face Hub, create a token in your settings tab (https://huggingface.co/settings/tokens), set it as secret in your Google Colab and restart your session.\n",
            "You will be able to reuse this secret in all of your notebooks.\n",
            "Please note that authentication is recommended but still optional to access public models or datasets.\n",
            "  warnings.warn(\n"
          ]
        }
      ],
      "source": [
        "embedding = HuggingFaceEmbeddings()"
      ]
    },
    {
      "cell_type": "code",
      "execution_count": 10,
      "metadata": {
        "id": "dfRGkPbYDUfP"
      },
      "outputs": [],
      "source": [
        "vectorstore = Chroma.from_documents(\n",
        "    documents=text_chunks,\n",
        "    embedding=embedding,\n",
        "    persist_directory=persist_directory\n",
        ")"
      ]
    },
    {
      "cell_type": "code",
      "execution_count": 39,
      "metadata": {
        "id": "yZ8cWYgvDn7W"
      },
      "outputs": [],
      "source": [
        "retriever = vectorstore.as_retriever()"
      ]
    },
    {
      "cell_type": "code",
      "execution_count": 40,
      "metadata": {
        "id": "ZFA8HA1GEDXM"
      },
      "outputs": [],
      "source": [
        "llm = ChatGroq(\n",
        "    model=\"llama3-70b-8192\",\n",
        "    temperature=0\n",
        ")"
      ]
    },
    {
      "cell_type": "code",
      "execution_count": 41,
      "metadata": {
        "id": "sDUiW4a7Egkv"
      },
      "outputs": [],
      "source": [
        "qa_chain = RetrievalQA.from_chain_type(\n",
        "    llm=llm,\n",
        "    chain_type=\"stuff\",\n",
        "    retriever=retriever,\n",
        "    return_source_documents=True\n",
        ")"
      ]
    },
    {
      "cell_type": "code",
      "execution_count": 49,
      "metadata": {
        "id": "by3haRdRExV7"
      },
      "outputs": [],
      "source": [
        "query = \"What does the document say about DELINEATING THE CLINICAL SYNDROME?\"\n",
        "response = qa_chain.invoke({\"query\":query})"
      ]
    },
    {
      "cell_type": "code",
      "execution_count": 50,
      "metadata": {
        "colab": {
          "base_uri": "https://localhost:8080/"
        },
        "id": "77D9SRbuFHkj",
        "outputId": "5705cf5a-3acb-44cb-e47f-469b04a38407"
      },
      "outputs": [
        {
          "name": "stdout",
          "output_type": "stream",
          "text": [
            "{'query': 'What does the document say about DELINEATING THE CLINICAL SYNDROME?', 'result': 'The document states that it is useful to divide Respiratory Tract Infections (RTIs) into those involving the upper and the lower tracts. \\n\\nThe clinical syndromes involving the upper tract include:\\n\\n- Otitis media\\n- Mastoiditis\\n- Sinusitis\\n- Pharyngitis\\n\\nInfections of the lower tract can be divided into:\\n\\n- Tracheobronchitis\\n- Bronchiolitis\\n- Pneumonia\\n\\nMost of these conditions can exist in acute and chronic forms. Acute disease is usually caused by viral or bacterial infections, and chronic disease is usually caused by fungi, slow-growing bacteria such as mycobacteria, bacteria adapted to persist in biofilms, and occasional less common pathogens such as parasites. Chronic infections can also develop when structural changes occur as a result of recurrent or severe acute infections, surgical intervention, or other processes that alter the structural integrity of the respiratory tract.', 'source_documents': [Document(metadata={'source': 'data/paper3.pdf'}, page_content='1701 965 (56.2)\\n\\n827 (48.6) 626 (36.8) 248 (14.6)\\n\\n15 842 8397 (53.0)\\n\\n4568 (28.8) 6356 (40.1) 4918 (31.0)\\n\\nSocioeconomic index\\n\\n1 2 3 4 5\\n\\n394 (19.3) 771 (37.8)117 ( 170 (8.3) 264 (12.9) 443 (21.7)\\n\\n287 (16.5) 714 (41.1) 320 (18.4) 337 (19.4) 78 (4.5)\\n\\n619 (25.8) 907 (37.9) 297 (12.4) 344 (14.4) 229 (9.6)\\n\\n100 (7.7) 483 (37.0) 125 (9.6) 352 (26.9) 247 (18.9)\\n\\n331 (13.4) 1035 (41.9) 373 (15.1) 727 (29.4) 7 (0.3)\\n\\n506 (19.9) 1113 (43.8) 314 (12.4) 403 (15.9) 205 (8.1)\\n\\n399 (26.6) 546 (36.4) 283 (18.9) 268 (17.9) 3 (0.2)\\n\\n2636 (18.8) 5569 (39.8) 1882 (13.4) 2695 (19.3) 1212 (8.7)\\n\\nBody mass index kg·m−2\\n\\n<20 20–25 25–30 >30 Smoker\\n\\n268 (10.6) 1359 (54.0) 688 (27.3) 202 (8.0)\\n\\n100 (5.7) 829 (46.9) 637 (36.0) 202 (11.4)\\n\\n184 (7.8) 1192 (50.8) 783 (33.4) 188 (8.0)\\n\\n125 (5.8) 1074 (50.1) 739 (34.5) 207 (9.7)\\n\\n127 (4.9) 1272 (49.5) 946 (36.8) 226 (8.8)\\n\\n165 (6.5) 1379 (54.7) 807 (32.0) 170 (6.7)\\n\\n226 (13.4) 846 (50.3) 459 (27.3) 151 (9.0)\\n\\n1195 (7.7) 7951 (51.1) 5059 (32.5) 1346 (8.7)\\n\\nNever-smoker Ex-smoker Current smoker\\n\\nAsthma Allergic rhinitis Hypertension Heart disease Diabetes Childhood hospitalisation Childhood frequent otitis Number of siblings\\n\\n1045 (41.5) 600 (23.8) 872 (34.6) 164 (6.5) 559 (22.2) 147 (5.9) 19 (0.8) 6 (1.7) 76 (2.9) 396 (15.5)\\n\\n663 (37.6) 563 (31.9) 537 (30.5) 106 (5.9) 370 (21.1) 154 (8.7) 38 (2.1) 16 (0.9) 39 (2.2) 216 (12.5)\\n\\n891 (37.5) 579 (24.3) 909 (38.2) 148 (6.2) 557 (23.8) 135 (5.7) 32 (1.3) 41 (1.7) 118 (5.0) 535 (23.4)\\n\\n941 (44.9) 541 (25.8) 612 (29.2) 157 (7.3) 550 (25.7) 123 (5.8) 21 (1.0) 41 (1.9) 69 (3.2) 497 (23.5)\\n\\n1396 (54.6) 668 (26.1) 493 (19.3) 238 (9.1) 598 (23.1) 220 (8.5) 39 (1.5) 53 (2.0) 81 (3.1) 582 (22.7)\\n\\n1356 (54.6) 651 (26.1) 489 (19.3) 191 (7.5) 626 (24.9) 135 (5.4) 19 (0.8) 42 (1.7) 93 (3.7) 571 (22.8)\\n\\n809 (47.6) 291 (17.1) 600 (35.3) 34 (2.0) 347 (20.4) 207 (12.4) 206 (12.4) 25 (1.5) 164 (9.8) 370 (22.0)'), Document(metadata={'source': 'data/paper1.pdf'}, page_content='DELINEATING THE CLINICAL SYNDROME\\n\\nIt is useful to divide RTIs into those involving the upper and the lower tracts. The clinical syndromes involving the upper tract include otitis media, mastoiditis, sinusitis and pharyngitis, while infections of the lower tract can be divided into tracheobronchitis, bronchiolitis and pneumo- nia. Most of these conditions can exist in acute and chronic forms. Acute disease is usually caused by viral or bacterial infections, and chronic disease is usually caused by fungi, slow-growing bacteria such as mycobacteria, bacteria adapted to persist in biofilms and occasional less common pathogens such as parasites. Chronic infections can also develop when structural changes (e.g. bronchiec- tasis, nasal polyps, and cavities) occur as a result of recur- rent or especially severe acute infections, surgical intervention or other processes which alter the structural integrity of the respiratory tract.'), Document(metadata={'source': 'data/paper3.pdf'}, page_content='<20 20–25 25–30 >30 Smoker\\n\\n1.26 (1.05–1.52) 1 0.97 (0.86–1.09) 1.23 (1.02–1.47)\\n\\n1.08 (0.90–1.31) 1 1.06 (0.94–1.20) 1.27 (1.05–1.52)\\n\\n1.50 (1.28–1.75) 1 1.02 (0.92–1.13) 1.49 (1.28–1.73)\\n\\n1.25 (1.06–1.47) 1 1.17 (1.06–1.31) 1.58 (1.36–1.85)\\n\\nNever-smoker Ex-smoker Current smoker\\n\\nAllergic rhinitis Asthma Hypertension Heart disease Diabetes Children at home\\n\\n1 0.79 (0.69–0.89) 0.80 (0.71–0.91) 1.82 (1.63–2.04) 2.83 (2.42–3.32) 1.31 (1.09–1.58) 1.53 (1.14–2.05) 1.26 (0.85–1.88)\\n\\n1 0.80 (0.70–0.92) 0.80 (0.70–0.90) 1.79 (1.60–2.01) 2.98 (2.53–3.52) 1.28 (1.05–1.55) 1.19 (0.87–1.62) 1.37 (0.91–2.05)\\n\\n1 0.95 (0.84–1.06) 1.22 (1.10–1.35) 1.67 (1.51–1.84) 3.28 (2.86–3.77) 1.25 (1.07–1.47) 2.23 (1.77–2.81) 1.44 (1.04–2.00)\\n\\n1 0.95 (0.84–1.07) 1.18 (1.06–1.31) 1.68 (1.52–1.86) 3.67 (3.18–4.24) 1.15 (0.97–1.36) 1.67 (1.30–2.14) 1.45 (1.03–2.04)\\n\\n1 2 3 4 5 6 Centre\\n\\n1 1.03 (0.67–1.58) 0.97 (0.77–1.23) 1.06 (0.87–1.31) 1.05 (0.86–1.29) 1.29 (1.04–1.60)\\n\\n1 1.23 (0.79–1.93) 1.01(0.80–1.29) 1.11 (0.90–1.38) 1.04 (0.84–1.29) 1.31 (1.04–1.65)\\n\\n1 0.93 (0.63–1.38) 0.90 (0.74–1.11) 1.04 (0.87–1.24) 1.13 (0.95–1.34) 1.16 (0.96–1.40)\\n\\n1 0.96 (0.63–1.45) 0.97 (0.79–1.20) 1.09 (0.90–1.31) 1.05 (0.87–1.26) 1.14 (0.93–1.40)\\n\\nAarhus Reykjavik Bergen Gothenburg Umeå Uppsala Tartu\\n\\n1 1.33 (1.09–1.62) 0.92 (0.76–1.12) 1.01 (0.83–1.23) 0.85 (0.70–1.03) 1.24 (1.04–1.48) 1.79 (1.49–2.14)\\n\\n1 1.36 (1.10–1.67) 0.95 (0.78–1.15) 1.05 (0.85–1.28) 0.83 (0.68–1.01) 1.24 (1.03–1.48) 1.74 (1.44–2.09)\\n\\n1 1.42 (1.19–1.69) 1.49 (1.26–1.75) 1.39 (1.18–1.65) 0.81 (0.68–0.97) 1.42 (1.20–1.66) 2.59 (2.20–3.05)\\n\\n1 1.44 (1.20–1.73) 1.51 (1.28–1.79) 1.39 (1.17–1.66) 0.86 (0.71–1.03) 1.49 (1.26–1.76) 2.54 (2.14–3.01)'), Document(metadata={'source': 'data/paper1.pdf'}, page_content='[4] Reynolds\\n\\nhost\\n\\ndefenses.\\n\\n1989;95:223S(cid:1)30S.\\n\\n[5] Zhang P, Summer WR, Bagby GJ, Nelson S. Innate immunity and\\n\\npulmonary host defense. Immunol Rev 2000;173:39(cid:1)51.\\n\\n[6] Wright JR. Immunomodulatory functions of surfactant. Physiol\\n\\nRev 1997;77:931(cid:1)62.\\n\\n[7] Bush A, Hogg C. Primary ciliary dyskinesia: recent advances in epidemiology, diagnosis, management and relationship with the expanding spectrum of ciliopathy. Expert Rev Respir Med 2012;6:663(cid:1)82.\\n\\nSerologic studies to detect organism-specific antibo- dies may complement culture results. For example, serum antibody tests for Legionella species, Coxiella burnetii, C. pneumoniae and M. pneumoniae have been widely used for clinical diagnosis. In general, a positive IgM or a four- fold rise in IgG titre is considered diagnostic. Reference laboratories provide serologic testing for a wide variety of other pathogens associated with RTIs. However, diagnos- tic criteria are less certain and the sensitivity and specific- ity of the assays are variable [33].\\n\\n[8] Huxley EJ, Viroslav J, Gray WR, Pierce AK. Pharyngeal aspira- tion in normal adults and patients with depressed consciousness. Am J Med 1978;64:564(cid:1)8. [9] MacGregor RR. Alcohol\\n\\nand\\n\\nimmune\\n\\ndefense.\\n\\n1986;256:1474(cid:1)9.\\n\\n[10] Molina PE, Happel KI, Zhang P, Kolls JK, Nelson S. Focus on: system. Alcohol Res Health\\n\\nalcohol 2010;33:97(cid:1)108.\\n\\nand\\n\\nthe\\n\\nimmune\\n\\n[11] Houtmeyers E, Gosselink R, Gayan-Ramirez G, Decramer M. Regulation of mucociliary clearance in health and disease. Eur Respir J 1999;13:1177(cid:1)88.\\n\\nThe detection of antigens in blood and urine has proven useful respiratory tract a number of pathogens. Enzyme immunoassays are available to detect soluble antigens of L. pneumophila serogroup 1 and\\n\\nfor\\n\\n[12] Hall-Stoodley L, Hu FZ, Gieseke A, Nistico L, Nguyen D, Hayes J, et al. Direct detection of bacterial biofilms on the middle-ear mucosa JAMA 2006;296:202(cid:1)11.\\n\\nof\\n\\nchildren with\\n\\nchronic\\n\\notitis media.\\n\\nChest')]}\n"
          ]
        }
      ],
      "source": [
        "print(response)"
      ]
    },
    {
      "cell_type": "code",
      "execution_count": 51,
      "metadata": {
        "colab": {
          "base_uri": "https://localhost:8080/"
        },
        "id": "k8aJIyPiFKak",
        "outputId": "e9407529-49eb-4739-fc48-b2d752847fbe"
      },
      "outputs": [
        {
          "name": "stdout",
          "output_type": "stream",
          "text": [
            "The document states that it is useful to divide Respiratory Tract Infections (RTIs) into those involving the upper and the lower tracts. \n",
            "\n",
            "The clinical syndromes involving the upper tract include:\n",
            "\n",
            "- Otitis media\n",
            "- Mastoiditis\n",
            "- Sinusitis\n",
            "- Pharyngitis\n",
            "\n",
            "Infections of the lower tract can be divided into:\n",
            "\n",
            "- Tracheobronchitis\n",
            "- Bronchiolitis\n",
            "- Pneumonia\n",
            "\n",
            "Most of these conditions can exist in acute and chronic forms. Acute disease is usually caused by viral or bacterial infections, and chronic disease is usually caused by fungi, slow-growing bacteria such as mycobacteria, bacteria adapted to persist in biofilms, and occasional less common pathogens such as parasites. Chronic infections can also develop when structural changes occur as a result of recurrent or severe acute infections, surgical intervention, or other processes that alter the structural integrity of the respiratory tract.\n"
          ]
        }
      ],
      "source": [
        "print(response[\"result\"])"
      ]
    },
    {
      "cell_type": "code",
      "execution_count": 52,
      "metadata": {
        "colab": {
          "base_uri": "https://localhost:8080/"
        },
        "id": "Q6BjNsPqFjnO",
        "outputId": "58c50e5b-406b-40cf-8e23-47281ea35eed"
      },
      "outputs": [
        {
          "name": "stdout",
          "output_type": "stream",
          "text": [
            "The document discusses the Receptor-binding domain (RBD) of the SARS-CoV-2 spike glycoprotein in several sections. Here are the key points:\n",
            "\n",
            "1. **Location and Structure**: The RBD is located on the S1 subunit of the spike glycoprotein and has a string of domains, including the N-terminal domain (NTD), subdomain 1 (SD1), and the RBD itself. The RBD harbors the ACE2-binding site, which lies across the top of the RBD, spanning the neck and shoulders.\n",
            "\n",
            "2. **Conformation**: The RBD adopts a range of configurations on the spike, from 'up' to 'down', and only the up conformation can interact with ACE2.\n",
            "\n",
            "3. **Binding of Neutralizing Antibodies**: The RBD is a major target for neutralizing antibodies, which can be grouped into several clusters based on their epitopes: left shoulder, neck, right shoulder, left flank, and right flank.\n",
            "\n",
            "4. **Importance of RBD in Neutralization**: Most potent neutralizing antibodies induced by vaccination or natural infection target the RBD and usually interfere with ACE2 binding.\n",
            "\n",
            "5. **Mutations in RBD**: The document mentions that mutations in the RBD, such as R346T/S, K444T/R, V445P, G446S, and N450D, can impair the potency of some neutralizing antibodies that bind to the front of the right shoulder of the RBD.\n",
            "\n",
            "6. **Conserved Regions on RBD**: The document identifies two large continuous conserved regions on the RBD surface, one starting from the front of the left shoulder and running down to the left flank, and another at the bottom part of the back of the RBD, just below the Omi-42-binding site. These regions are targeted by some weakly neutralizing antibodies, such as COVOX-45 and S2H97.\n"
          ]
        }
      ],
      "source": [
        "query = \"What does the document say about Receptor-binding domain?\"\n",
        "response = qa_chain.invoke({\"query\":query})\n",
        "print(response[\"result\"])"
      ]
    },
    {
      "cell_type": "code",
      "execution_count": 52,
      "metadata": {
        "id": "WT6bD5HaGLIG"
      },
      "outputs": [],
      "source": []
    }
  ],
  "metadata": {
    "accelerator": "GPU",
    "colab": {
      "gpuType": "T4",
      "provenance": []
    },
    "kernelspec": {
      "display_name": "BDA",
      "language": "python",
      "name": "python3"
    },
    "language_info": {
      "codemirror_mode": {
        "name": "ipython",
        "version": 3
      },
      "file_extension": ".py",
      "mimetype": "text/x-python",
      "name": "python",
      "nbconvert_exporter": "python",
      "pygments_lexer": "ipython3",
      "version": "3.11.9"
    }
  },
  "nbformat": 4,
  "nbformat_minor": 0
}
