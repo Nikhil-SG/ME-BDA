{
 "cells": [
  {
   "cell_type": "code",
   "execution_count": 1,
   "id": "bd6717c8",
   "metadata": {},
   "outputs": [
    {
     "name": "stdout",
     "output_type": "stream",
     "text": [
      "Database and user created.\n"
     ]
    }
   ],
   "source": [
    "import mysql.connector\n",
    "from mysql.connector import errorcode\n",
    "\n",
    "# Connect to MySQL server (not the Fintech DB yet)\n",
    "conn = mysql.connector.connect(\n",
    "    host='localhost',\n",
    "    user='root',\n",
    "    password='Msis@123'  # Replace with your root password\n",
    ")\n",
    "cursor = conn.cursor()\n",
    "\n",
    "# Drop and create database, user, and grant privileges\n",
    "commands = [\n",
    "    \"DROP DATABASE IF EXISTS Fintechs;\",\n",
    "    \"CREATE DATABASE Fintechs;\",\n",
    "    \"DROP USER IF EXISTS 'Mdbd'@'localhost';\",\n",
    "    \"CREATE USER 'Mdbd'@'localhost' IDENTIFIED BY 'Mdbd@123';\",\n",
    "    \"GRANT ALL PRIVILEGES ON Fintechs.* TO 'Mdbd'@'localhost';\",\n",
    "    \"FLUSH PRIVILEGES;\"\n",
    "]\n",
    "\n",
    "for cmd in commands:\n",
    "    cursor.execute(cmd)\n",
    "\n",
    "cursor.close()\n",
    "conn.close()\n",
    "print(\"Database and user created.\")"
   ]
  },
  {
   "cell_type": "code",
   "execution_count": 6,
   "id": "b85b9ea6",
   "metadata": {},
   "outputs": [
    {
     "name": "stdout",
     "output_type": "stream",
     "text": [
      "Tables created.\n"
     ]
    }
   ],
   "source": [
    "# Reconnect using new DB and user\n",
    "conn = mysql.connector.connect(\n",
    "    host='localhost',\n",
    "    user='Mdbd',\n",
    "    password='Mdbd@123',\n",
    "    database='Fintechs'\n",
    ")\n",
    "cursor = conn.cursor()\n",
    "\n",
    "table_sql = \"\"\"\n",
    "CREATE TABLE Users (\n",
    "    user_id INT AUTO_INCREMENT PRIMARY KEY,\n",
    "    first_name VARCHAR(50) NOT NULL,\n",
    "    last_name VARCHAR(50) NOT NULL,\n",
    "    email VARCHAR(100) NOT NULL UNIQUE,\n",
    "    date_of_birth DATE NOT NULL,\n",
    "    registration_date TIMESTAMP DEFAULT CURRENT_TIMESTAMP,\n",
    "    INDEX idx_email (email)\n",
    ");\n",
    "\n",
    "CREATE TABLE Accounts (\n",
    "    account_id INT AUTO_INCREMENT PRIMARY KEY,\n",
    "    user_id INT NOT NULL,\n",
    "    account_type ENUM('savings', 'checking', 'brokerage') NOT NULL,\n",
    "    balance DECIMAL(15, 2) NOT NULL DEFAULT 0.00,\n",
    "    currency VARCHAR(3) NOT NULL DEFAULT 'INR',\n",
    "    created_at TIMESTAMP DEFAULT CURRENT_TIMESTAMP,\n",
    "    FOREIGN KEY (user_id) REFERENCES Users(user_id),\n",
    "    INDEX idx_user_id (user_id),\n",
    "    INDEX idx_account_type (account_type)\n",
    ");\n",
    "\n",
    "CREATE TABLE Transactions (\n",
    "    transaction_id INT AUTO_INCREMENT PRIMARY KEY,\n",
    "    account_id INT NOT NULL,\n",
    "    amount DECIMAL(15, 2) NOT NULL,\n",
    "    transaction_type ENUM('credit', 'debit') NOT NULL,\n",
    "    transaction_date TIMESTAMP DEFAULT CURRENT_TIMESTAMP,\n",
    "    description VARCHAR(255),\n",
    "    FOREIGN KEY (account_id) REFERENCES Accounts(account_id),\n",
    "    INDEX idx_account_id (account_id),\n",
    "    INDEX idx_transaction_date (transaction_date)\n",
    ");\n",
    "\n",
    "CREATE TABLE Investments (\n",
    "    investment_id INT AUTO_INCREMENT PRIMARY KEY,\n",
    "    account_id INT NOT NULL,\n",
    "    investment_type ENUM('stocks', 'bonds', 'mutual_funds', 'crypto') NOT NULL,\n",
    "    amount DECIMAL(15, 2) NOT NULL,\n",
    "    purchase_date TIMESTAMP DEFAULT CURRENT_TIMESTAMP,\n",
    "    current_value DECIMAL(15, 2),\n",
    "    FOREIGN KEY (account_id) REFERENCES Accounts(account_id),\n",
    "    INDEX idx_account_id (account_id),\n",
    "    INDEX idx_investment_type (investment_type)\n",
    ");\n",
    "\n",
    "CREATE TABLE Loans (\n",
    "    loan_id INT AUTO_INCREMENT PRIMARY KEY,\n",
    "    user_id INT NOT NULL,\n",
    "    loan_amount DECIMAL(15, 2) NOT NULL,\n",
    "    interest_rate DECIMAL(5, 2) NOT NULL,\n",
    "    loan_term_months INT NOT NULL,\n",
    "    loan_start_date DATE NOT NULL,\n",
    "    loan_status ENUM('active', 'closed', 'defaulted') NOT NULL DEFAULT 'active',\n",
    "    FOREIGN KEY (user_id) REFERENCES Users(user_id),\n",
    "    INDEX idx_user_id (user_id),\n",
    "    INDEX idx_loan_status (loan_status)\n",
    ");\n",
    "\"\"\"\n",
    "\n",
    "for stmt in table_sql.strip().split(';'):\n",
    "    if stmt.strip():\n",
    "        cursor.execute(stmt + ';')\n",
    "\n",
    "conn.commit()\n",
    "cursor.close()\n",
    "print(\"Tables created.\")\n"
   ]
  },
  {
   "cell_type": "code",
   "execution_count": 7,
   "id": "6a6c3ba4",
   "metadata": {},
   "outputs": [
    {
     "name": "stdout",
     "output_type": "stream",
     "text": [
      "Data inserted.\n"
     ]
    }
   ],
   "source": [
    "cursor = conn.cursor()\n",
    "\n",
    "# Insert data into Users\n",
    "cursor.execute(\"\"\"\n",
    "INSERT INTO Users (first_name, last_name, email, date_of_birth) VALUES\n",
    "('Sanjay', 'Reddy', 'sanjay.reddy@example.com', '2001-09-03'),\n",
    "('Chandana', 'Ramanahali', 'chandana.ramanahali@example.com', '2002-07-10'),\n",
    "('Sakshi', 'Mayya', 'sakshi.mayya@example.com', '2000-11-03'),\n",
    "('Bhoomika', 'Hegde', 'bhoomika.hegde@example.com', '2001-10-02'),\n",
    "('Prabal', 'Shetty', 'prabal.shetty@example.com', '1998-11-12'),\n",
    "('Sneha', 'Shet', 'sneha.shet@example.com', '2002-07-18'),\n",
    "('Nikhil', 'Gouda', 'nikhil.gouda@example.com', '2002-06-13'),\n",
    "('Akash', 'Chitragar', 'akash.chitragar@example.com', '2002-12-19'),\n",
    "('Nithik', 'Joseph', 'nithik.joseph@example.com', '2001-06-05'),\n",
    "('ADITHYA', 'ACHARYA', 'adithya.acharya@example.com', '1987-01-20'),\n",
    "('Hardik', 'Prabhu', 'hardik.prabhu@example.com', '2002-04-06'),\n",
    "('Suchitra', 'Desai', 'suchitra.desai@example.com', '2002-03-08'),\n",
    "('Akshat', 'Maurya', 'akshat.maurya@example.com', '2002-12-12'),\n",
    "('Archana', 'Halagannanavar', 'archana.halagannanavar@example.com', '2001-07-22'),\n",
    "('Deepak', 'Rao', 'deepak.rao@example.com', '1973-11-30'),\n",
    "('Devi', 'Prasad', 'devi.prasad@example.com', '1969-03-25'),\n",
    "('ASHOK', 'BONI', 'ashok.boni@example.com', '2000-05-17'),\n",
    "('Rohan', 'Devang', 'rohan.devang@example.com', '2001-08-10'),\n",
    "('Imraz', 'Ziya', 'imraz.ziya@example.com', '1994-09-05'),\n",
    "('PAVANKUMAR', 'NAYAK', 'pavankumar.nayak@example.com', '1997-12-06'),\n",
    "('Karthik', 'C', 'Karthik.C@example.com','1998-12-15');\n",
    "\"\"\")\n",
    "\n",
    "# Insert into Accounts\n",
    "cursor.execute(\"\"\"\n",
    "INSERT INTO Accounts (user_id, account_type, balance, currency) VALUES\n",
    "(1, 'savings', 125000.00, 'INR'),\n",
    "(1, 'checking', 25000.00, 'INR'),\n",
    "(2, 'savings', 85000.00, 'INR'),\n",
    "(3, 'brokerage', 150000.00, 'INR'),\n",
    "(4, 'savings', 75000.00, 'INR'),\n",
    "(4, 'checking', 15000.00, 'INR'),\n",
    "(5, 'brokerage', 250000.00, 'INR'),\n",
    "(6, 'savings', 45000.00, 'INR'),\n",
    "(7, 'checking', 95000.00, 'INR'),\n",
    "(8, 'savings', 110000.00, 'INR'),\n",
    "(9, 'brokerage', 80000.00, 'INR'),\n",
    "(10, 'savings', 175000.00, 'INR'),\n",
    "(11, 'checking', 30000.00, 'INR'),\n",
    "(12, 'savings', 60000.00, 'INR'),\n",
    "(13, 'brokerage', 200000.00, 'INR'),\n",
    "(14, 'savings', 55000.00, 'INR'),\n",
    "(15, 'checking', 40000.00, 'INR'),\n",
    "(16, 'savings', 120000.00, 'INR'),\n",
    "(17, 'brokerage', 90000.00, 'INR'),\n",
    "(18, 'savings', 70000.00, 'INR'),\n",
    "(19, 'checking', 35000.00, 'INR'),\n",
    "(20, 'savings', 105000.00, 'INR');\n",
    "\"\"\")\n",
    "\n",
    "# Add similar blocks for Transactions, Investments, and Loans here (or let me know if you'd like all that copy-pasted too – it's long)\n",
    "\n",
    "conn.commit()\n",
    "cursor.close()\n",
    "print(\"Data inserted.\")\n"
   ]
  },
  {
   "cell_type": "code",
   "execution_count": 9,
   "id": "abc59a65",
   "metadata": {},
   "outputs": [
    {
     "name": "stdout",
     "output_type": "stream",
     "text": [
      "Transactions, Investments, and Loans inserted.\n"
     ]
    }
   ],
   "source": [
    "cursor = conn.cursor()\n",
    "\n",
    "# Transactions\n",
    "cursor.execute(\"\"\"\n",
    "INSERT INTO Transactions (account_id, amount, transaction_type, description) VALUES\n",
    "(1, 15000.00, 'credit', 'Salary deposit'),\n",
    "(1, 5000.00, 'debit', 'Rent payment'),\n",
    "(2, 2500.00, 'debit', 'Grocery shopping'),\n",
    "(3, 10000.00, 'credit', 'Client payment'),\n",
    "(4, 25000.00, 'credit', 'Investment return'),\n",
    "(4, 8000.00, 'debit', 'Purchase stocks'),\n",
    "(5, 3500.00, 'debit', 'Utility bills'),\n",
    "(6, 4000.00, 'debit', 'Insurance premium'),\n",
    "(7, 12000.00, 'credit', 'Bonus payment'),\n",
    "(8, 7500.00, 'credit', 'Tax refund'),\n",
    "(9, 6000.00, 'debit', 'Online shopping'),\n",
    "(10, 9000.00, 'credit', 'Interest earned'),\n",
    "(11, 3000.00, 'debit', 'Restaurant charges'),\n",
    "(12, 15000.00, 'credit', 'Freelance payment'),\n",
    "(13, 20000.00, 'credit', 'Dividend income'),\n",
    "(14, 4500.00, 'debit', 'Medical expenses'),\n",
    "(15, 8000.00, 'debit', 'Travel booking'),\n",
    "(16, 12000.00, 'credit', 'Client advance'),\n",
    "(17, 5500.00, 'debit', 'Electronics purchase'),\n",
    "(18, 10000.00, 'credit', 'Rental income'),\n",
    "(19, 3000.00, 'debit', 'School fees'),\n",
    "(20, 15000.00, 'credit', 'Salary deposit');\n",
    "\"\"\")\n",
    "\n",
    "# Investments\n",
    "cursor.execute(\"\"\"\n",
    "INSERT INTO Investments (account_id, investment_type, amount, current_value) VALUES\n",
    "(3, 'stocks', 50000.00, 55000.00),\n",
    "(4, 'mutual_funds', 75000.00, 80000.00),\n",
    "(5, 'bonds', 25000.00, 26500.00),\n",
    "(7, 'crypto', 15000.00, 18000.00),\n",
    "(9, 'stocks', 30000.00, 32000.00),\n",
    "(10, 'mutual_funds', 45000.00, 48000.00),\n",
    "(13, 'crypto', 20000.00, 15000.00),\n",
    "(13, 'stocks', 80000.00, 90000.00),\n",
    "(15, 'bonds', 15000.00, 15750.00),\n",
    "(17, 'mutual_funds', 35000.00, 37500.00),\n",
    "(18, 'stocks', 20000.00, 22000.00),\n",
    "(20, 'crypto', 10000.00, 12000.00);\n",
    "\"\"\")\n",
    "\n",
    "# Loans\n",
    "cursor.execute(\"\"\"\n",
    "INSERT INTO Loans (user_id, loan_amount, interest_rate, loan_term_months, loan_start_date, loan_status) VALUES\n",
    "(2, 500000.00, 8.50, 60, '2023-01-15', 'active'),\n",
    "(4, 200000.00, 7.75, 36, '2022-08-20', 'active'),\n",
    "(5, 1000000.00, 10.25, 120, '2021-12-10', 'active'),\n",
    "(8, 300000.00, 8.00, 48, '2023-03-05', 'active'),\n",
    "(9, 150000.00, 7.50, 24, '2022-05-18', 'active'),\n",
    "(12, 400000.00, 9.75, 60, '2022-11-30', 'active'),\n",
    "(14, 250000.00, 8.25, 36, '2023-02-12', 'active'),\n",
    "(16, 750000.00, 10.50, 84, '2021-09-25', 'active'),\n",
    "(17, 175000.00, 7.25, 24, '2022-07-08', 'closed'),\n",
    "(19, 350000.00, 9.00, 48, '2023-04-15', 'active');\n",
    "\"\"\")\n",
    "\n",
    "conn.commit()\n",
    "cursor.close()\n",
    "print(\"Transactions, Investments, and Loans inserted.\")\n"
   ]
  },
  {
   "cell_type": "code",
   "execution_count": 10,
   "id": "0592f075",
   "metadata": {},
   "outputs": [
    {
     "name": "stdout",
     "output_type": "stream",
     "text": [
      "{'user_id': 5, 'full_name': 'Prabal Shetty', 'email': 'prabal.shetty@example.com', 'total_balance': Decimal('250000.00')}\n",
      "{'user_id': 13, 'full_name': 'Akshat Maurya', 'email': 'akshat.maurya@example.com', 'total_balance': Decimal('200000.00')}\n",
      "{'user_id': 10, 'full_name': 'ADITHYA ACHARYA', 'email': 'adithya.acharya@example.com', 'total_balance': Decimal('175000.00')}\n",
      "{'user_id': 1, 'full_name': 'Sanjay Reddy', 'email': 'sanjay.reddy@example.com', 'total_balance': Decimal('150000.00')}\n",
      "{'user_id': 3, 'full_name': 'Sakshi Mayya', 'email': 'sakshi.mayya@example.com', 'total_balance': Decimal('150000.00')}\n",
      "{'user_id': 16, 'full_name': 'Devi Prasad', 'email': 'devi.prasad@example.com', 'total_balance': Decimal('120000.00')}\n",
      "{'user_id': 8, 'full_name': 'Akash Chitragar', 'email': 'akash.chitragar@example.com', 'total_balance': Decimal('110000.00')}\n",
      "{'user_id': 20, 'full_name': 'PAVANKUMAR NAYAK', 'email': 'pavankumar.nayak@example.com', 'total_balance': Decimal('105000.00')}\n"
     ]
    },
    {
     "data": {
      "text/plain": [
       "True"
      ]
     },
     "execution_count": 10,
     "metadata": {},
     "output_type": "execute_result"
    }
   ],
   "source": [
    "cursor = conn.cursor(dictionary=True)\n",
    "\n",
    "query = \"\"\"\n",
    "SELECT \n",
    "    u.user_id,\n",
    "    CONCAT(u.first_name, ' ', u.last_name) AS full_name,\n",
    "    u.email,\n",
    "    SUM(a.balance) AS total_balance\n",
    "FROM \n",
    "    Users u\n",
    "JOIN \n",
    "    Accounts a ON u.user_id = a.user_id\n",
    "GROUP BY \n",
    "    u.user_id, u.first_name, u.last_name, u.email\n",
    "HAVING \n",
    "    total_balance > 100000\n",
    "ORDER BY \n",
    "    total_balance DESC;\n",
    "\"\"\"\n",
    "\n",
    "cursor.execute(query)\n",
    "results = cursor.fetchall()\n",
    "\n",
    "for row in results:\n",
    "    print(row)\n",
    "\n",
    "cursor.close()\n"
   ]
  },
  {
   "cell_type": "code",
   "execution_count": null,
   "id": "7b321198",
   "metadata": {},
   "outputs": [
    {
     "name": "stdout",
     "output_type": "stream",
     "text": [
      "Skipping (maybe exists): 1061 (42000): Duplicate key name 'idx_account_type'\n",
      "Skipping (maybe exists): 1061 (42000): Duplicate key name 'idx_transaction_date'\n",
      "Skipping (maybe exists): 1061 (42000): Duplicate key name 'idx_investment_type'\n",
      "Skipping (maybe exists): 1061 (42000): Duplicate key name 'idx_loan_status'\n",
      "Indexes added.\n"
     ]
    }
   ],
   "source": [
    "cursor = conn.cursor()\n",
    "\n",
    "indexes = [\n",
    "    \"CREATE INDEX idx_accounts_user_id ON Accounts(user_id);\",\n",
    "    \"CREATE INDEX idx_balance ON Accounts(balance);\",\n",
    "    \"CREATE INDEX idx_users_name_email ON Users(first_name, last_name, email);\",\n",
    "    \"CREATE INDEX idx_account_type ON Accounts(account_type);\",\n",
    "    \"CREATE INDEX idx_account_id_transactions ON Transactions(account_id);\",\n",
    "    \"CREATE INDEX idx_transaction_date ON Transactions(transaction_date);\",\n",
    "    \"CREATE INDEX idx_account_id_investments ON Investments(account_id);\",\n",
    "    \"CREATE INDEX idx_investment_type ON Investments(investment_type);\",\n",
    "    \"CREATE INDEX idx_user_id_loans ON Loans(user_id);\",\n",
    "    \"CREATE INDEX idx_loan_status ON Loans(loan_status);\"\n",
    "]\n",
    "\n",
    "for index_query in indexes:\n",
    "    try:\n",
    "        cursor.execute(index_query)\n",
    "    except mysql.connector.Error as e:\n",
    "        print(f\"Skipping (maybe exists): {e}\")\n",
    "\n",
    "conn.commit()\n",
    "cursor.close()\n",
    "print(\"Indexes added.\")"
   ]
  },
  {
   "cell_type": "code",
   "execution_count": 12,
   "id": "7592e750",
   "metadata": {},
   "outputs": [
    {
     "name": "stdout",
     "output_type": "stream",
     "text": [
      "{'account_type': 'savings', 'total_balance': Decimal('125000.00')}\n",
      "{'account_type': 'checking', 'total_balance': Decimal('25000.00')}\n"
     ]
    },
    {
     "data": {
      "text/plain": [
       "True"
      ]
     },
     "execution_count": 12,
     "metadata": {},
     "output_type": "execute_result"
    }
   ],
   "source": [
    "cursor = conn.cursor(dictionary=True)\n",
    "\n",
    "query = \"\"\"\n",
    "SELECT \n",
    "    account_type, \n",
    "    SUM(balance) AS total_balance\n",
    "FROM \n",
    "    Accounts USE INDEX (idx_accounts_user_id, idx_account_type)\n",
    "WHERE \n",
    "    user_id = 1\n",
    "GROUP BY \n",
    "    account_type;\n",
    "\"\"\"\n",
    "\n",
    "cursor.execute(query)\n",
    "for row in cursor.fetchall():\n",
    "    print(row)\n",
    "\n",
    "cursor.close()\n"
   ]
  },
  {
   "cell_type": "code",
   "execution_count": 13,
   "id": "86075cb1",
   "metadata": {},
   "outputs": [
    {
     "name": "stdout",
     "output_type": "stream",
     "text": [
      "{'transaction_id': 1, 'amount': Decimal('15000.00'), 'transaction_type': 'credit', 'transaction_date': datetime.datetime(2025, 4, 20, 18, 52, 17)}\n",
      "{'transaction_id': 2, 'amount': Decimal('5000.00'), 'transaction_type': 'debit', 'transaction_date': datetime.datetime(2025, 4, 20, 18, 52, 17)}\n"
     ]
    },
    {
     "data": {
      "text/plain": [
       "True"
      ]
     },
     "execution_count": 13,
     "metadata": {},
     "output_type": "execute_result"
    }
   ],
   "source": [
    "cursor = conn.cursor(dictionary=True)\n",
    "\n",
    "query = \"\"\"\n",
    "SELECT \n",
    "    t.transaction_id, t.amount, t.transaction_type, t.transaction_date\n",
    "FROM \n",
    "    Transactions t USE INDEX (idx_account_id_transactions, idx_transaction_date)\n",
    "WHERE \n",
    "    t.account_id = 1\n",
    "    AND t.transaction_date >= CURDATE() - INTERVAL 30 DAY\n",
    "ORDER BY \n",
    "    t.transaction_date DESC;\n",
    "\"\"\"\n",
    "\n",
    "cursor.execute(query)\n",
    "for row in cursor.fetchall():\n",
    "    print(row)\n",
    "\n",
    "cursor.close()\n"
   ]
  },
  {
   "cell_type": "code",
   "execution_count": 14,
   "id": "2f649eb1",
   "metadata": {},
   "outputs": [
    {
     "name": "stdout",
     "output_type": "stream",
     "text": [
      "{'investment_type': 'stocks', 'amount': Decimal('80000.00'), 'current_value': Decimal('90000.00'), 'purchase_date': datetime.datetime(2025, 4, 20, 18, 52, 17)}\n"
     ]
    },
    {
     "data": {
      "text/plain": [
       "True"
      ]
     },
     "execution_count": 14,
     "metadata": {},
     "output_type": "execute_result"
    }
   ],
   "source": [
    "cursor = conn.cursor(dictionary=True)\n",
    "\n",
    "query = \"\"\"\n",
    "SELECT \n",
    "    investment_type, amount, current_value, purchase_date\n",
    "FROM \n",
    "    Investments USE INDEX (idx_account_id_investments, idx_investment_type)\n",
    "WHERE \n",
    "    account_id = 13\n",
    "    AND investment_type = 'stocks';\n",
    "\"\"\"\n",
    "\n",
    "cursor.execute(query)\n",
    "for row in cursor.fetchall():\n",
    "    print(row)\n",
    "\n",
    "cursor.close()"
   ]
  },
  {
   "cell_type": "code",
   "execution_count": 15,
   "id": "19f54adf",
   "metadata": {},
   "outputs": [
    {
     "name": "stdout",
     "output_type": "stream",
     "text": [
      "{'loan_amount': Decimal('1000000.00'), 'interest_rate': Decimal('10.25'), 'loan_term_months': 120, 'loan_start_date': datetime.date(2021, 12, 10)}\n"
     ]
    },
    {
     "data": {
      "text/plain": [
       "True"
      ]
     },
     "execution_count": 15,
     "metadata": {},
     "output_type": "execute_result"
    }
   ],
   "source": [
    "cursor = conn.cursor(dictionary=True)\n",
    "\n",
    "query = \"\"\"\n",
    "SELECT \n",
    "    loan_amount, interest_rate, loan_term_months, loan_start_date\n",
    "FROM \n",
    "    Loans USE INDEX (idx_user_id_loans, idx_loan_status)\n",
    "WHERE \n",
    "    user_id = 5\n",
    "    AND loan_status = 'active';\n",
    "\"\"\"\n",
    "\n",
    "cursor.execute(query)\n",
    "for row in cursor.fetchall():\n",
    "    print(row)\n",
    "\n",
    "cursor.close()\n"
   ]
  },
  {
   "cell_type": "code",
   "execution_count": 16,
   "id": "901ae46e",
   "metadata": {},
   "outputs": [
    {
     "name": "stdout",
     "output_type": "stream",
     "text": [
      "{'user_id': 3, 'first_name': 'Sakshi', 'last_name': 'Mayya', 'email': 'sakshi.mayya@example.com'}\n",
      "{'user_id': 1, 'first_name': 'Sanjay', 'last_name': 'Reddy', 'email': 'sanjay.reddy@example.com'}\n",
      "{'user_id': 6, 'first_name': 'Sneha', 'last_name': 'Shet', 'email': 'sneha.shet@example.com'}\n",
      "{'user_id': 12, 'first_name': 'Suchitra', 'last_name': 'Desai', 'email': 'suchitra.desai@example.com'}\n"
     ]
    },
    {
     "data": {
      "text/plain": [
       "True"
      ]
     },
     "execution_count": 16,
     "metadata": {},
     "output_type": "execute_result"
    }
   ],
   "source": [
    "cursor = conn.cursor(dictionary=True)\n",
    "\n",
    "query = \"\"\"\n",
    "SELECT \n",
    "    user_id, first_name, last_name, email\n",
    "FROM \n",
    "    Users USE INDEX (idx_users_name_email)\n",
    "WHERE \n",
    "    first_name LIKE 'S%'\n",
    "    AND email LIKE '%example.com';\n",
    "\"\"\"\n",
    "\n",
    "cursor.execute(query)\n",
    "for row in cursor.fetchall():\n",
    "    print(row)\n",
    "\n",
    "cursor.close()\n"
   ]
  },
  {
   "cell_type": "code",
   "execution_count": 17,
   "id": "1e6c7601",
   "metadata": {},
   "outputs": [
    {
     "name": "stdout",
     "output_type": "stream",
     "text": [
      "{'account_id': 7, 'user_id': 5, 'account_type': 'brokerage', 'balance': Decimal('250000.00')}\n",
      "{'account_id': 15, 'user_id': 13, 'account_type': 'brokerage', 'balance': Decimal('200000.00')}\n",
      "{'account_id': 12, 'user_id': 10, 'account_type': 'savings', 'balance': Decimal('175000.00')}\n",
      "{'account_id': 4, 'user_id': 3, 'account_type': 'brokerage', 'balance': Decimal('150000.00')}\n",
      "{'account_id': 1, 'user_id': 1, 'account_type': 'savings', 'balance': Decimal('125000.00')}\n",
      "{'account_id': 18, 'user_id': 16, 'account_type': 'savings', 'balance': Decimal('120000.00')}\n",
      "{'account_id': 10, 'user_id': 8, 'account_type': 'savings', 'balance': Decimal('110000.00')}\n",
      "{'account_id': 22, 'user_id': 20, 'account_type': 'savings', 'balance': Decimal('105000.00')}\n"
     ]
    },
    {
     "data": {
      "text/plain": [
       "True"
      ]
     },
     "execution_count": 17,
     "metadata": {},
     "output_type": "execute_result"
    }
   ],
   "source": [
    "cursor = conn.cursor(dictionary=True)\n",
    "\n",
    "query = \"\"\"\n",
    "SELECT \n",
    "    account_id, user_id, account_type, balance\n",
    "FROM \n",
    "    Accounts USE INDEX (idx_balance)\n",
    "WHERE \n",
    "    balance > 100000\n",
    "ORDER BY \n",
    "    balance DESC;\n",
    "\"\"\"\n",
    "\n",
    "cursor.execute(query)\n",
    "for row in cursor.fetchall():\n",
    "    print(row)\n",
    "\n",
    "cursor.close()\n"
   ]
  }
 ],
 "metadata": {
  "kernelspec": {
   "display_name": "MD",
   "language": "python",
   "name": "python3"
  },
  "language_info": {
   "codemirror_mode": {
    "name": "ipython",
    "version": 3
   },
   "file_extension": ".py",
   "mimetype": "text/x-python",
   "name": "python",
   "nbconvert_exporter": "python",
   "pygments_lexer": "ipython3",
   "version": "3.10.12"
  }
 },
 "nbformat": 4,
 "nbformat_minor": 5
}
