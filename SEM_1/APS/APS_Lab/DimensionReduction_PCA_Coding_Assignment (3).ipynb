{
  "nbformat": 4,
  "nbformat_minor": 0,
  "metadata": {
    "colab": {
      "provenance": []
    },
    "kernelspec": {
      "name": "python3",
      "display_name": "Python 3"
    }
  },
  "cells": [
    {
      "cell_type": "markdown",
      "source": [
        "---\n",
        "\n",
        "**Load essential libraries**\n",
        "\n",
        "---"
      ],
      "metadata": {
        "id": "C0o-zgcznSo2"
      }
    },
    {
      "cell_type": "code",
      "metadata": {
        "id": "9bXubpvoUUTn"
      },
      "source": [
        "import pandas as pd\n",
        "import numpy as np\n",
        "np.set_printoptions(precision = 2, suppress = True)\n",
        "import sys\n",
        "from scipy import linalg\n",
        "\n",
        "import matplotlib.pyplot as plt\n",
        "import matplotlib.cm as cm\n",
        "plt.style.use('dark_background')\n",
        "%matplotlib inline\n",
        "\n",
        "from sklearn.decomposition import PCA\n",
        "\n",
        "from sklearn.preprocessing import StandardScaler, RobustScaler\n",
        "from sklearn.model_selection import train_test_split\n",
        "\n",
        "from scipy.sparse import random\n",
        "from scipy import stats"
      ],
      "execution_count": null,
      "outputs": []
    },
    {
      "cell_type": "markdown",
      "source": [
        "---\n",
        "\n",
        "Mount Google Drive folder if running Google Colab\n",
        "\n",
        "---"
      ],
      "metadata": {
        "id": "EGzvIEJknYAd"
      }
    },
    {
      "cell_type": "code",
      "metadata": {
        "id": "4-QDMWggVk1A"
      },
      "source": [
        "## Mount Google drive folder if running in Colab\n",
        "if('google.colab' in sys.modules):\n",
        "    from google.colab import drive\n",
        "    drive.mount('/content/drive', force_remount = True)\n",
        "    DIR = '/content/drive/MyDrive/Colab Notebooks/MAHE/MSIS Coursework/OddSem2024MAHE'\n",
        "    DATA_DIR = DIR+'/Data/'\n",
        "else:\n",
        "    DATA_DIR = 'Data/'"
      ],
      "execution_count": null,
      "outputs": []
    },
    {
      "cell_type": "markdown",
      "source": [
        "---\n",
        "\n",
        "Load ICU data\n",
        "\n",
        "---"
      ],
      "metadata": {
        "id": "wAW4l69QsTza"
      }
    },
    {
      "cell_type": "code",
      "source": [
        "## Load data\n",
        "FILE = DATA_DIR + 'ICU_Complete.csv'\n",
        "dfICU = pd.read_csv(FILE)\n",
        "dfICU.head()"
      ],
      "metadata": {
        "id": "Io6fXPHqsNFJ"
      },
      "execution_count": null,
      "outputs": []
    },
    {
      "cell_type": "markdown",
      "source": [
        "---\n",
        "\n",
        "Create a list of categorical and continuous features\n",
        "\n",
        "---"
      ],
      "metadata": {
        "id": "3ftTQ4hNOEv6"
      }
    },
    {
      "cell_type": "code",
      "source": [
        "## Create a list of categorical and continuous features\n",
        "categorical_features = ['In-hospital_death', 'Gender', 'MechVent']\n",
        "continuous_features = dfICU.columns[~dfICU.columns.isin(categorical_features)].to_list()\n",
        "dfICU.dtypes"
      ],
      "metadata": {
        "id": "99ebX4RCswUV"
      },
      "execution_count": null,
      "outputs": []
    },
    {
      "cell_type": "markdown",
      "source": [
        "---\n",
        "\n",
        "Convert categorical features to the categorical type\n",
        "\n",
        "---"
      ],
      "metadata": {
        "id": "q-M9wLofPHBq"
      }
    },
    {
      "cell_type": "code",
      "source": [
        "dfICU[categorical_features] = dfICU[categorical_features].astype('category')\n",
        "dfICU.dtypes"
      ],
      "metadata": {
        "id": "hhxMY6j_PM5M"
      },
      "execution_count": null,
      "outputs": []
    },
    {
      "cell_type": "markdown",
      "source": [
        "---\n",
        "\n",
        "$\\color{yellow}{\\textbf{Complete this}}$\n",
        "\n",
        "Principal component analysis (PCA) of the dataset using the continuous features. For that, extract the dataframe comprising the continuous features.\n",
        "\n",
        "---"
      ],
      "metadata": {
        "id": "AzO98OkKtunl"
      }
    },
    {
      "cell_type": "code",
      "source": [
        "## Extract dataframe comprising the continuous features\n",
        "dfICU_continuous = ?\n",
        "dfICU_continuous.head(10)"
      ],
      "metadata": {
        "id": "_PBTs7tGGLLH"
      },
      "execution_count": null,
      "outputs": []
    },
    {
      "cell_type": "markdown",
      "source": [
        "---\n",
        "\n",
        "$\\color{yellow}{\\textbf{Complete this}}$\n",
        "\n",
        "Make a scatter plot between heart rate and Temperature\n",
        "\n",
        "---"
      ],
      "metadata": {
        "id": "41pPvuehRTee"
      }
    },
    {
      "cell_type": "code",
      "source": [
        "## Scatter plot between heart rate and temperature\n",
        "fig, ax = plt.subplots(1, 1, figsize = (4, 4))\n",
        "fig.tight_layout(pad = 4.0)\n",
        "ax.scatter(?, ?, s = 2.0, color = 'red')\n",
        "ax.set_xlabel('Heart Rate (BPM)', fontsize = 12)\n",
        "ax.set_ylabel('Temperature (Celsius)', fontsize = 12)\n",
        "ax.set_title('Heart Rate vs. Temperature', fontsize = 14);"
      ],
      "metadata": {
        "id": "ZeOnG5FRRgFJ"
      },
      "execution_count": null,
      "outputs": []
    },
    {
      "cell_type": "markdown",
      "source": [
        "---\n",
        "\n",
        "$\\color{yellow}{\\textbf{Complete this}}$\n",
        "\n",
        "Calculate the variance of heart rates from scratch and using the in-built function in numpy\n",
        "\n",
        "\n",
        "---"
      ],
      "metadata": {
        "id": "NL8FXyHDPwsD"
      }
    },
    {
      "cell_type": "code",
      "source": [
        "## Variance of heart rates\n",
        "print(np.mean((dfICU_continuous[?]-np.mean(?))**2))\n",
        "print(np.var(?))"
      ],
      "metadata": {
        "id": "LdVsY_JZo_GE"
      },
      "execution_count": null,
      "outputs": []
    },
    {
      "cell_type": "markdown",
      "source": [
        "---\n",
        "\n",
        "$\\color{yellow}{\\textbf{Complete this}}$\n",
        "\n",
        "Calculate the variance of temperatures from scratch and using the in-built function in numpy\n",
        "\n",
        "\n",
        "---"
      ],
      "metadata": {
        "id": "UBHR18c7Q-V1"
      }
    },
    {
      "cell_type": "code",
      "source": [
        "## Variance of temperatures\n"
      ],
      "metadata": {
        "id": "DxgY-xWORB3r"
      },
      "execution_count": null,
      "outputs": []
    },
    {
      "cell_type": "markdown",
      "source": [
        "---\n",
        "\n",
        "$\\color{yellow}{\\textbf{Complete this}}$\n",
        "\n",
        "Calculate the covariance between heart rate and temperature from scratch and using the in-built function in numpy\n",
        "\n",
        "\n",
        "---"
      ],
      "metadata": {
        "id": "iafN6eBaQTk1"
      }
    },
    {
      "cell_type": "code",
      "source": [
        "## Covariance between heart rate and blood pressur\n",
        "print((1/dfICU_continuous.shape[0])*np.dot(?, ?))\n",
        "print(np.cov(?, ?))"
      ],
      "metadata": {
        "id": "nBbtWcHxpjUH"
      },
      "execution_count": null,
      "outputs": []
    },
    {
      "cell_type": "markdown",
      "source": [
        "---\n",
        "\n",
        "$\\color{yellow}{\\textbf{Complete this}}$\n",
        "\n",
        "Calculate the correlation between heart rate and Temperature using the in-built function in numpy\n",
        "\n",
        "\n",
        "---"
      ],
      "metadata": {
        "id": "zDfsbrYWSoZK"
      }
    },
    {
      "cell_type": "code",
      "source": [
        "## Correlation between heart rate and temperature using the in-built function in numpy\n",
        "print(np.corrcoef(?, ?))"
      ],
      "metadata": {
        "id": "YtrvCvzLSum-"
      },
      "execution_count": null,
      "outputs": []
    },
    {
      "cell_type": "markdown",
      "source": [
        "---\n",
        "\n",
        "$\\color{yellow}{\\textbf{Complete this}}$\n",
        "\n",
        "Create a matrix comprising the standardized values of the continuous features\n",
        "\n",
        "\n",
        "---"
      ],
      "metadata": {
        "id": "73axU4w7Vb8T"
      }
    },
    {
      "cell_type": "code",
      "source": [
        "## Standardized continuous features\n",
        "sc = StandardScaler()\n",
        "X = ?\n",
        "print(X)"
      ],
      "metadata": {
        "id": "d_m2mXdWVhK6"
      },
      "execution_count": null,
      "outputs": []
    },
    {
      "cell_type": "markdown",
      "source": [
        "---\n",
        "\n",
        "$\\color{yellow}{\\textbf{Complete this}}$\n",
        "\n",
        "Perform PCA with one component and rank the features in terms of the magnitude of the PCA loadings\n",
        "\n",
        "---"
      ],
      "metadata": {
        "id": "qnK980QhU28n"
      }
    },
    {
      "cell_type": "code",
      "source": [
        "## Create and fit PCA object\n",
        "pca = PCA(n_components = ?)\n",
        "print(pca.fit_transform(?))\n",
        "\n",
        "# Print principal components\n",
        "print(pca.components_)\n",
        "\n",
        "# Print explained variance\n",
        "print(pca.explained_variance_)"
      ],
      "metadata": {
        "id": "rWKxemZUw9rI"
      },
      "execution_count": null,
      "outputs": []
    },
    {
      "cell_type": "markdown",
      "source": [
        "---\n",
        "\n",
        "$\\color{yellow}{\\textbf{Complete this}}$\n",
        "\n",
        "Project the 0th sample onto the PC-1 direction\n",
        "\n",
        "---"
      ],
      "metadata": {
        "id": "ZMxvEbaLV99V"
      }
    },
    {
      "cell_type": "code",
      "source": [
        "## Project the 0th sample onto the PC-1 direction\n",
        "np.dot(?, ?)"
      ],
      "metadata": {
        "id": "5LkA0vuc045j"
      },
      "execution_count": null,
      "outputs": []
    },
    {
      "cell_type": "markdown",
      "source": [
        "---\n",
        "\n",
        "$\\color{yellow}{\\textbf{Complete this}}$\n",
        "\n",
        "Calculate the variance of the samples projected onto the PC-1 direction\n",
        "\n",
        "---"
      ],
      "metadata": {
        "id": "Zk6Iar1DWzHo"
      }
    },
    {
      "cell_type": "code",
      "source": [
        "## Calculate the variance of the samples projected onto the PC-1 direction\n",
        "# np.var(pca.fit_transform(X))"
      ],
      "metadata": {
        "id": "Y8O8c5KdWzdu"
      },
      "execution_count": null,
      "outputs": []
    },
    {
      "cell_type": "markdown",
      "source": [
        "---\n",
        "\n",
        "$\\color{yellow}{\\textbf{Complete this}}$\n",
        "\n",
        "Perform PCA with two components\n",
        "\n",
        "---"
      ],
      "metadata": {
        "id": "rb-jfuv9SUpG"
      }
    },
    {
      "cell_type": "code",
      "source": [
        "# Create and fit PCA object\n",
        "pca = PCA(?)\n",
        "pca.fit_transform(?)\n",
        "\n",
        "# Print principal components\n",
        "print(pca.components_)\n",
        "\n",
        "# Print explained variance\n",
        "print(pca.explained_variance_)"
      ],
      "metadata": {
        "id": "CYP7Cd9WSYKU"
      },
      "execution_count": null,
      "outputs": []
    },
    {
      "cell_type": "markdown",
      "source": [
        "---\n",
        "\n",
        "$\\color{yellow}{\\textbf{Complete this}}$\n",
        "\n",
        "Calculate the proportion of variance explained by projecting on to\n",
        "PC-1 and onto both PC-1 and PC-2 directions\n",
        "\n",
        "---"
      ],
      "metadata": {
        "id": "UAy1zWNyYDJY"
      }
    },
    {
      "cell_type": "code",
      "source": [
        "## Calculate the proportion of variance explained by projecting on to\n",
        "## PC-1 and onto both PC-1 and PC-2 directions\n",
        "?/?"
      ],
      "metadata": {
        "id": "T8IzdTurYEeK"
      },
      "execution_count": null,
      "outputs": []
    },
    {
      "cell_type": "markdown",
      "source": [
        "---\n",
        "\n",
        "$\\color{yellow}{\\textbf{Complete this}}$\n",
        "\n",
        "Perform PCA with all components and select the number of PCs such that we are able to explain at least 75% of the total variance in the data\n",
        "\n",
        "---"
      ],
      "metadata": {
        "id": "dVZu__VxZOVq"
      }
    },
    {
      "cell_type": "code",
      "source": [
        "## Perform PCA with all components and select the number of PCs such that\n",
        "## we are able to explain at least 75% of the total variance in the data"
      ],
      "metadata": {
        "id": "uTYGODm4ZZ9-"
      },
      "execution_count": null,
      "outputs": []
    },
    {
      "cell_type": "markdown",
      "source": [
        "---\n",
        "\n",
        "$\\color{yellow}{\\textbf{Complete this}}$\n",
        "\n",
        "\n",
        "Fit a PCA model for the dataset considering only two features: (1) Heart Rate (2) Temperature\n",
        "\n",
        "---"
      ],
      "metadata": {
        "id": "p0yaZFcX2wrL"
      }
    },
    {
      "cell_type": "code",
      "source": [
        "## Fit a PCA model for the dataset considering only two features:\n",
        "## (1) Heart Rate (2) Temperature"
      ],
      "metadata": {
        "id": "iu8F-GPe3JBC"
      },
      "execution_count": null,
      "outputs": []
    },
    {
      "cell_type": "code",
      "source": [
        "## Scatter plot of heart rate and temperature along with the PC vectors\n",
        "fig, ax = plt.subplots(1, 1, figsize = (4, 4))\n",
        "fig.tight_layout(pad = 4.0)\n",
        "ax.scatter(?, ?, s = 4.0, alpha = 0.2, color = 'red')\n",
        "arrowprops = dict(arrowstyle = '->', linewidth = 2, shrinkA = 0, shrinkB = 0)\n",
        "ax.annotate('', xy = (pca.components_[0, 0], pca.components_[1, 0]), xytext = (0, 0), arrowprops = arrowprops)\n",
        "ax.annotate('', xy = (pca.components_[0, 1], pca.components_[1, 1]), xytext = (0, 0), arrowprops = arrowprops)"
      ],
      "metadata": {
        "id": "TIeHykZzTBXc"
      },
      "execution_count": null,
      "outputs": []
    }
  ]
}