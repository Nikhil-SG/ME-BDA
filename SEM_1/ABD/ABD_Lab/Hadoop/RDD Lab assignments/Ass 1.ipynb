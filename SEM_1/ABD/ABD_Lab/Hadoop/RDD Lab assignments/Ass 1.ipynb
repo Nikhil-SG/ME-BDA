
1. Use * to repeat the list [10, 1, 3.3] FIVE times 

2. Use the in operator to check if 3 is inside a list [1, 2, 3, 4, 5]

3. Now look at strings x = 'This is a string'
   
	(a) print first character
	(b) print first two characters
	(c) Print the last element of the string.
	(d) Print 4th element from the end and stop before the 2nd element from the end.
	(e) Slice starting from the 4th element from the end and stopping before the 4nd element from the end.
	(f) Slice from the beginning of the string and stopping before the 3rd element.
	(g) Slice starting from the 4th element of the string and going all the way to the end.

4. firstname = 'Arockiaraj'
   lastname = 'S'

	print concatenate firstname and lastname 
	
	print whether 'rock' is present in firstname.

5. Split returns a list of all the words in a string, or a list split on a specific character.

	name = 'Tom Mitchell Machine Learning Scientist'.split(' ')
	

	(a) selects the first element of the list
	(b) selects the last element of the list
	(c) print the firstname
	(d) print middlename
	(e) print lastname
	(f) print firstname + ' ' + middlename+ ' ' + lastname

6. Concatenate the following.
	Chris & 2 

7. Consider the dictionaries associate keys with values.
	x = {'Arockiaraj': 'araj.s@manipal.edu', 'Bill Gates': 'billg@microsoft.com'}
   
	(a) Retrieve a value by using the indexing operator
	(b) Iterate over all of the keys
	(c) Iterate over all of the values
	(d) Iterate over all of the items in the list

8. Unpack a sequence into different variables: fname, lname, email
	x = ('Arockiaraj', 'Simiyon', 'araj.s@manipal.edu')
 

9. Make sure the number of values you are unpacking matches the number of variables being assigned.
	x = ('Arockiaraj', 'Simiyon', 'araj.s@manipal.edu', 'Manipal')
	fname, lname, email, mname = x

10. Python has a built in method for convenient string formatting. 
	Explain the output of the following code.  

	sales_record = {'price': 3.24, 'num_items': 4, 'person': 'Arockiaraj', 'email':'araj.s@manipal.edu'}

	sales_statement = '{} bought {} item(s) at a price of INR {} each for a total of INR {}'

	print(sales_statement.format(sales_record['person'],
                             sales_record['num_items'],
                             sales_record['price'],
                             sales_record['num_items']*sales_record['price']))


11. Date and time use

	import datetime as dt
	import time as tm

	#time returns the current time in seconds since the Epoch. (January 1st, 1970)

	tm.time()

	from datetime import date
	today = date.today()
	print('today date is', today)

	#Convert the timestamp to datetime.
	dtnow = dt.datetime.fromtimestamp(tm.time())
	dtnow

	#Handy datetime attributes:
	dtnow.year, dtnow.month, dtnow.day, dtnow.hour, dtnow.minute, dtnow.second # get year, month, day, etc.from a datetime

	#timedelta is a duration expressing the difference between two dates.
	delta = dt.timedelta(days = 100) # create a timedelta of 100 days

	#date.today returns the current local date.

	today = dt.date.today()

	today - delta # the date 100 days ago
	today > today-delta # compare dates

12. Objects and map()

#An example of a class in python:

class Person:
    institute = 'Manipal School of Information Sciences' #a class variable

    #self keyword to access the attributes and methods of the class
    
    def set_name(self, new_name): #a method
        self.name = new_name
    def set_location(self, new_location):  
        self.location = new_location

person = Person()
person.set_name('Arockiaraj')
person.set_location('Manipal, Udupi, Karnataka')

#what will be the output of the following statement:
print('{} lives in {} and works in the institute {}'.format(person.name, person.location, person.institute))


13. Example set
	x={1, 'x', 2, 'y', (1, 2, 3), 'hello'}
	y = (1, 2, 3)

	#sets are unordered 
	y={1, 'x', 2, 'y'}
	z={1, 'x', 2, 'y'}
	print(y, z)

	#Write the output of the after executing the following commands: 
	y.add(4)
	z.add('a')
	print(y, z)


14. Here's an example of mapping the min function between three lists. 
	Milk, water, sugar, tea packet

	store1 = [10.00, 11.00, 12.34, 5.34]
	store2 = [19.00, 10.10, 12.34, 5.01]
	store3 = [15.00, 12.00, 11.00, 6.00]

	cheapest = map(min, store1, store2, store3)
	costly = map(max, store1, store2, store3)

	print(cheapest)

	(a) Iterate through the map object to see the values.
	(b) Iterate through the map object to see the values.

15. Use the following map function to find the square of the numbers

def calculateSquare(n):
    return n*n

numbers = (1, 2, 3, 4)
result = map(calculateSquare, numbers)
print (result)

(a) what will be the output of the following:

for item in result:
    print(item)


16. Lambda function is used when you need a function for a short period of time.
	
 
	numbers = (1, 2, 3, 4)
	result = map(lambda x: x*x, numbers)

	(a) Iterate through the map object to see the values.


17.
 
	num1 = [4, 5, 6]
	num2 = [5, 6, 7]

	result = map(lambda n1, n2: n1+n2, num1, num2)


	(a) Iterate through the map object to see the values.

18. Find the output of the following:

people = ['Python Programming Language', 'Computer Lab Test', 'Vinod Scored A', 'Kumar Scored B']

def split_title_and_name(person):
    
    title = person.split()[0]

    lastname = person.split()[-1]

    return '{} {}'.format(title, lastname)

list(map(split_title_and_name, people))


19. Show the use of lambda functions

	dx = lambda x: x * 2

	print(dx(10))

20.Show the use of lambda functions

	dx = lambda x, y: (x + y)*2

	print(dx(5, 10))

21. What will be the output of the following

	my_list = [1, 5, 4, 6, 8, 11, 3, 12]

	new_list1 = list(map(lambda x: x * 2 , my_list))

	new_list2 = map(lambda x: x * 2 , my_list)

	print(new_list1)
	print(new_list2)


22. Iterate from 0 to 19 and return the even numbers

my_list = []
for number in range(1, 19):
    if number % 2 == 0:
        my_list.append(number)
my_list

#Now the same thing but with list comprehension
my_list = [number for number in range(1, 19) if number % 2 == 0]
my_list

23. Write the output of the following function.

def times_tables():
    lst = []
    for i in range(10):
        for j in range (10):
            lst.append(i*j)
    return lst

times_tables() == [j*i for i in range(10) for j in range(10)]

print(times_tables())
print([j*i for i in range(10) for j in range(10)])


24. Numerical Python (NumPy): Write the output of the following

import numpy as np
mylist = [1, 2, 3]
x = np.array(mylist)
(a) what will be the value of x

#Pass in a list of lists to create a multidimensional array.
m = np.array([[7, 8, 9], 
              [10, 11, 12]])
(b) what will be the value of m
(c) Find the shape of the array m

consider the following code
n = np.arange(0, 30, 2) 
(a) write the value of n 
(b) Reshape an array n to be 3x5 

#linspace returns evenly spaced numbers over a specified interval.
lspace = np.linspace(0, 10, 9) 
(a) what will be the output of above code 

lspace.resize(3, 3)
(a) what will be the output of above code

#ones returns a new array of given shape and type, filled with ones.
np.ones((5, 4))
(a) what will be the output of above code

#zeros returns a new array of given shape and type, filled with zeros.
np.zeros((2, 3))
(a) what will be the output of above code

#eye returns a 2-D array with ones on the diagonal and zeros elsewhere.
np.eye(3)
(a) what will be the output of above code

# numpy.diag() function
import numpy as np

# matrix creation by array input
num = np.matrix([[11, 121, 130], 
                 [613 ,34, 13], 
                 [514, 50, 16]])

print("Main Diagnol elements : \n", np.diag(num))
print("\nDiagnol elements above main diagnol : \n", np.diag(num, 1) )
print("\nDiagnol elements below main diagnol : \n", np.diag(num, -1))

(a) write the output of above code

25. Write the difference between the following two lines

	np.array([1, 2, 3] * 3)
	np.repeat([1, 2, 3], 3)


26. Write the output of the following


	p = np.ones([3, 3], int)
	

	np.vstack([p, 2*p])

	np.vstack([p, 2*p, 3*p])

	np.hstack([p, 2*p])

	np.hstack([p, 2*p, 3*p])

27. Observe the output of the following 

	x=np.array([1, 2, 3])
	y=np.array([4, 5, 6])

	print(x + y) 
	print(x - y) 

	print(x * y) 
	print(x / y) 
	print(x**2) 

	x.dot(y) 

	z = np.array([y, y**2])
	
	z.T

28. Write the output of the following

	a = np.array([-4, -2, 1, 3, 5])
	a.sum()

	a.max()

	a.min()

	a.mean()

	a.std()  

	a.argmax()

	a.argmin()

29. Consider the following
	s = np.arange(100)

	what will be the output of the following:
	s = np.arange(6)**2

	s[0], s[4], s[-1]

	s[1:5]

30. Consider the following
	s = np.arange(13)**2

	what will be the output of the following:
	s[0], s[4], s[-1]
	s[1:5]
	s[-4:]

	s[-5::-2]
	s[-5:-2]

31. Let's look at a multidimensional array.
	r = np.arange(100)
	r.resize((10, 10))

	what will be the output of 
	r

	r[2, 2]

	r[3, 3:6]

	r[:2, :-1]
	r[-1, ::2]
	
	r[r > 30]
	
	r[r > 30] = 30
	r
	
	
	
32. Examine the output of the following code part

	#r2 is a slice of r
	r2 = r[:3,:3]
	r2
	#Set this slice's values to zero ([:] selects the entire array)
	r2[:] = 0
	r2

	#r has also been changed!
	r

	#To avoid this, use r.copy to create a copy that will not affect the original array
	r_copy = r.copy()
	r_copy

	#Now when r_copy is modified, r will not be changed.
	r_copy[:] = 10
	print(r_copy, '\n')
	print(r)

33. Iterating Over Arrays
	#Let's create a new 4 by 3 array of random numbers 0-9.
	test = np.random.randint(0, 10, (4,3))
	test

#Iterate by row:
for row in test:
    print(row)

#Iterate by index:
for i in range(len(test)):
    print(test[i])

#Iterate by row and index:
for i, row in enumerate(test):
    print('row', i, 'is', row)

#Use zip to iterate over multiple iterables.
test2 = test**2
test2

for i, j in zip(test, test2):
    print(i,'+',j,'=',i+j)

