{
 "cells": [
  {
   "cell_type": "code",
   "execution_count": 15,
   "metadata": {},
   "outputs": [],
   "source": [
    "import numpy as np"
   ]
  },
  {
   "cell_type": "code",
   "execution_count": 16,
   "metadata": {},
   "outputs": [
    {
     "name": "stdout",
     "output_type": "stream",
     "text": [
      "[[['a00' 'a01' 'a02']\n",
      "  ['a10' 'a11' 'a12']\n",
      "  ['a20' 'a21' 'a22']]\n",
      "\n",
      " [['b00' 'b01' 'b02']\n",
      "  ['b10' 'b11' 'b12']\n",
      "  ['b20' 'b21' 'b22']]]\n"
     ]
    }
   ],
   "source": [
    "arr = np.array([[['a00', 'a01', 'a02'], ['a10', 'a11', 'a12'], ['a20', 'a21', 'a22']],\n",
    "                [['b00', 'b01', 'b02'], ['b10', 'b11', 'b12'], ['b20', 'b21', 'b22']]])\n",
    "print(arr)"
   ]
  },
  {
   "cell_type": "code",
   "execution_count": 19,
   "metadata": {},
   "outputs": [
    {
     "name": "stdout",
     "output_type": "stream",
     "text": [
      "(2, 3, 3)\n"
     ]
    }
   ],
   "source": [
    "print(arr.shape)"
   ]
  },
  {
   "cell_type": "code",
   "execution_count": 9,
   "metadata": {},
   "outputs": [
    {
     "name": "stdout",
     "output_type": "stream",
     "text": [
      "[[['a00' 'a01' 'a02']\n",
      "  ['a10' 'a11' 'a12']\n",
      "  ['a20' 'a21' 'a22']]\n",
      "\n",
      " [['b00' 'b01' 'b02']\n",
      "  ['b10' 'b11' 'b12']\n",
      "  ['b20' 'b21' 'b22']]]\n"
     ]
    }
   ],
   "source": [
    "transposed_arr = arr.transpose(0, 1, 2)\n",
    "print(transposed_arr)"
   ]
  },
  {
   "cell_type": "code",
   "execution_count": null,
   "metadata": {},
   "outputs": [
    {
     "name": "stdout",
     "output_type": "stream",
     "text": [
      "[[['a00' 'a10' 'a20']\n",
      "  ['a01' 'a11' 'a21']\n",
      "  ['a02' 'a12' 'a22']]\n",
      "\n",
      " [['b00' 'b10' 'b20']\n",
      "  ['b01' 'b11' 'b21']\n",
      "  ['b02' 'b12' 'b22']]]\n"
     ]
    }
   ],
   "source": [
    "transposed_arr = arr.transpose(0, 2,1)\n",
    "print(transposed_arr)"
   ]
  },
  {
   "cell_type": "code",
   "execution_count": 11,
   "metadata": {},
   "outputs": [
    {
     "name": "stdout",
     "output_type": "stream",
     "text": [
      "[[['a00' 'a01' 'a02']\n",
      "  ['b00' 'b01' 'b02']]\n",
      "\n",
      " [['a10' 'a11' 'a12']\n",
      "  ['b10' 'b11' 'b12']]\n",
      "\n",
      " [['a20' 'a21' 'a22']\n",
      "  ['b20' 'b21' 'b22']]]\n"
     ]
    }
   ],
   "source": [
    "transposed_arr = arr.transpose(1,0,2)\n",
    "print(transposed_arr)"
   ]
  },
  {
   "cell_type": "code",
   "execution_count": 12,
   "metadata": {},
   "outputs": [
    {
     "name": "stdout",
     "output_type": "stream",
     "text": [
      "[[['a00' 'b00']\n",
      "  ['a01' 'b01']\n",
      "  ['a02' 'b02']]\n",
      "\n",
      " [['a10' 'b10']\n",
      "  ['a11' 'b11']\n",
      "  ['a12' 'b12']]\n",
      "\n",
      " [['a20' 'b20']\n",
      "  ['a21' 'b21']\n",
      "  ['a22' 'b22']]]\n"
     ]
    }
   ],
   "source": [
    "transposed_arr = arr.transpose(1,2,0)\n",
    "print(transposed_arr)"
   ]
  },
  {
   "cell_type": "code",
   "execution_count": 13,
   "metadata": {},
   "outputs": [
    {
     "name": "stdout",
     "output_type": "stream",
     "text": [
      "[[['a00' 'a10' 'a20']\n",
      "  ['b00' 'b10' 'b20']]\n",
      "\n",
      " [['a01' 'a11' 'a21']\n",
      "  ['b01' 'b11' 'b21']]\n",
      "\n",
      " [['a02' 'a12' 'a22']\n",
      "  ['b02' 'b12' 'b22']]]\n"
     ]
    }
   ],
   "source": [
    "transposed_arr = arr.transpose(2,0,1)\n",
    "print(transposed_arr)"
   ]
  },
  {
   "cell_type": "code",
   "execution_count": 14,
   "metadata": {},
   "outputs": [
    {
     "name": "stdout",
     "output_type": "stream",
     "text": [
      "[[['a00' 'b00']\n",
      "  ['a10' 'b10']\n",
      "  ['a20' 'b20']]\n",
      "\n",
      " [['a01' 'b01']\n",
      "  ['a11' 'b11']\n",
      "  ['a21' 'b21']]\n",
      "\n",
      " [['a02' 'b02']\n",
      "  ['a12' 'b12']\n",
      "  ['a22' 'b22']]]\n"
     ]
    }
   ],
   "source": [
    "transposed_arr = arr.transpose(2, 1, 0)\n",
    "print(transposed_arr)"
   ]
  }
 ],
 "metadata": {
  "kernelspec": {
   "display_name": "Python 3",
   "language": "python",
   "name": "python3"
  },
  "language_info": {
   "codemirror_mode": {
    "name": "ipython",
    "version": 3
   },
   "file_extension": ".py",
   "mimetype": "text/x-python",
   "name": "python",
   "nbconvert_exporter": "python",
   "pygments_lexer": "ipython3",
   "version": "3.11.9"
  }
 },
 "nbformat": 4,
 "nbformat_minor": 2
}
