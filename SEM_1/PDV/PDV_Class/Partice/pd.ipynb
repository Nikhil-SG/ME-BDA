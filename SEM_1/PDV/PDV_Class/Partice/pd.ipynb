{
 "cells": [
  {
   "cell_type": "code",
   "execution_count": 1,
   "metadata": {},
   "outputs": [
    {
     "name": "stdout",
     "output_type": "stream",
     "text": [
      "Total cars per company:\n",
      "Company\n",
      "Ford      4\n",
      "BMW       3\n",
      "Toyota    3\n",
      "Name: count, dtype: int64 \n",
      "\n",
      "Most expensive car company: BMW\n",
      "\n",
      "Average mileage of each car-making company:\n",
      "Company\n",
      "BMW       11.666667\n",
      "Ford      17.000000\n",
      "Toyota    21.000000\n",
      "Name: Mileage, dtype: float64 \n",
      "\n",
      "Cars sorted by price:\n",
      "  Company     Model  Price  Mileage\n",
      "4     BMW        M3  70000       10\n",
      "1     BMW        X5  60000       12\n",
      "7     BMW        X3  45000       13\n",
      "0    Ford   Mustang  40000       15\n",
      "8    Ford  Explorer  35000       16\n",
      "5  Toyota     Camry  30000       21\n",
      "9  Toyota      RAV4  27000       22\n",
      "3  Toyota   Corolla  25000       20\n",
      "6    Ford     Focus  22000       19\n",
      "2    Ford    Fiesta  20000       18\n"
     ]
    }
   ],
   "source": [
    "import pandas as pd\n",
    "\n",
    "# Creating a sample car dataset\n",
    "data = {\n",
    "    'Company': ['Ford', 'BMW', 'Ford', 'Toyota', 'BMW', 'Toyota', 'Ford', 'BMW', 'Ford', 'Toyota'],\n",
    "    'Model': ['Mustang', 'X5', 'Fiesta', 'Corolla', 'M3', 'Camry', 'Focus', 'X3', 'Explorer', 'RAV4'],\n",
    "    'Price': [40000, 60000, 20000, 25000, 70000, 30000, 22000, 45000, 35000, 27000],\n",
    "    'Mileage': [15, 12, 18, 20, 10, 21, 19, 13, 16, 22]\n",
    "}\n",
    "\n",
    "# Creating the dataframe\n",
    "car_df = pd.DataFrame(data)\n",
    "\n",
    "# 1. Counting total cars per company\n",
    "cars_per_company = car_df['Company'].value_counts()\n",
    "print(\"Total cars per company:\")\n",
    "print(cars_per_company, \"\\n\")\n",
    "\n",
    "# 2. Finding the most expensive car company name\n",
    "most_expensive_car_company = car_df.loc[car_df['Price'].idxmax(), 'Company']\n",
    "print(f\"Most expensive car company: {most_expensive_car_company}\\n\")\n",
    "\n",
    "# 3. Finding the average mileage of each car-making company\n",
    "average_mileage = car_df.groupby('Company')['Mileage'].mean()\n",
    "print(\"Average mileage of each car-making company:\")\n",
    "print(average_mileage, \"\\n\")\n",
    "\n",
    "# 4. Sorting all cars by Price column\n",
    "sorted_cars_by_price = car_df.sort_values(by='Price', ascending=False)\n",
    "print(\"Cars sorted by price:\")\n",
    "print(sorted_cars_by_price)\n"
   ]
  }
 ],
 "metadata": {
  "kernelspec": {
   "display_name": "Python 3",
   "language": "python",
   "name": "python3"
  },
  "language_info": {
   "codemirror_mode": {
    "name": "ipython",
    "version": 3
   },
   "file_extension": ".py",
   "mimetype": "text/x-python",
   "name": "python",
   "nbconvert_exporter": "python",
   "pygments_lexer": "ipython3",
   "version": "3.11.9"
  }
 },
 "nbformat": 4,
 "nbformat_minor": 2
}
