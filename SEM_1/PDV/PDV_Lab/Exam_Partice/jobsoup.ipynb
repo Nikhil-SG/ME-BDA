{
 "cells": [
  {
   "cell_type": "code",
   "execution_count": 1,
   "metadata": {},
   "outputs": [],
   "source": [
    "from bs4 import BeautifulSoup\n",
    "import requests\n",
    "import pandas as pd"
   ]
  },
  {
   "cell_type": "code",
   "execution_count": 2,
   "metadata": {},
   "outputs": [],
   "source": [
    "def scrap(soup):\n",
    "    jobs = soup.find_all('li', class_='clearfix job-bx wht-shd-bx')\n",
    "    data_list = []\n",
    "    for job in jobs:\n",
    "        role = job.find('h2', class_='heading-trun')['title']\n",
    "        company = job.find('h3', class_='joblist-comp-name').text.strip()\n",
    "        location = job.find('ul', class_='top-jd-dtl mt-16 clearfix').find_all('li')[0].text.strip()\n",
    "        experience = job.find('ul', class_='top-jd-dtl mt-16 clearfix').find_all('li')[1].text.strip()\n",
    "        salary = job.find('ul', class_='top-jd-dtl mt-16 clearfix').find_all('li')[2].text.strip()\n",
    "        data_list.append({'role': role, 'company': company, 'location': location, 'experience': experience, 'salary': salary})\n",
    "    return data_list\n"
   ]
  },
  {
   "cell_type": "code",
   "execution_count": 3,
   "metadata": {},
   "outputs": [],
   "source": [
    "datas = []\n",
    "page = 1\n",
    "response = True\n",
    "while (page <= 20):\n",
    "    url = f'https://www.timesjobs.com/candidate/job-search.html?from=submit&luceneResultSize=25&txtKeywords=Python&postWeek=60&searchType=personalizedSearch&actualTxtKeywords=Python,&searchBy=0&rdoOperator=OR&pDate=I&sequence=11&startPage={page}'\n",
    "    res = requests.get(url)\n",
    "    soup = BeautifulSoup(res.text, 'html.parser')\n",
    "    #context = res.text\n",
    "    datas.extend(scrap(soup))\n",
    "    page += 1\n",
    "\n",
    "df = pd.DataFrame(datas)\n",
    "df.to_csv('jobs.csv', index=False)"
   ]
  }
 ],
 "metadata": {
  "kernelspec": {
   "display_name": "Python 3",
   "language": "python",
   "name": "python3"
  },
  "language_info": {
   "codemirror_mode": {
    "name": "ipython",
    "version": 3
   },
   "file_extension": ".py",
   "mimetype": "text/x-python",
   "name": "python",
   "nbconvert_exporter": "python",
   "pygments_lexer": "ipython3",
   "version": "3.11.9"
  }
 },
 "nbformat": 4,
 "nbformat_minor": 2
}
