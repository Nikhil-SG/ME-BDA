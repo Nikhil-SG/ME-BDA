{
 "cells": [
  {
   "cell_type": "code",
   "execution_count": null,
   "id": "7d891de0",
   "metadata": {},
   "outputs": [],
   "source": [
    "import pandas as pd\n",
    "\n",
    "data = {'Name': ['Nikhil', 'Karthik', 'Nithik', 'Sanjay', 'Akash', 'Pavan'],\n",
    "        'Age': [22, 26, 23, 23, 22, 27]}\n",
    "df = pd.DataFrame(data)\n",
    "df"
   ]
  },
  {
   "cell_type": "markdown",
   "id": "0be54c96",
   "metadata": {},
   "source": [
    "### Display the first few rows of the DataFrame"
   ]
  },
  {
   "cell_type": "code",
   "execution_count": null,
   "id": "f148b164",
   "metadata": {},
   "outputs": [],
   "source": [
    "df.head()"
   ]
  },
  {
   "cell_type": "markdown",
   "id": "6882b3e1",
   "metadata": {},
   "source": [
    "### Display the last few rows of the DataFrame"
   ]
  },
  {
   "cell_type": "code",
   "execution_count": 1,
   "id": "cca280ce",
   "metadata": {},
   "outputs": [
    {
     "ename": "NameError",
     "evalue": "name 'df' is not defined",
     "output_type": "error",
     "traceback": [
      "\u001b[1;31m---------------------------------------------------------------------------\u001b[0m",
      "\u001b[1;31mNameError\u001b[0m                                 Traceback (most recent call last)",
      "Cell \u001b[1;32mIn[1], line 1\u001b[0m\n\u001b[1;32m----> 1\u001b[0m \u001b[43mdf\u001b[49m\u001b[38;5;241m.\u001b[39mtail()\n",
      "\u001b[1;31mNameError\u001b[0m: name 'df' is not defined"
     ]
    }
   ],
   "source": [
    "df.tail()"
   ]
  },
  {
   "cell_type": "markdown",
   "id": "971a559b",
   "metadata": {},
   "source": [
    "### Get the DataFrame shape (rows, columns)"
   ]
  },
  {
   "cell_type": "code",
   "execution_count": null,
   "id": "97c25f1a",
   "metadata": {},
   "outputs": [],
   "source": [
    "df.shape"
   ]
  },
  {
   "cell_type": "markdown",
   "id": "78b72283",
   "metadata": {},
   "source": [
    "### Get a summary of the DataFrame"
   ]
  },
  {
   "cell_type": "code",
   "execution_count": null,
   "id": "4723b295",
   "metadata": {},
   "outputs": [],
   "source": [
    "df.info()"
   ]
  },
  {
   "cell_type": "markdown",
   "id": "3a743d5b",
   "metadata": {},
   "source": [
    "### Describe numerical columns in the DataFrame"
   ]
  },
  {
   "cell_type": "code",
   "execution_count": null,
   "id": "bd779d27",
   "metadata": {},
   "outputs": [],
   "source": [
    "df.describe()"
   ]
  },
  {
   "cell_type": "markdown",
   "id": "8e31040d",
   "metadata": {},
   "source": [
    "### Select the 'Name' column"
   ]
  },
  {
   "cell_type": "code",
   "execution_count": null,
   "id": "cbe7ae7f",
   "metadata": {},
   "outputs": [],
   "source": [
    "df['Name']"
   ]
  },
  {
   "cell_type": "markdown",
   "id": "773a4157",
   "metadata": {},
   "source": [
    "### Select multiple columns ('Name' and 'Age')"
   ]
  },
  {
   "cell_type": "code",
   "execution_count": null,
   "id": "6b0a2328",
   "metadata": {},
   "outputs": [],
   "source": [
    "df[['Name', 'Age']]"
   ]
  },
  {
   "cell_type": "markdown",
   "id": "52c5ea76",
   "metadata": {},
   "source": [
    "### Filter rows where Age is greater than 23"
   ]
  },
  {
   "cell_type": "code",
   "execution_count": null,
   "id": "e97b54b3",
   "metadata": {},
   "outputs": [],
   "source": [
    "df[df['Age'] > 23]"
   ]
  },
  {
   "cell_type": "markdown",
   "id": "1e06e667",
   "metadata": {},
   "source": [
    "### Filter rows where Age is equal to 22"
   ]
  },
  {
   "cell_type": "code",
   "execution_count": null,
   "id": "7aa8d505",
   "metadata": {},
   "outputs": [],
   "source": [
    "df[df['Age'] == 22]"
   ]
  },
  {
   "cell_type": "markdown",
   "id": "e97af261",
   "metadata": {},
   "source": [
    "### Add a new column 'Gender' with default values"
   ]
  },
  {
   "cell_type": "code",
   "execution_count": null,
   "id": "27ec28c3",
   "metadata": {},
   "outputs": [],
   "source": [
    "df['Gender'] = ['Male', 'Male', 'Male', 'Male', 'Male', 'Male']\n",
    "df"
   ]
  },
  {
   "cell_type": "markdown",
   "id": "a381fd0c",
   "metadata": {},
   "source": [
    "### Update values in a column (e.g., change Age of index 0)"
   ]
  },
  {
   "cell_type": "code",
   "execution_count": null,
   "id": "56071c5a",
   "metadata": {},
   "outputs": [],
   "source": [
    "df.at[0, 'Age'] = 25\n",
    "df"
   ]
  },
  {
   "cell_type": "markdown",
   "id": "9065773b",
   "metadata": {},
   "source": [
    "### Sort DataFrame by 'Age'"
   ]
  },
  {
   "cell_type": "code",
   "execution_count": null,
   "id": "46f3358c",
   "metadata": {},
   "outputs": [],
   "source": [
    "df.sort_values(by='Age')"
   ]
  },
  {
   "cell_type": "markdown",
   "id": "86ef551e",
   "metadata": {},
   "source": [
    "### Sort DataFrame by 'Age' in descending order"
   ]
  },
  {
   "cell_type": "code",
   "execution_count": null,
   "id": "4c8e0d32",
   "metadata": {},
   "outputs": [],
   "source": [
    "df.sort_values(by='Age', ascending=False)"
   ]
  },
  {
   "cell_type": "markdown",
   "id": "55ca454a",
   "metadata": {},
   "source": [
    "### Check for missing values in the DataFrame"
   ]
  },
  {
   "cell_type": "code",
   "execution_count": null,
   "id": "3c1c050c",
   "metadata": {},
   "outputs": [],
   "source": [
    "df.isnull().sum()"
   ]
  },
  {
   "cell_type": "markdown",
   "id": "ef5aec2f",
   "metadata": {},
   "source": [
    "### Rename the 'Age' column to 'Years'"
   ]
  },
  {
   "cell_type": "code",
   "execution_count": null,
   "id": "78673ef0",
   "metadata": {},
   "outputs": [],
   "source": [
    "df.rename(columns={'Age': 'Years'})"
   ]
  },
  {
   "cell_type": "markdown",
   "id": "43d393aa",
   "metadata": {},
   "source": [
    "### Reset the DataFrame index"
   ]
  },
  {
   "cell_type": "code",
   "execution_count": null,
   "id": "f81f3470",
   "metadata": {},
   "outputs": [],
   "source": [
    "df.reset_index(drop=True)"
   ]
  },
  {
   "cell_type": "markdown",
   "id": "ccb0fdf1",
   "metadata": {},
   "source": [
    "### Drop a column (e.g., 'Gender')"
   ]
  },
  {
   "cell_type": "code",
   "execution_count": null,
   "id": "4de9ee45",
   "metadata": {},
   "outputs": [],
   "source": [
    "df.drop(columns=['Gender'])"
   ]
  },
  {
   "cell_type": "markdown",
   "id": "d154e110",
   "metadata": {},
   "source": [
    "### Calculate the mean age"
   ]
  },
  {
   "cell_type": "code",
   "execution_count": null,
   "id": "d8f6ee7b",
   "metadata": {},
   "outputs": [],
   "source": [
    "df['Age'].mean()"
   ]
  },
  {
   "cell_type": "markdown",
   "id": "eae1cf14",
   "metadata": {},
   "source": [
    "### Group by 'Age' and count"
   ]
  },
  {
   "cell_type": "code",
   "execution_count": null,
   "id": "c72b3470",
   "metadata": {},
   "outputs": [],
   "source": [
    "df.groupby('Age').size()"
   ]
  }
 ],
 "metadata": {
  "kernelspec": {
   "display_name": "Python 3",
   "language": "python",
   "name": "python3"
  },
  "language_info": {
   "codemirror_mode": {
    "name": "ipython",
    "version": 3
   },
   "file_extension": ".py",
   "mimetype": "text/x-python",
   "name": "python",
   "nbconvert_exporter": "python",
   "pygments_lexer": "ipython3",
   "version": "3.11.9"
  }
 },
 "nbformat": 4,
 "nbformat_minor": 5
}
