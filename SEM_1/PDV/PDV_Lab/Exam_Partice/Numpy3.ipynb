{
 "cells": [
  {
   "cell_type": "markdown",
   "id": "ce798e86",
   "metadata": {},
   "source": [
    "# Basic Numpy Operations with 2D and 3D Arrays"
   ]
  },
  {
   "cell_type": "markdown",
   "id": "7716fc8e",
   "metadata": {},
   "source": [
    "\n",
    "This notebook introduces basic numpy operations focusing on 2D and 3D arrays. \n",
    "The operations include creating arrays, accessing elements, slicing, reshaping, and performing some basic mathematical operations.\n"
   ]
  },
  {
   "cell_type": "code",
   "execution_count": null,
   "id": "8be3e954",
   "metadata": {},
   "outputs": [],
   "source": [
    "import numpy as np"
   ]
  },
  {
   "cell_type": "markdown",
   "id": "7ae01cf5",
   "metadata": {},
   "source": [
    "## Creating a 2D Array"
   ]
  },
  {
   "cell_type": "code",
   "execution_count": null,
   "id": "bc777a7a",
   "metadata": {},
   "outputs": [],
   "source": [
    "\n",
    "# Creating a 2D array (matrix) of shape (3, 3)\n",
    "array_2d = np.array([[1, 2, 3], [4, 5, 6], [7, 8, 9]])\n",
    "array_2d\n"
   ]
  },
  {
   "cell_type": "markdown",
   "id": "d347afd0",
   "metadata": {},
   "source": [
    "## Accessing Elements in a 2D Array"
   ]
  },
  {
   "cell_type": "code",
   "execution_count": null,
   "id": "08dd0adc",
   "metadata": {},
   "outputs": [],
   "source": [
    "\n",
    "# Accessing element at row 1, column 2\n",
    "element = array_2d[1, 2]\n",
    "element\n"
   ]
  },
  {
   "cell_type": "markdown",
   "id": "98442085",
   "metadata": {},
   "source": [
    "## Slicing a 2D Array"
   ]
  },
  {
   "cell_type": "code",
   "execution_count": null,
   "id": "3298f289",
   "metadata": {},
   "outputs": [],
   "source": [
    "\n",
    "# Selecting a subarray (first two rows and last two columns)\n",
    "subarray_2d = array_2d[:2, 1:]\n",
    "subarray_2d\n"
   ]
  },
  {
   "cell_type": "markdown",
   "id": "c1eb1c67",
   "metadata": {},
   "source": [
    "## Creating a 3D Array"
   ]
  },
  {
   "cell_type": "code",
   "execution_count": null,
   "id": "967eed99",
   "metadata": {},
   "outputs": [],
   "source": [
    "\n",
    "# Creating a 3D array of shape (2, 3, 3)\n",
    "array_3d = np.array([\n",
    "    [[1, 2, 3], [4, 5, 6], [7, 8, 9]],\n",
    "    [[10, 11, 12], [13, 14, 15], [16, 17, 18]]\n",
    "])\n",
    "array_3d\n"
   ]
  },
  {
   "cell_type": "markdown",
   "id": "f9fd53f1",
   "metadata": {},
   "source": [
    "## Accessing Elements in a 3D Array"
   ]
  },
  {
   "cell_type": "code",
   "execution_count": null,
   "id": "cf67fd0e",
   "metadata": {},
   "outputs": [],
   "source": [
    "\n",
    "# Accessing element at depth 1, row 0, column 1\n",
    "element_3d = array_3d[1, 0, 1]\n",
    "element_3d\n"
   ]
  },
  {
   "cell_type": "markdown",
   "id": "1e78ec84",
   "metadata": {},
   "source": [
    "## Slicing a 3D Array"
   ]
  },
  {
   "cell_type": "code",
   "execution_count": null,
   "id": "2be1b847",
   "metadata": {},
   "outputs": [],
   "source": [
    "\n",
    "# Selecting a subarray (first depth layer, first two rows, all columns)\n",
    "subarray_3d = array_3d[0, :2, :]\n",
    "subarray_3d\n"
   ]
  },
  {
   "cell_type": "markdown",
   "id": "3a9ef2f3",
   "metadata": {},
   "source": [
    "## Basic Mathematical Operations on 2D Array"
   ]
  },
  {
   "cell_type": "code",
   "execution_count": null,
   "id": "c386f4bb",
   "metadata": {},
   "outputs": [],
   "source": [
    "\n",
    "# Summing all elements in the 2D array\n",
    "sum_2d = np.sum(array_2d)\n",
    "sum_2d\n"
   ]
  },
  {
   "cell_type": "markdown",
   "id": "b5073c7f",
   "metadata": {},
   "source": [
    "## Reshaping Arrays"
   ]
  },
  {
   "cell_type": "code",
   "execution_count": null,
   "id": "54a81640",
   "metadata": {},
   "outputs": [],
   "source": [
    "\n",
    "# Reshaping 2D array to a 1D array of 9 elements\n",
    "reshaped_array = array_2d.reshape(9)\n",
    "reshaped_array\n"
   ]
  }
 ],
 "metadata": {},
 "nbformat": 4,
 "nbformat_minor": 5
}
