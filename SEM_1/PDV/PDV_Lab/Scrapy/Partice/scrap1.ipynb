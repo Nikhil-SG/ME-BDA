{
 "cells": [
  {
   "cell_type": "code",
   "execution_count": 1,
   "metadata": {},
   "outputs": [],
   "source": [
    "from bs4 import BeautifulSoup\n",
    "import requests"
   ]
  },
  {
   "cell_type": "code",
   "execution_count": 11,
   "metadata": {},
   "outputs": [],
   "source": [
    "url = 'https://www.timesjobs.com/candidate/job-search.html?searchType=personalizedSearch&from=submit&searchTextSrc=&searchTextText=&txtKeywords=python&txtLocation='\n",
    "html_txt = requests.get(url).text"
   ]
  },
  {
   "cell_type": "code",
   "execution_count": 18,
   "metadata": {},
   "outputs": [
    {
     "name": "stdout",
     "output_type": "stream",
     "text": [
      "\n",
      "virtusaconsultingservicespvt.ltd.\n",
      "\n",
      "\n"
     ]
    }
   ],
   "source": [
    "soup = BeautifulSoup(html_txt,'lxml')\n",
    "jobs = soup.find(class_='clearfix job-bx wht-shd-bx')\n",
    "job = jobs.find(class_=\"joblist-comp-name\").text.replace(' ','')\n",
    "print(job)\n"
   ]
  },
  {
   "cell_type": "code",
   "execution_count": 29,
   "metadata": {},
   "outputs": [
    {
     "name": "stdout",
     "output_type": "stream",
     "text": [
      "Company Name: virtusaconsultingservicespvt.ltd.\n",
      "Required Skills: pythondevelopment,objectorientedprogramming,testdrivendevelopment,databaseconnectors,linuxenvironment,git,api\n",
      "Job Link: https://www.timesjobs.com/job-detail/python-virtusa-consulting-services-pvt-ltd-pune-8-to-11-yrs-jobid-PRoGGHjEoVVzpSvf__PLUS__uAgZw==&source=srp\n",
      "\n",
      "Company Name: arttechnologyandsoftwareindiapvtltd\n",
      "Required Skills: rest,python,database,django,api\n",
      "Job Link: https://www.timesjobs.com/job-detail/python-developer-art-technology-and-software-india-pvt-ltd-cochin-kochi-ernakulam-2-to-3-yrs-jobid-LwuulL9CkdpzpSvf__PLUS__uAgZw==&source=srp\n",
      "\n",
      "Company Name: CONNECTING2WORK\n",
      "Required Skills: rest,python,django,mongodb\n",
      "Job Link: https://www.timesjobs.com/job-detail/python-trainer-connecting-2-work-calicut-kozhikode-0-to-3-yrs-jobid-MFJXBwZBWVhzpSvf__PLUS__uAgZw==&source=srp\n",
      "\n",
      "Company Name: eastindiasecuritiesltd.\n",
      "Required Skills: python,hadoop,machinelearning\n",
      "Job Link: https://www.timesjobs.com/job-detail/python-engineer-east-india-securities-ltd-kolkata-2-to-5-yrs-jobid-O9JSjUglX3hzpSvf__PLUS__uAgZw==&source=srp\n",
      "\n",
      "Company Name: LAKSHHUMANRESOURCE\n",
      "Required Skills: rest,python,django,git\n",
      "Job Link: https://www.timesjobs.com/job-detail/python-developer-laksh-human-resource-mumbai-1-to-3-yrs-jobid-uUEqcx71MRdzpSvf__PLUS__uAgZw==&source=srp\n",
      "\n",
      "Company Name: xoniertechnologiespvtltd\n",
      "Required Skills: python,django,testingtools,debugging,storage\n",
      "Job Link: https://www.timesjobs.com/job-detail/python-developer-xonier-technologies-pvt-ltd-noida-greater-noida-2-to-5-yrs-jobid-zOHQ8Tw7IgRzpSvf__PLUS__uAgZw==&source=srp\n",
      "\n",
      "Company Name: day1technologies\n",
      "Required Skills: rest,python,django,git,postgresql,sql,docker\n",
      "Job Link: https://www.timesjobs.com/job-detail/python-developer-day1-technologies-bengaluru-bangalore-2-to-3-yrs-jobid-5yTMsjn5vkJzpSvf__PLUS__uAgZw==&source=srp\n",
      "\n",
      "Company Name: zengatv\n",
      "Required Skills: python,django,html5,javascript\n",
      "Job Link: https://www.timesjobs.com/job-detail/python-developer-zenga-tv-gurgaon-2-to-5-yrs-jobid-cQGeFhRqgNdzpSvf__PLUS__uAgZw==&source=srp\n",
      "\n"
     ]
    }
   ],
   "source": [
    "jobs = soup.find_all(class_ = 'clearfix job-bx wht-shd-bx')\n",
    "for job in jobs:\n",
    "    dates = job.find(class_ = 'sim-posted').span.text.replace(' ','')\n",
    "    if 'few' in dates:\n",
    "        company = job.find(class_ = 'joblist-comp-name').text.replace(' ','')\n",
    "        skills = job.find(class_ = 'srp-skills').text.replace(' ','')\n",
    "        joblink = job.header.a['href']\n",
    "        print(f'Company Name: {company.strip()}')\n",
    "        print(f'Required Skills: {skills.strip()}')\n",
    "        print(f'Job Link: {joblink}')\n",
    "\n",
    "        print('')"
   ]
  }
 ],
 "metadata": {
  "kernelspec": {
   "display_name": "Python 3",
   "language": "python",
   "name": "python3"
  },
  "language_info": {
   "codemirror_mode": {
    "name": "ipython",
    "version": 3
   },
   "file_extension": ".py",
   "mimetype": "text/x-python",
   "name": "python",
   "nbconvert_exporter": "python",
   "pygments_lexer": "ipython3",
   "version": "3.11.9"
  }
 },
 "nbformat": 4,
 "nbformat_minor": 2
}
