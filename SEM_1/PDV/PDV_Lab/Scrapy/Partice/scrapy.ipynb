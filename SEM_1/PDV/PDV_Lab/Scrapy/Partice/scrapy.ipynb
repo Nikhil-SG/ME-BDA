{
 "cells": [
  {
   "cell_type": "code",
   "execution_count": 1,
   "metadata": {},
   "outputs": [],
   "source": [
    "from bs4 import BeautifulSoup\n",
    "import requests"
   ]
  },
  {
   "cell_type": "code",
   "execution_count": 5,
   "metadata": {},
   "outputs": [],
   "source": [
    "with open('home.html','r') as html_file:\n",
    "    content = html_file.read()"
   ]
  },
  {
   "cell_type": "code",
   "execution_count": 6,
   "metadata": {},
   "outputs": [
    {
     "data": {
      "text/plain": [
       "'<!doctype html>\\n<html lang=\"en\">\\n   <head>\\n      <meta charset=\"utf-8\">\\n      <meta name=\"viewport\" content=\"width=device-width, initial-scale=1, shrink-to-fit=no\">\\n      <link rel=\"stylesheet\" href=\"https://stackpath.bootstrapcdn.com/bootstrap/4.5.2/css/bootstrap.min.css\" integrity=\"sha384-JcKb8q3iqJ61gNV9KGb8thSsNjpSL0n8PARn9HuZOnIxN0hoP+VmmDGMN5t9UJ0Z\" crossorigin=\"anonymous\">\\n      <title>My Courses</title>\\n   </head>\\n   <body>\\n      <h1>Hello, Start Learning!</h1>\\n      <div class=\"card\" id=\"card-python-for-beginners\">\\n         <div class=\"card-header\">\\n            Python\\n         </div>\\n         <div class=\"card-body\">\\n            <h5 class=\"card-title\">Python for beginners</h5>\\n            <p class=\"card-text\">If you are new to Python, this is the course that you should buy!</p>\\n            <a href=\"#\" class=\"btn btn-primary\">Start for 20$</a>\\n         </div>\\n      </div>\\n      <div class=\"card\" id=\"card-python-web-development\">\\n         <div class=\"card-header\">\\n            Python\\n         </div>\\n         <div class=\"card-body\">\\n            <h5 class=\"card-title\">Python Web Development</h5>\\n            <p class=\"card-text\">If you feel enough confident with python, you are ready to learn how to create your own website!</p>\\n            <a href=\"#\" class=\"btn btn-primary\">Start for 50$</a>\\n         </div>\\n      </div>\\n      <div class=\"card\" id=\"card-python-machine-learning\">\\n         <div class=\"card-header\">\\n            Python\\n         </div>\\n         <div class=\"card-body\">\\n            <h5 class=\"card-title\">Python Machine Learning</h5>\\n            <p class=\"card-text\">Become a Python Machine Learning master!</p>\\n            <a href=\"#\" class=\"btn btn-primary\">Start for 100$</a>\\n         </div>\\n      </div>\\n   </body>\\n</html>'"
      ]
     },
     "execution_count": 6,
     "metadata": {},
     "output_type": "execute_result"
    }
   ],
   "source": [
    "content"
   ]
  },
  {
   "cell_type": "code",
   "execution_count": 7,
   "metadata": {},
   "outputs": [
    {
     "name": "stdout",
     "output_type": "stream",
     "text": [
      "<!DOCTYPE html>\n",
      "<html lang=\"en\">\n",
      " <head>\n",
      "  <meta charset=\"utf-8\"/>\n",
      "  <meta content=\"width=device-width, initial-scale=1, shrink-to-fit=no\" name=\"viewport\"/>\n",
      "  <link crossorigin=\"anonymous\" href=\"https://stackpath.bootstrapcdn.com/bootstrap/4.5.2/css/bootstrap.min.css\" integrity=\"sha384-JcKb8q3iqJ61gNV9KGb8thSsNjpSL0n8PARn9HuZOnIxN0hoP+VmmDGMN5t9UJ0Z\" rel=\"stylesheet\"/>\n",
      "  <title>\n",
      "   My Courses\n",
      "  </title>\n",
      " </head>\n",
      " <body>\n",
      "  <h1>\n",
      "   Hello, Start Learning!\n",
      "  </h1>\n",
      "  <div class=\"card\" id=\"card-python-for-beginners\">\n",
      "   <div class=\"card-header\">\n",
      "    Python\n",
      "   </div>\n",
      "   <div class=\"card-body\">\n",
      "    <h5 class=\"card-title\">\n",
      "     Python for beginners\n",
      "    </h5>\n",
      "    <p class=\"card-text\">\n",
      "     If you are new to Python, this is the course that you should buy!\n",
      "    </p>\n",
      "    <a class=\"btn btn-primary\" href=\"#\">\n",
      "     Start for 20$\n",
      "    </a>\n",
      "   </div>\n",
      "  </div>\n",
      "  <div class=\"card\" id=\"card-python-web-development\">\n",
      "   <div class=\"card-header\">\n",
      "    Python\n",
      "   </div>\n",
      "   <div class=\"card-body\">\n",
      "    <h5 class=\"card-title\">\n",
      "     Python Web Development\n",
      "    </h5>\n",
      "    <p class=\"card-text\">\n",
      "     If you feel enough confident with python, you are ready to learn how to create your own website!\n",
      "    </p>\n",
      "    <a class=\"btn btn-primary\" href=\"#\">\n",
      "     Start for 50$\n",
      "    </a>\n",
      "   </div>\n",
      "  </div>\n",
      "  <div class=\"card\" id=\"card-python-machine-learning\">\n",
      "   <div class=\"card-header\">\n",
      "    Python\n",
      "   </div>\n",
      "   <div class=\"card-body\">\n",
      "    <h5 class=\"card-title\">\n",
      "     Python Machine Learning\n",
      "    </h5>\n",
      "    <p class=\"card-text\">\n",
      "     Become a Python Machine Learning master!\n",
      "    </p>\n",
      "    <a class=\"btn btn-primary\" href=\"#\">\n",
      "     Start for 100$\n",
      "    </a>\n",
      "   </div>\n",
      "  </div>\n",
      " </body>\n",
      "</html>\n",
      "\n"
     ]
    }
   ],
   "source": [
    "soup = BeautifulSoup(content,'lxml')\n",
    "print(soup.prettify())"
   ]
  },
  {
   "cell_type": "code",
   "execution_count": 13,
   "metadata": {},
   "outputs": [
    {
     "data": {
      "text/plain": [
       "[<div class=\"card\" id=\"card-python-for-beginners\">\n",
       " <div class=\"card-header\">\n",
       "             Python\n",
       "          </div>\n",
       " <div class=\"card-body\">\n",
       " <h5 class=\"card-title\">Python for beginners</h5>\n",
       " <p class=\"card-text\">If you are new to Python, this is the course that you should buy!</p>\n",
       " <a class=\"btn btn-primary\" href=\"#\">Start for 20$</a>\n",
       " </div>\n",
       " </div>,\n",
       " <div class=\"card\" id=\"card-python-web-development\">\n",
       " <div class=\"card-header\">\n",
       "             Python\n",
       "          </div>\n",
       " <div class=\"card-body\">\n",
       " <h5 class=\"card-title\">Python Web Development</h5>\n",
       " <p class=\"card-text\">If you feel enough confident with python, you are ready to learn how to create your own website!</p>\n",
       " <a class=\"btn btn-primary\" href=\"#\">Start for 50$</a>\n",
       " </div>\n",
       " </div>,\n",
       " <div class=\"card\" id=\"card-python-machine-learning\">\n",
       " <div class=\"card-header\">\n",
       "             Python\n",
       "          </div>\n",
       " <div class=\"card-body\">\n",
       " <h5 class=\"card-title\">Python Machine Learning</h5>\n",
       " <p class=\"card-text\">Become a Python Machine Learning master!</p>\n",
       " <a class=\"btn btn-primary\" href=\"#\">Start for 100$</a>\n",
       " </div>\n",
       " </div>]"
      ]
     },
     "execution_count": 13,
     "metadata": {},
     "output_type": "execute_result"
    }
   ],
   "source": [
    "course = soup.find_all('div',class_ = 'card')\n",
    "course"
   ]
  },
  {
   "cell_type": "code",
   "execution_count": 17,
   "metadata": {},
   "outputs": [
    {
     "name": "stdout",
     "output_type": "stream",
     "text": [
      "Python for beginners\n",
      "20$\n",
      "Python Web Development\n",
      "50$\n",
      "Python Machine Learning\n",
      "100$\n"
     ]
    }
   ],
   "source": [
    "for courses in course:\n",
    "    c = courses.h5.text\n",
    "    p = courses.a.text\n",
    "    print(c)\n",
    "    print(p)\n"
   ]
  }
 ],
 "metadata": {
  "kernelspec": {
   "display_name": "Python 3",
   "language": "python",
   "name": "python3"
  },
  "language_info": {
   "codemirror_mode": {
    "name": "ipython",
    "version": 3
   },
   "file_extension": ".py",
   "mimetype": "text/x-python",
   "name": "python",
   "nbconvert_exporter": "python",
   "pygments_lexer": "ipython3",
   "version": "3.11.9"
  }
 },
 "nbformat": 4,
 "nbformat_minor": 2
}
