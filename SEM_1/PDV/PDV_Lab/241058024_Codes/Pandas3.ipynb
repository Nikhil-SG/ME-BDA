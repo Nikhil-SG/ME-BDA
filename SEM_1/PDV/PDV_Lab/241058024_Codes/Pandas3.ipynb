{
 "cells": [
  {
   "cell_type": "code",
   "execution_count": 1,
   "metadata": {},
   "outputs": [
    {
     "name": "stdout",
     "output_type": "stream",
     "text": [
      "      Name  Age\n",
      "0   Nikhil   22\n",
      "1  Karthik   26\n",
      "2   Nithik   23\n",
      "3   Sanjay   23\n",
      "4    Akash   22\n",
      "5    Pavan   27\n"
     ]
    }
   ],
   "source": [
    "import pandas as pd\n",
    "data = {'Name':['Nikhil','Karthik','Nithik','Sanjay','Akash','Pavan'],\n",
    "        'Age':[22,26,23,23,22,27],}\n",
    "df = pd.DataFrame(data)\n",
    "print(df)"
   ]
  },
  {
   "cell_type": "code",
   "execution_count": 2,
   "metadata": {},
   "outputs": [
    {
     "name": "stdout",
     "output_type": "stream",
     "text": [
      "0     Nikhil\n",
      "1    Karthik\n",
      "2     Nithik\n",
      "3     Sanjay\n",
      "4      Akash\n",
      "5      Pavan\n",
      "Name: Name, dtype: object\n"
     ]
    }
   ],
   "source": [
    "print(df['Name'])"
   ]
  },
  {
   "cell_type": "code",
   "execution_count": 3,
   "metadata": {},
   "outputs": [
    {
     "name": "stdout",
     "output_type": "stream",
     "text": [
      "      Name  Age\n",
      "0   Nikhil   22\n",
      "1  Karthik   26\n",
      "2   Nithik   23\n",
      "3   Sanjay   23\n",
      "4    Akash   22\n",
      "5    Pavan   27\n"
     ]
    }
   ],
   "source": [
    "print(df[['Name','Age']])"
   ]
  },
  {
   "cell_type": "code",
   "execution_count": 4,
   "metadata": {},
   "outputs": [
    {
     "name": "stdout",
     "output_type": "stream",
     "text": [
      "Name    Nikhil\n",
      "Age         22\n",
      "Name: 0, dtype: object\n"
     ]
    }
   ],
   "source": [
    "print(df.iloc[0])"
   ]
  },
  {
   "cell_type": "code",
   "execution_count": 5,
   "metadata": {},
   "outputs": [
    {
     "name": "stdout",
     "output_type": "stream",
     "text": [
      "Nikhil\n"
     ]
    }
   ],
   "source": [
    "print(df.loc[0,'Name'])"
   ]
  },
  {
   "cell_type": "code",
   "execution_count": 6,
   "metadata": {},
   "outputs": [],
   "source": [
    "df['Mark'] = [99,98,99,98,99,98]"
   ]
  },
  {
   "cell_type": "code",
   "execution_count": 7,
   "metadata": {},
   "outputs": [
    {
     "name": "stdout",
     "output_type": "stream",
     "text": [
      "      Name  Age  Mark\n",
      "0   Nikhil   22    99\n",
      "1  Karthik   26    98\n",
      "2   Nithik   23    99\n",
      "3   Sanjay   23    98\n",
      "4    Akash   22    99\n",
      "5    Pavan   27    98\n"
     ]
    }
   ],
   "source": [
    "print(df)"
   ]
  },
  {
   "cell_type": "code",
   "execution_count": 12,
   "metadata": {},
   "outputs": [
    {
     "name": "stdout",
     "output_type": "stream",
     "text": [
      "      Name  Age  Mark\n",
      "0   Nikhil   23    99\n",
      "1  Karthik   27    98\n",
      "2   Nithik   24    99\n",
      "3   Sanjay   24    98\n",
      "4    Akash   23    99\n",
      "5    Pavan   28    98\n"
     ]
    }
   ],
   "source": [
    "df['Age'] = df['Age'] + 1\n",
    "print(df)"
   ]
  },
  {
   "cell_type": "code",
   "execution_count": null,
   "metadata": {},
   "outputs": [],
   "source": []
  }
 ],
 "metadata": {
  "kernelspec": {
   "display_name": "Python 3",
   "language": "python",
   "name": "python3"
  },
  "language_info": {
   "codemirror_mode": {
    "name": "ipython",
    "version": 3
   },
   "file_extension": ".py",
   "mimetype": "text/x-python",
   "name": "python",
   "nbconvert_exporter": "python",
   "pygments_lexer": "ipython3",
   "version": "3.11.undefined"
  }
 },
 "nbformat": 4,
 "nbformat_minor": 2
}
