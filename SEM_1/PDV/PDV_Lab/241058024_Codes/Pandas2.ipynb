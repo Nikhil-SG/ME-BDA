{
 "cells": [
  {
   "cell_type": "markdown",
   "id": "df5f8dbb",
   "metadata": {},
   "source": [
    "# Basic Pandas Operations with Indian Cities"
   ]
  },
  {
   "cell_type": "markdown",
   "id": "e7b4ec4b",
   "metadata": {},
   "source": [
    "\n",
    "This notebook introduces basic pandas operations using a dataset of Indian cities. \n",
    "The operations include creating DataFrames, accessing data, filtering, grouping, and some basic statistical operations.\n"
   ]
  },
  {
   "cell_type": "code",
   "execution_count": null,
   "id": "d97d674c",
   "metadata": {},
   "outputs": [],
   "source": [
    "import pandas as pd\n",
    "import numpy as np"
   ]
  },
  {
   "cell_type": "markdown",
   "id": "587e5699",
   "metadata": {},
   "source": [
    "## Creating a DataFrame"
   ]
  },
  {
   "cell_type": "code",
   "execution_count": null,
   "id": "e3ffef01",
   "metadata": {},
   "outputs": [],
   "source": [
    "\n",
    "data = {\n",
    "    'City': ['Mumbai', 'Delhi', 'Bengaluru', 'Hyderabad', 'Ahmedabad', 'Chennai', 'Kolkata', 'Surat', 'Pune', 'Jaipur'],\n",
    "    'State': ['Maharashtra', 'Delhi', 'Karnataka', 'Telangana', 'Gujarat', 'Tamil Nadu', 'West Bengal', 'Gujarat', 'Maharashtra', 'Rajasthan'],\n",
    "    'Population': [20411000, 16787941, 8499399, 6809970, 5570585, 4681087, 4486679, 4467797, 3124458, 3046163],\n",
    "    'Area_km2': [603, 1484, 709, 650, 464, 426, 185, 326, 331, 484]\n",
    "}\n",
    "df = pd.DataFrame(data)\n",
    "df\n"
   ]
  },
  {
   "cell_type": "markdown",
   "id": "25405836",
   "metadata": {},
   "source": [
    "## Viewing the Data"
   ]
  },
  {
   "cell_type": "code",
   "execution_count": null,
   "id": "81a188d9",
   "metadata": {},
   "outputs": [],
   "source": [
    "\n",
    "# Show first few rows\n",
    "df.head()\n"
   ]
  },
  {
   "cell_type": "markdown",
   "id": "fe530ed0",
   "metadata": {},
   "source": [
    "## Basic Descriptive Statistics"
   ]
  },
  {
   "cell_type": "code",
   "execution_count": null,
   "id": "d4f2e841",
   "metadata": {},
   "outputs": [],
   "source": [
    "\n",
    "# Show basic statistics\n",
    "df.describe()\n"
   ]
  },
  {
   "cell_type": "markdown",
   "id": "4d13ff0b",
   "metadata": {},
   "source": [
    "## Selecting Columns"
   ]
  },
  {
   "cell_type": "code",
   "execution_count": null,
   "id": "721ebada",
   "metadata": {},
   "outputs": [],
   "source": [
    "\n",
    "# Select specific columns\n",
    "df[['City', 'Population']]\n"
   ]
  },
  {
   "cell_type": "markdown",
   "id": "fd5a28f2",
   "metadata": {},
   "source": [
    "## Filtering Rows"
   ]
  },
  {
   "cell_type": "code",
   "execution_count": null,
   "id": "d094546e",
   "metadata": {},
   "outputs": [],
   "source": [
    "\n",
    "# Filter cities with a population greater than 5 million\n",
    "df[df['Population'] > 5000000]\n"
   ]
  },
  {
   "cell_type": "markdown",
   "id": "fe8f5f90",
   "metadata": {},
   "source": [
    "## Sorting Data"
   ]
  },
  {
   "cell_type": "code",
   "execution_count": null,
   "id": "3b5c9f25",
   "metadata": {},
   "outputs": [],
   "source": [
    "\n",
    "# Sort cities by population in descending order\n",
    "df.sort_values(by='Population', ascending=False)\n"
   ]
  },
  {
   "cell_type": "markdown",
   "id": "a56e4d12",
   "metadata": {},
   "source": [
    "## Grouping Data"
   ]
  },
  {
   "cell_type": "code",
   "execution_count": null,
   "id": "0745af19",
   "metadata": {},
   "outputs": [],
   "source": [
    "\n",
    "# Group by State and sum Population\n",
    "df.groupby('State')['Population'].sum()\n"
   ]
  },
  {
   "cell_type": "markdown",
   "id": "a389680d",
   "metadata": {},
   "source": [
    "## Adding a New Column"
   ]
  },
  {
   "cell_type": "code",
   "execution_count": null,
   "id": "b2b435bd",
   "metadata": {},
   "outputs": [],
   "source": [
    "\n",
    "# Add a new column for population density\n",
    "df['Density'] = df['Population'] / df['Area_km2']\n",
    "df\n"
   ]
  }
 ],
 "metadata": {},
 "nbformat": 4,
 "nbformat_minor": 5
}
